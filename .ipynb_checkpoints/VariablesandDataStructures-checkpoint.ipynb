{
 "cells": [
  {
   "cell_type": "markdown",
   "id": "9b5de318",
   "metadata": {},
   "source": [
    "# Welcome to Python!"
   ]
  },
  {
   "cell_type": "markdown",
   "id": "2cc9c610",
   "metadata": {},
   "source": [
    "Python is a widely used language within the science community and outside of it! During this module, you will learn how to use python in many ways, such as creating plots, reading text files, and displaying data. Here, we will give a short introduction to the building blocks of code."
   ]
  },
  {
   "cell_type": "markdown",
   "id": "de6f04c7",
   "metadata": {},
   "source": [
    "<img src=\"https://miro.medium.com/v2/resize:fit:1400/format:webp/1*Ud_bNdeWPf4iN1EcydaDFA.png\">"
   ]
  },
  {
   "cell_type": "markdown",
   "id": "4412845a",
   "metadata": {},
   "source": [
    "By the end of this section you should:\n",
    "* **know the different types of variables**\n",
    "* **how to create a variable**\n",
    "* **how to write code**"
   ]
  },
  {
   "cell_type": "markdown",
   "id": "245142c6",
   "metadata": {},
   "source": [
    "## Variables"
   ]
  },
  {
   "cell_type": "markdown",
   "id": "a2a64d79",
   "metadata": {},
   "source": [
    "Variables are how we store data in code. It also helps keep our code organized and helps reduce mistakes that could happen along the way. In python, there are different types of variables, such as:\n",
    "* **integers**\n",
    "* **floats**\n",
    "* **strings**\n",
    "* **lists**\n",
    "* **arrays**"
   ]
  },
  {
   "cell_type": "markdown",
   "id": "e96edd6e",
   "metadata": {},
   "source": [
    "### Integers"
   ]
  },
  {
   "cell_type": "markdown",
   "id": "740c299b",
   "metadata": {},
   "source": [
    "Integers are exactly what they sounds like: they store **only** integral values (i.e., whole numbers). An example of integer is:"
   ]
  },
  {
   "cell_type": "code",
   "execution_count": 3,
   "id": "e009e946",
   "metadata": {
    "scrolled": false
   },
   "outputs": [
    {
     "name": "stdout",
     "output_type": "stream",
     "text": [
      "2\n"
     ]
    }
   ],
   "source": [
    "a = 2\n",
    "print(a)"
   ]
  },
  {
   "cell_type": "markdown",
   "id": "79d040df",
   "metadata": {},
   "source": [
    "### Floats"
   ]
  },
  {
   "cell_type": "markdown",
   "id": "ee9c85ee",
   "metadata": {},
   "source": [
    "Though similiar to integers, floats are slightly different. Floats store values that have potential decimal points. An example of a float:"
   ]
  },
  {
   "cell_type": "code",
   "execution_count": 4,
   "id": "90bb1121",
   "metadata": {},
   "outputs": [
    {
     "name": "stdout",
     "output_type": "stream",
     "text": [
      "2.0\n"
     ]
    }
   ],
   "source": [
    "b = 2.0\n",
    "print(b)"
   ]
  },
  {
   "cell_type": "markdown",
   "id": "0cebc2b5",
   "metadata": {},
   "source": [
    "### Strings"
   ]
  },
  {
   "cell_type": "markdown",
   "id": "c7adcc23",
   "metadata": {},
   "source": [
    "Strings are groups of characters that is defined by quotation marks. Although they can be manipulated using math functions (i.e., addition, subtraction, division), strings are not treated as numbers. An example of a string is:"
   ]
  },
  {
   "cell_type": "code",
   "execution_count": 11,
   "id": "234b0e7b",
   "metadata": {},
   "outputs": [
    {
     "name": "stdout",
     "output_type": "stream",
     "text": [
      "Liza, Hayley, Katie\n"
     ]
    }
   ],
   "source": [
    "names = 'Liza, Hayley, Katie'\n",
    "print(names)"
   ]
  },
  {
   "cell_type": "markdown",
   "id": "81cde816",
   "metadata": {},
   "source": [
    "### Lists and Arrays"
   ]
  },
  {
   "cell_type": "markdown",
   "id": "2095d3f3",
   "metadata": {},
   "source": [
    "Lists and arrays are similiar to one another; however, there are some major differences. Lists are defined by square brackets, are one-dimensional, and can store various data types (e.g., numbers, words)."
   ]
  },
  {
   "cell_type": "code",
   "execution_count": 13,
   "id": "e56ed23e",
   "metadata": {},
   "outputs": [
    {
     "name": "stdout",
     "output_type": "stream",
     "text": [
      "['This Charming Man', 'Break My Stride', 'Sir Duke', '212']\n"
     ]
    }
   ],
   "source": [
    "songs = ['This Charming Man', 'Break My Stride', 'Sir Duke', '212']\n",
    "print(songs)"
   ]
  },
  {
   "cell_type": "markdown",
   "id": "336704f5",
   "metadata": {},
   "source": [
    "Arrays can store more than one item at the same time; however, they can only store one data type. Arrays are defined by through Numpy, which is a numerical library widely used in python. To make an array, you must first import numpy and then use the array function."
   ]
  },
  {
   "cell_type": "code",
   "execution_count": 15,
   "id": "b7e4d207",
   "metadata": {},
   "outputs": [
    {
     "name": "stdout",
     "output_type": "stream",
     "text": [
      "[1 2 3 4 5]\n"
     ]
    }
   ],
   "source": [
    "import numpy\n",
    "numbers = numpy.array([1, 2, 3, 4, 5])\n",
    "print(numbers)"
   ]
  },
  {
   "cell_type": "markdown",
   "id": "6e77d23e",
   "metadata": {},
   "source": [
    "Both lists and arrays can be manipulated by mathematical operators (though lists can only be manipulated by addition and subtraction). See the examples below:"
   ]
  },
  {
   "cell_type": "code",
   "execution_count": 18,
   "id": "3c99a9a2",
   "metadata": {},
   "outputs": [
    {
     "name": "stdout",
     "output_type": "stream",
     "text": [
      "['This Charming Man', 'Break My Stride', 'Sir Duke', 'The Spins', 'The Smtihs', 'Matthew Wilder', 'Stevie Wonder', 'Mac Miller']\n"
     ]
    }
   ],
   "source": [
    "songs = ['This Charming Man', 'Break My Stride', 'Sir Duke', 'The Spins']\n",
    "artists = ['The Smtihs','Matthew Wilder', 'Stevie Wonder','Mac Miller']\n",
    "newlist = songs + artists\n",
    "print(newlist)"
   ]
  },
  {
   "cell_type": "code",
   "execution_count": 19,
   "id": "4672052e",
   "metadata": {},
   "outputs": [
    {
     "name": "stdout",
     "output_type": "stream",
     "text": [
      "[ 26 100  99 392]\n"
     ]
    }
   ],
   "source": [
    "import numpy\n",
    "price = numpy.array([13, 20, 33, 56])\n",
    "amount = numpy.array([2, 5, 3, 7])\n",
    "total = price * amount\n",
    "print(total)"
   ]
  },
  {
   "cell_type": "markdown",
   "id": "c533f6f3",
   "metadata": {},
   "source": [
    "Notice that the it does not print out the total of the arrays. It will return an array of the same size of the previous arrays. To manipulate arrays with mathematical expressions, they must be of the same size."
   ]
  },
  {
   "cell_type": "markdown",
   "id": "7a0a63d4",
   "metadata": {},
   "source": [
    "## How to create a variable"
   ]
  },
  {
   "cell_type": "markdown",
   "id": "02de6390",
   "metadata": {},
   "source": [
    "Now that we know the types of variables, let's practice creating some."
   ]
  },
  {
   "cell_type": "code",
   "execution_count": null,
   "id": "3fe822e4",
   "metadata": {},
   "outputs": [],
   "source": []
  }
 ],
 "metadata": {
  "kernelspec": {
   "display_name": "Python 3 (ipykernel)",
   "language": "python",
   "name": "python3"
  },
  "language_info": {
   "codemirror_mode": {
    "name": "ipython",
    "version": 3
   },
   "file_extension": ".py",
   "mimetype": "text/x-python",
   "name": "python",
   "nbconvert_exporter": "python",
   "pygments_lexer": "ipython3",
   "version": "3.9.13"
  }
 },
 "nbformat": 4,
 "nbformat_minor": 5
}
