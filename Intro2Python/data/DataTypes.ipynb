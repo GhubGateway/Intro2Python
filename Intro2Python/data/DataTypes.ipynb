{
  "cells": [
    {
      "cell_type": "markdown",
      "metadata": {
        "id": "view-in-github",
        "colab_type": "text"
      },
      "source": [
        "<a href=\"https://colab.research.google.com/github/iSwiin/Intro2Python/blob/main/Intro2Python/data/DataTypes.ipynb\" target=\"_parent\"><img src=\"https://colab.research.google.com/assets/colab-badge.svg\" alt=\"Open In Colab\"/></a>"
      ]
    },
    {
      "cell_type": "markdown",
      "metadata": {
        "id": "jfmSxwo1bDn6"
      },
      "source": [
        "# Data Types"
      ],
      "id": "jfmSxwo1bDn6"
    },
    {
      "cell_type": "markdown",
      "metadata": {
        "id": "SkTHrqRubDn7"
      },
      "source": [
        "When building code, we'll need \"**_containers_**\" that will store our information. These containers are known as <ins>**variables and data structures**</ins>. Each data type has its own purpose, as we'll see below yes."
      ],
      "id": "SkTHrqRubDn7"
    },
    {
      "cell_type": "markdown",
      "metadata": {
        "id": "aiVOU85JbDn8"
      },
      "source": [
        "<img src = \"https://img.devrant.com/devrant/rant/r_1475844_Qk9zT.jpg\" width=\"400\">"
      ],
      "id": "aiVOU85JbDn8"
    },
    {
      "cell_type": "markdown",
      "metadata": {
        "id": "GKiko5DibDn8"
      },
      "source": [
        "By the end, you will:\n",
        "* be introduced to **different variables**: **[integers](#Integers), [floats](#Floats), [strings](#Strings)**\n",
        "* be introduced to **different data structures**: **[lists](#Lists), [arrays](#Arrays)**\n",
        "* know the **difference between the data types**"
      ],
      "id": "GKiko5DibDn8"
    },
    {
      "cell_type": "markdown",
      "metadata": {
        "id": "rmKXE7aQbDn8"
      },
      "source": [
        "## Variables"
      ],
      "id": "rmKXE7aQbDn8"
    },
    {
      "cell_type": "markdown",
      "metadata": {
        "id": "cEHJgZHpbDn8"
      },
      "source": [
        "**Variables** are <ins>**_where_**</ins> we store data in code. It helps <ins>**keep our code organized**</ins> and <ins>**reduce mistakes**</ins>. Unlike other languages (e.g. JavaScript), we **do not need to explicitly declare variables** in Python. They are dynamically typed and automatically initialized as soon as a value is assigned to them. Here, we'll see these different variable types :\n",
        "* [integers](#Integers)\n",
        "* [floats](#Floats)\n",
        "* [strings](#Strings)"
      ],
      "id": "cEHJgZHpbDn8"
    },
    {
      "cell_type": "markdown",
      "metadata": {
        "id": "9fB_THaybDn8"
      },
      "source": [
        "### Integers"
      ],
      "id": "9fB_THaybDn8"
    },
    {
      "cell_type": "markdown",
      "metadata": {
        "id": "Ar4PMQlZbDn8"
      },
      "source": [
        "**Integers** are exactly what they sounds like: they store <ins>**_only integral values_**</ins> (i.e., whole numbers). An example is ```1``` or ```100```.\n",
        "\n",
        "Here is a demo of adding two integers:"
      ],
      "id": "Ar4PMQlZbDn8"
    },
    {
      "cell_type": "code",
      "execution_count": null,
      "metadata": {
        "id": "1a-LX9JrbDn9",
        "outputId": "54d8431f-0c71-4037-e00d-8f1f289cb030"
      },
      "outputs": [
        {
          "name": "stdout",
          "output_type": "stream",
          "text": [
            "6\n"
          ]
        }
      ],
      "source": [
        "a = 2\n",
        "b = 4\n",
        "c = a + b\n",
        "print(c)"
      ],
      "id": "1a-LX9JrbDn9"
    },
    {
      "cell_type": "markdown",
      "metadata": {
        "id": "9qE1XTotbDn9"
      },
      "source": [
        "### Floats"
      ],
      "id": "9qE1XTotbDn9"
    },
    {
      "cell_type": "markdown",
      "metadata": {
        "id": "Yk7gHA9UbDn-"
      },
      "source": [
        "Though similiar to integers, **floats** are slightly different: they store values that have potential <ins>**_decimal points_**</ins>. An example is ```1.0``` or ```100.00```.\n",
        "\n",
        "Here is a demo of adding two floats:"
      ],
      "id": "Yk7gHA9UbDn-"
    },
    {
      "cell_type": "code",
      "execution_count": null,
      "metadata": {
        "id": "7LJTS_1TbDn-",
        "outputId": "d6fabfee-df62-4b28-9f24-038ad99c1f9d"
      },
      "outputs": [
        {
          "name": "stdout",
          "output_type": "stream",
          "text": [
            "6.0\n"
          ]
        }
      ],
      "source": [
        "a = 2.0\n",
        "b = 4.0\n",
        "c = a + b\n",
        "print(c)"
      ],
      "id": "7LJTS_1TbDn-"
    },
    {
      "cell_type": "markdown",
      "metadata": {
        "id": "Nvb9NiMybDn-"
      },
      "source": [
        "### Strings"
      ],
      "id": "Nvb9NiMybDn-"
    },
    {
      "cell_type": "markdown",
      "metadata": {
        "id": "DOQ--_-ibDn-"
      },
      "source": [
        "**Strings** are <ins>**_groups of characters_**</ins> that is defined by quotation marks **```''```** **```\"\"```**. Although they can be manipulated using math functions (addition, multiplication), **strings** are not treated as numbers. An example is:"
      ],
      "id": "DOQ--_-ibDn-"
    },
    {
      "cell_type": "code",
      "execution_count": null,
      "metadata": {
        "id": "-BWwTmChbDn-",
        "outputId": "f9e07e94-e5f2-433b-a8cd-99c2ae8125e1"
      },
      "outputs": [
        {
          "name": "stdout",
          "output_type": "stream",
          "text": [
            "Liza, Hayley, Katie\n"
          ]
        }
      ],
      "source": [
        "names = 'Liza, Hayley, Katie'\n",
        "print(names)"
      ],
      "id": "-BWwTmChbDn-"
    },
    {
      "cell_type": "markdown",
      "metadata": {
        "id": "PuC-RxX_bDn-"
      },
      "source": [
        "## Data Structures"
      ],
      "id": "PuC-RxX_bDn-"
    },
    {
      "cell_type": "markdown",
      "metadata": {
        "id": "TNjECPfhbDn-"
      },
      "source": [
        "### Lists"
      ],
      "id": "TNjECPfhbDn-"
    },
    {
      "cell_type": "markdown",
      "metadata": {
        "id": "TSiI2assbDn-"
      },
      "source": [
        "**Lists** are defined by square brackets **```[]```**, are one-dimensional (**1D**), and can store <ins>**_various data types (e.g., numbers, words)_**</ins>."
      ],
      "id": "TSiI2assbDn-"
    },
    {
      "cell_type": "code",
      "execution_count": null,
      "metadata": {
        "id": "uj61azJAbDn-",
        "outputId": "cafd5f62-aec6-46be-d9b2-37e79503c448"
      },
      "outputs": [
        {
          "name": "stdout",
          "output_type": "stream",
          "text": [
            "['hello', 123, 'bye', 456]\n"
          ]
        }
      ],
      "source": [
        "mylist = ['hello', 123, 'bye', 456 ]\n",
        "print(mylist)"
      ],
      "id": "uj61azJAbDn-"
    },
    {
      "cell_type": "markdown",
      "metadata": {
        "id": "m-Y6oozdbDn_"
      },
      "source": [
        "### Arrays"
      ],
      "id": "m-Y6oozdbDn_"
    },
    {
      "cell_type": "markdown",
      "metadata": {
        "id": "_z7N32h6bDn_"
      },
      "source": [
        "**Arrays** are also defined by square brackets **```[]```**, but they can <ins>**_only store one data type_**</ins>. They can be *multidimensional*, but we'll see that [later on](MultiDarrays.ipynb). For now, we will create one-dimensional arrays.\n",
        "\n",
        "**Arrays** are defined by through [NumPy](Introduction2Functions.ipynb), which is a numerical library widely used in Python. To make an array, you must first <ins>**_import NumPy_**</ins> and then <ins>**_use the ```array()``` function_**</ins>."
      ],
      "id": "_z7N32h6bDn_"
    },
    {
      "cell_type": "code",
      "execution_count": null,
      "metadata": {
        "id": "_QhIr91UbDn_",
        "outputId": "74ad6572-00be-4638-de81-129ba673db9b"
      },
      "outputs": [
        {
          "name": "stdout",
          "output_type": "stream",
          "text": [
            "[1 2 3 4 5]\n"
          ]
        }
      ],
      "source": [
        "import numpy as np # you can import NumPy as a shorter name (ex: np)\n",
        "\n",
        "numbers = np.array([1, 2, 3, 4, 5])\n",
        "print(numbers)"
      ],
      "id": "_QhIr91UbDn_"
    },
    {
      "cell_type": "markdown",
      "metadata": {
        "id": "ANV3C6hDbDn_"
      },
      "source": [
        "### Manipulating lists and arrays"
      ],
      "id": "ANV3C6hDbDn_"
    },
    {
      "cell_type": "markdown",
      "metadata": {
        "id": "k7HI3sAGIQ-A"
      },
      "source": [
        "### Arrays"
      ],
      "id": "k7HI3sAGIQ-A"
    },
    {
      "cell_type": "markdown",
      "metadata": {
        "id": "XRkNSxTsIQ-B"
      },
      "source": [
        "**Arrays** are also defined by square brackets **```[]```**, but they can <ins>**_only store one data type_**</ins>. They can be *multidimensional*, but we'll see that [later on](MultiDarrays.ipynb). For now, we will create one-dimensional arrays.\n",
        "\n",
        "**Arrays** are defined by through [NumPy](Introduction2Functions.ipynb), which is a numerical library widely used in Python. To make an array, you must first <ins>**_import NumPy_**</ins> and then <ins>**_use the ```array()``` function_**</ins>."
      ],
      "id": "XRkNSxTsIQ-B"
    },
    {
      "cell_type": "code",
      "execution_count": null,
      "metadata": {
        "id": "i70F_DM2bDn_",
        "outputId": "69c63d3f-d87b-470d-fd5e-1de9467f4640"
      },
      "outputs": [
        {
          "name": "stdout",
          "output_type": "stream",
          "text": [
            "['hello', 123, 'bye', 456, 'ciao', 789, 'ciao', 10]\n"
          ]
        }
      ],
      "source": [
        "# here we create two lists\n",
        "mylist = ['hello', 123, 'bye', 456 ]\n",
        "yourlist = ['ciao', 789, 'ciao', 10 ]\n",
        "\n",
        "# now we add both lists and print the result\n",
        "ourlist = mylist + yourlist\n",
        "print(ourlist)"
      ],
      "id": "i70F_DM2bDn_"
    },
    {
      "cell_type": "code",
      "execution_count": null,
      "metadata": {
        "scrolled": true,
        "id": "naWMkd43bDn_",
        "outputId": "64f8b5d8-3741-4b0b-f754-2e1413995b9e"
      },
      "outputs": [
        {
          "name": "stdout",
          "output_type": "stream",
          "text": [
            "[ 26 100  99 392]\n"
          ]
        }
      ],
      "source": [
        "# first we have to import numPy to create an array\n",
        "import numpy as np\n",
        "\n",
        "# now we create two arrays\n",
        "price = np.array([13, 20, 33, 56])\n",
        "amount = np.array([2, 5, 3, 7])\n",
        "\n",
        "# then we can multiply them and print the result\n",
        "total = price * amount\n",
        "print(total)"
      ],
      "id": "naWMkd43bDn_"
    },
    {
      "cell_type": "markdown",
      "metadata": {
        "id": "1NxsWqG1bDn_"
      },
      "source": [
        "Notice that the it does not return **_one total_**. It will return an **array of the same size of the previous arrays**. <ins>**_To manipulate arrays with mathematical expressions, they must be of the same size._**</ins> Lists can be any size to be manipulated."
      ],
      "id": "1NxsWqG1bDn_"
    },
    {
      "cell_type": "markdown",
      "metadata": {
        "id": "neK18sOibDn_"
      },
      "source": [
        "## Summary"
      ],
      "id": "neK18sOibDn_"
    },
    {
      "cell_type": "markdown",
      "metadata": {
        "id": "6EaQWM3ebDn_"
      },
      "source": [
        "* Three **[variables](#Variables)** reviewed here are:\n",
        "\n",
        "    * **integers**, which store **<ins>whole numbers</ins>**\n",
        "    \n",
        "    * **floats**, which store values with **<ins>decimals</ins>**\n",
        "    \n",
        "    * **strings**, which store **<ins>groups of characters</ins>**\n",
        "\n",
        "\n",
        "\n",
        "\n",
        "\n",
        "\n",
        "* Two **[data structures](#Data-Structures)** reviewed here are:\n",
        "\n",
        "    * **lists**, which store **<ins>various data types</ins>**\n",
        "    \n",
        "    * **arrays**, which store **<ins>one data type</ins>** and are defined using numPy"
      ],
      "id": "6EaQWM3ebDn_"
    },
    {
      "cell_type": "markdown",
      "metadata": {
        "id": "s1Y7bobTbDn_"
      },
      "source": [
        "## Exercises"
      ],
      "id": "s1Y7bobTbDn_"
    },
    {
      "cell_type": "markdown",
      "metadata": {
        "id": "lITrOv5pbDn_"
      },
      "source": [
        "1. You are given **_three variables_**: **```cost```** which stores a <ins>monthly payment</ins>, **```time```** which stores the <ins>total time in months</ins> that the payment needs to be made, and **```msrp```** which stores the <ins>manufacturer's suggested retail price</ins>. **Find the product** of both **```cost```** and **```time```** then **find the difference** between **```msrp```** and the **product**. Print out the product and difference."
      ],
      "id": "lITrOv5pbDn_"
    },
    {
      "cell_type": "code",
      "execution_count": null,
      "metadata": {
        "id": "O_H3H1IpbDn_"
      },
      "outputs": [],
      "source": [
        "# Given variables\n",
        "monthly_payment = 415 # unit: USD\n",
        "time = 72 # unit: months\n",
        "msrp = 25000 # unit: USD\n"
      ],
      "id": "O_H3H1IpbDn_"
    },
    {
      "cell_type": "markdown",
      "metadata": {
        "id": "U0KVnnaPbDn_"
      },
      "source": [
        "2. **Make two strings** named **```fruit```** and **```other```** which contain <ins>items from the grocery store</ins>. **Add both** strings together and call it **```final_list```**. Print **```final_list```**."
      ],
      "id": "U0KVnnaPbDn_"
    },
    {
      "cell_type": "code",
      "execution_count": null,
      "metadata": {
        "id": "XOqNxlnpbDoA"
      },
      "outputs": [],
      "source": [
        "# insert code here"
      ],
      "id": "XOqNxlnpbDoA"
    },
    {
      "cell_type": "markdown",
      "metadata": {
        "id": "X06Z_WvTbDoA"
      },
      "source": [
        "3. **Import [NumPy](#Arrays) and create two arrays.** Name them **```a```** and **```b```**. **Find the product** of both and **divide it by 2**. Store this new array in a variable **```c```**. Print **```c```**."
      ],
      "id": "X06Z_WvTbDoA"
    },
    {
      "cell_type": "code",
      "execution_count": null,
      "metadata": {
        "id": "GNMD8tiwbDoA"
      },
      "outputs": [],
      "source": [
        "# insert code here"
      ],
      "id": "GNMD8tiwbDoA"
    }
  ],
  "metadata": {
    "kernelspec": {
      "display_name": "Python 3 (ipykernel)",
      "language": "python",
      "name": "python3"
    },
    "language_info": {
      "codemirror_mode": {
        "name": "ipython",
        "version": 3
      },
      "file_extension": ".py",
      "mimetype": "text/x-python",
      "name": "python",
      "nbconvert_exporter": "python",
      "pygments_lexer": "ipython3",
      "version": "3.8.10"
    },
    "colab": {
      "provenance": [],
      "include_colab_link": true
    }
  },
  "nbformat": 4,
  "nbformat_minor": 5
}