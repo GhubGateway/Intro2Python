{
 "cells": [
  {
   "cell_type": "markdown",
   "id": "5bf98cc6",
   "metadata": {},
   "source": [
    "# Loops"
   ]
  },
  {
   "cell_type": "markdown",
   "id": "7535884f",
   "metadata": {},
   "source": [
    "Now that we know some of basics of python, we're going to learn about loops and the different types. Loops allow you to access all of the individual elements in lists and arrays and apply the same code to these individual elements or all of them."
   ]
  },
  {
   "cell_type": "markdown",
   "id": "8e6f5b60",
   "metadata": {},
   "source": [
    "<img src=\"https://images.kglobalservices.com/www.kelloggs.com/en_us/product/product_4508497/prod_img-3394699_new_redbox_optimized.png\">"
   ]
  },
  {
   "cell_type": "markdown",
   "id": "198f40b2",
   "metadata": {},
   "source": [
    "By the end of this section you will:\n",
    "* [explore the individual elements of lists and arrays](#Indexing)\n",
    "* [know the different types of loops and when to use them](#Types-of-Loops)\n",
    "* [practice indexing and creating loops](#Exercises)"
   ]
  },
  {
   "cell_type": "markdown",
   "id": "54baa6a7",
   "metadata": {},
   "source": [
    "## Indexing"
   ]
  },
  {
   "cell_type": "markdown",
   "id": "adb2c117",
   "metadata": {},
   "source": [
    "Indexing helps explore an individual element or elements in lists and arrays. Within lists and arrays the first element is indexed as 0, then the next element is 1, and so on."
   ]
  },
  {
   "cell_type": "markdown",
   "id": "f6c77831",
   "metadata": {},
   "source": [
    "<img src = \"https://scaler.com/topics/images/Python-list-index-1-1024x498.jpeg\" >"
   ]
  },
  {
   "cell_type": "markdown",
   "id": "150807d5",
   "metadata": {},
   "source": [
    "To return the third element of a list or array, we can do the following:"
   ]
  },
  {
   "cell_type": "code",
   "execution_count": 6,
   "id": "a3884f94",
   "metadata": {},
   "outputs": [
    {
     "name": "stdout",
     "output_type": "stream",
     "text": [
      "c\n"
     ]
    }
   ],
   "source": [
    "list = ['a','b','c','d']\n",
    "print(list[2])"
   ]
  },
  {
   "cell_type": "markdown",
   "id": "30479f18",
   "metadata": {},
   "source": [
    "The last element can also be indexed as -1, which will result in a decreasing order. The second to last will be -2, and so on."
   ]
  },
  {
   "cell_type": "code",
   "execution_count": 9,
   "id": "649d866f",
   "metadata": {},
   "outputs": [
    {
     "name": "stdout",
     "output_type": "stream",
     "text": [
      "b\n"
     ]
    }
   ],
   "source": [
    "list = ['a','b','c','d']\n",
    "print(list[-3])"
   ]
  },
  {
   "cell_type": "markdown",
   "id": "b6aad859",
   "metadata": {},
   "source": [
    "Let's say we wanted to return every other element of our list or array. We could do so by using a semi-colon ```:```."
   ]
  },
  {
   "cell_type": "code",
   "execution_count": 11,
   "id": "51c8abbd",
   "metadata": {},
   "outputs": [
    {
     "name": "stdout",
     "output_type": "stream",
     "text": [
      "[1 3 5 7]\n",
      "[2 4 6 8]\n"
     ]
    }
   ],
   "source": [
    "import numpy as np\n",
    "array = np.array([1, 2, 3, 4, 5, 6, 7, 8])\n",
    "odds = array[::2] # this 2 means it will print out every other element, the first semi-colon signifies starting at the first index\n",
    "print(odds)\n",
    "\n",
    "evens = array[1::2] # this means we will print out every other element starting at the second index\n",
    "print(evens)"
   ]
  },
  {
   "cell_type": "markdown",
   "id": "3c91f6c4",
   "metadata": {},
   "source": [
    "We can also find at what index a certain element occurs at. Here we have a list and use the ```index()``` built-in python function to find at which index '3' occurs at."
   ]
  },
  {
   "cell_type": "code",
   "execution_count": 14,
   "id": "02e1a70a",
   "metadata": {},
   "outputs": [
    {
     "name": "stdout",
     "output_type": "stream",
     "text": [
      "2\n"
     ]
    }
   ],
   "source": [
    "list = [1, 2, 3, 4, 5, 6, 7, 8]\n",
    "result = list.index(3)\n",
    "print(result)"
   ]
  },
  {
   "cell_type": "markdown",
   "id": "442e5b45",
   "metadata": {},
   "source": [
    "## Types of Loops"
   ]
  },
  {
   "cell_type": "markdown",
   "id": "8ac51286",
   "metadata": {},
   "source": [
    "### ```for``` loops"
   ]
  },
  {
   "cell_type": "markdown",
   "id": "ed300aa8",
   "metadata": {},
   "source": [
    "One type of loop is ```for``` loops which are also known as \"definite loops.\" These loops allow you to apply code to all elements or a set of indices with a defined termination set by the user. It follows this basic format:"
   ]
  },
  {
   "cell_type": "markdown",
   "id": "72cee5be",
   "metadata": {},
   "source": [
    "```python\n",
    "for item in group :\n",
    "    do this thing to the current item\n",
    "    when done with items, run the rest of the code\n",
    "```"
   ]
  },
  {
   "cell_type": "markdown",
   "id": "2dab431b",
   "metadata": {},
   "source": [
    "The ```for``` loop will continue applying the the code within (second line) to the desired number of items in the group you want. An example is:"
   ]
  },
  {
   "cell_type": "code",
   "execution_count": 1,
   "id": "9f953797",
   "metadata": {},
   "outputs": [
    {
     "name": "stdout",
     "output_type": "stream",
     "text": [
      "34\n",
      "17\n",
      "12\n"
     ]
    }
   ],
   "source": [
    "# Here we are telling the for loop to print each item in the group\n",
    "for item in [34, 17, 12]:\n",
    "    print(item)"
   ]
  },
  {
   "cell_type": "markdown",
   "id": "01606692",
   "metadata": {},
   "source": [
    "We can also use ```for``` loops to return certain indices within a list or array."
   ]
  },
  {
   "cell_type": "code",
   "execution_count": 5,
   "id": "a37c0553",
   "metadata": {},
   "outputs": [
    {
     "name": "stdout",
     "output_type": "stream",
     "text": [
      "2\n",
      "6\n",
      "finished!!\n"
     ]
    }
   ],
   "source": [
    "import numpy as np\n",
    "items = np.array([2, 4, 6, 8])\n",
    "\n",
    "for i in [0,2]:\n",
    "    print(items[i])\n",
    "print(\"finished!!\") # print that we have finished our loop!"
   ]
  },
  {
   "cell_type": "markdown",
   "id": "49bf0264",
   "metadata": {},
   "source": [
    "### ```while``` loops"
   ]
  },
  {
   "cell_type": "markdown",
   "id": "2bb469ad",
   "metadata": {},
   "source": [
    "A ```while``` loop loops through elements until a condition is not met. Once the condition is not met, it will continue on to the rest of the code. It follows this basic format:"
   ]
  },
  {
   "cell_type": "markdown",
   "id": "785cfc0f",
   "metadata": {},
   "source": [
    "```python\n",
    "while some condition :\n",
    "    do something, if the condition is met\n",
    "    when the condition is no longer met, do rest of code\n",
    "```"
   ]
  },
  {
   "cell_type": "markdown",
   "id": "59a60932",
   "metadata": {},
   "source": [
    "```while``` loops are great if you have a certain condiiton to meet for a group of elements. However, you have to make sure you avoid an infinite loop. An example is:"
   ]
  },
  {
   "cell_type": "code",
   "execution_count": 8,
   "id": "3236dfb6",
   "metadata": {},
   "outputs": [
    {
     "name": "stdout",
     "output_type": "stream",
     "text": [
      "1\n",
      "2\n",
      "3\n",
      "4\n",
      "5\n",
      "6\n",
      "finished!!\n"
     ]
    }
   ],
   "source": [
    "flag = 1\n",
    "\n",
    "# the below while loop will continue as long as flag has a value less than 7\n",
    "while flag < 7:\n",
    "    print(flag) # here, we are printing our current flag value\n",
    "    flag = flag + 1 # now, we are increasing the value of flag to avoid an infinite loop\n",
    "print(\"finished!!\")"
   ]
  },
  {
   "cell_type": "markdown",
   "id": "9e1a7a99",
   "metadata": {},
   "source": [
    "## Exercises"
   ]
  },
  {
   "cell_type": "markdown",
   "id": "b00eadeb",
   "metadata": {},
   "source": [
    "1. Find the fifth value of the list ```volcs```."
   ]
  },
  {
   "cell_type": "code",
   "execution_count": null,
   "id": "dbfbaebe",
   "metadata": {},
   "outputs": [],
   "source": [
    "volcs = [24, 5, 67, 8, 21, 7, 35, 42, 6]"
   ]
  },
  {
   "cell_type": "markdown",
   "id": "28de1784",
   "metadata": {},
   "source": [
    "2. Return the last four values of the array ```co2```."
   ]
  },
  {
   "cell_type": "code",
   "execution_count": null,
   "id": "14669f78",
   "metadata": {},
   "outputs": [],
   "source": [
    "import numpy as np\n",
    "co2 = np.array([2.4, 4.3, 5.9, 1.2, 3.8, 9.8, 0.7])"
   ]
  },
  {
   "cell_type": "markdown",
   "id": "ba058ba6",
   "metadata": {},
   "source": [
    "3. Create a ```for loop``` which adds 1 to the first and fourth index of the array ```h2o```."
   ]
  },
  {
   "cell_type": "code",
   "execution_count": null,
   "id": "dd9d29f1",
   "metadata": {},
   "outputs": [],
   "source": [
    "import numpy as np\n",
    "h2o = np.array([7.8, 21.8, 3.9, 1.5, 6.8, 11.4, 17.2])"
   ]
  },
  {
   "cell_type": "markdown",
   "id": "d339c46c",
   "metadata": {},
   "source": [
    "4. Create a ```while``` loop which prints a value less than 5 from the array ```items``` divided by 2, and prints \"finished!!\" when done."
   ]
  },
  {
   "cell_type": "code",
   "execution_count": null,
   "id": "516fb1a2",
   "metadata": {},
   "outputs": [],
   "source": [
    "import numpy as np\n",
    "items = np.array([2, 1, 4, 7, 8])"
   ]
  }
 ],
 "metadata": {
  "kernelspec": {
   "display_name": "Python 3 (ipykernel)",
   "language": "python",
   "name": "python3"
  },
  "language_info": {
   "codemirror_mode": {
    "name": "ipython",
    "version": 3
   },
   "file_extension": ".py",
   "mimetype": "text/x-python",
   "name": "python",
   "nbconvert_exporter": "python",
   "pygments_lexer": "ipython3",
   "version": "3.9.13"
  }
 },
 "nbformat": 4,
 "nbformat_minor": 5
}
