{
 "cells": [
  {
   "cell_type": "markdown",
   "id": "b8d82a2d",
   "metadata": {},
   "source": [
    "# NetCDFs"
   ]
  },
  {
   "cell_type": "markdown",
   "id": "60236424",
   "metadata": {},
   "source": [
    "Although text files are useful, sometimes we have <ins>**_multiple datasets_**</ins> for various points either in time or space. When this occurs, we can store this these multiple items within <ins>**netCDFs**</ins>."
   ]
  },
  {
   "cell_type": "markdown",
   "id": "bac259cd",
   "metadata": {},
   "source": [
    "<img src =\"https://2.bp.blogspot.com/-8H2FCuCGhWY/VoPgf3RpoNI/AAAAAAAAH44/EPHtpGb_UBc/s1600/metadata.jpg\" width = '400'>"
   ]
  },
  {
   "cell_type": "markdown",
   "id": "b6c67a50",
   "metadata": {},
   "source": [
    "By the end of this section, you will learn:\n",
    "\n",
    "* [**what a netCDF is and why it is useful**](#What-is-netCDF?)\n",
    "* [**to install ```netCDF4```**](#Installing-netCDF4)\n",
    "* [**how to open a netCDF file**](#Opening-a-netCDF-file)"
   ]
  },
  {
   "cell_type": "markdown",
   "id": "212b093a",
   "metadata": {},
   "source": [
    "## What is netCDF?"
   ]
  },
  {
   "cell_type": "markdown",
   "id": "4c7f879a",
   "metadata": {},
   "source": [
    "**NetCDF (network Common Data Form)** stores <ins>**multidimensional data**</ins>, such as <ins>*spatial*</ins>, <ins>*temporal*</ins>, and <ins>*scientific*</ins> information. It is *not* only a file format but a set of software libraries. [**Unidata**](https://www.unidata.ucar.edu/software/netcdf/) has more information. "
   ]
  },
  {
   "cell_type": "markdown",
   "id": "7742bd0e",
   "metadata": {},
   "source": [
    "A netCDF files has **three parts**:\n",
    "\n",
    "\n",
    "<ins>**```metadata```**</ins> = data that describes the data contained within the file\n",
    "\n",
    "\n",
    "<ins>**```dimensions```**</ins> = contains a name and size; can be used to represent physical dimensions\n",
    "\n",
    "\n",
    "<ins>**```variables```**</ins> = contains a name, data type, and shape; represents an arrays of same value type\n"
   ]
  },
  {
   "cell_type": "markdown",
   "id": "1545b0ff",
   "metadata": {},
   "source": [
    "## Why do we use NETCDFs?"
   ]
  },
  {
   "cell_type": "markdown",
   "id": "deea4f91",
   "metadata": {},
   "source": [
    "## Installing ```netCDF4```"
   ]
  },
  {
   "cell_type": "markdown",
   "id": "60d271e6",
   "metadata": {},
   "source": [
    "In your terminal, type the following command:\n",
    "\n",
    "**```conda install netCDF4```**\n",
    "\n",
    "or\n",
    "\n",
    "**```pip install netCDF4```**\n",
    "\n",
    "\n",
    "\n",
    "*Warning: it may take a while to install.*"
   ]
  },
  {
   "cell_type": "markdown",
   "id": "52ffbdd0",
   "metadata": {},
   "source": [
    "After installing **```netCDF4```**, you can import it into Python by typing:\n",
    "\n",
    "```python\n",
    "import netCDF4 as nc\n",
    "```"
   ]
  },
  {
   "cell_type": "markdown",
   "id": "ba37fc4b",
   "metadata": {},
   "source": [
    "## Opening a netCDF file"
   ]
  },
  {
   "cell_type": "markdown",
   "id": "cc62c84f",
   "metadata": {},
   "source": [
    "To <ins>**open a netCDF file**</ins>, we can use the **```Dataset()```** function:"
   ]
  },
  {
   "cell_type": "code",
   "execution_count": 3,
   "id": "17ad8681",
   "metadata": {},
   "outputs": [],
   "source": [
    "import netCDF4 as nc\n",
    "dsst = nc.Dataset('sst_monthly.nc')"
   ]
  },
  {
   "cell_type": "markdown",
   "id": "5f61285d",
   "metadata": {},
   "source": [
    "We can use the **```print()```** function to <ins>**return the metadata**</ins> of the file:"
   ]
  },
  {
   "cell_type": "code",
   "execution_count": 4,
   "id": "40305dea",
   "metadata": {
    "scrolled": true
   },
   "outputs": [
    {
     "name": "stdout",
     "output_type": "stream",
     "text": [
      "<class 'netCDF4._netCDF4.Dataset'>\n",
      "root group (NETCDF4 data model, file format HDF5):\n",
      "    dimensions(sizes): day(50), lat(361), lon(720)\n",
      "    variables(dimensions): float32 day(day), <class 'str'> day_str(day), float32 lat(lat), float32 lon(lon), float32 sst(day, lat, lon)\n",
      "    groups: \n"
     ]
    }
   ],
   "source": [
    "print(dsst)"
   ]
  },
  {
   "cell_type": "markdown",
   "id": "dd9ff4f5",
   "metadata": {},
   "source": [
    "To break this down:\n",
    "\n",
    "* **```dimensions(sizes)```**:\n",
    "    - <ins>**```day```**</ins> with a size of 50\n",
    "    - <ins>**```lat```**</ins> with a size of 361\n",
    "    - <ins>**```lon```**</ins> with a size of 720\n",
    "* **```variables(dimensions)```**:\n",
    "    - <ins>**```float32 day(day)```**</ins> which has type ```float32``` with the name ```day``` and a dimension of ```day```\n",
    "  \n",
    "    - <ins>**```<class 'str'> day_str(day)```**</ins> which has type ```string``` with the name ```day_str``` and a dimension of ```day```\n",
    "    \n",
    "    - <ins>**```float32 lat(lat)```**</ins> which has type ```float32``` with the name ```lat``` and a dimension of ```lat```\n",
    "    \n",
    "    - <ins>**```float32 lon(lon)```**</ins> which has type ```float32``` with the name ```lon``` and a dimension of ```lon```\n",
    "    \n",
    "    - <ins>**```float32 sst(day, lat, lon)```**</ins> which has type ```float32``` with the name ```sst``` and dimensions of ```day```, ```lat```, ```lon```"
   ]
  },
  {
   "cell_type": "markdown",
   "id": "898da00e",
   "metadata": {},
   "source": [
    "## Viewing metadata of variables"
   ]
  },
  {
   "cell_type": "markdown",
   "id": "0e56138d",
   "metadata": {},
   "source": [
    "We can use a **```for```** loop to <ins>**print out each variable's metadata**</ins>:"
   ]
  },
  {
   "cell_type": "code",
   "execution_count": 5,
   "id": "aee81755",
   "metadata": {
    "scrolled": true
   },
   "outputs": [
    {
     "name": "stdout",
     "output_type": "stream",
     "text": [
      "\n",
      " <class 'netCDF4._netCDF4.Variable'>\n",
      "float32 day(day)\n",
      "unlimited dimensions: \n",
      "current shape = (50,)\n",
      "filling on, default _FillValue of 9.969209968386869e+36 used\n",
      "\n",
      " <class 'netCDF4._netCDF4.Variable'>\n",
      "vlen day_str(day)\n",
      "vlen data type: <class 'str'>\n",
      "unlimited dimensions: \n",
      "current shape = (50,)\n",
      "\n",
      " <class 'netCDF4._netCDF4.Variable'>\n",
      "float32 lat(lat)\n",
      "unlimited dimensions: \n",
      "current shape = (361,)\n",
      "filling on, default _FillValue of 9.969209968386869e+36 used\n",
      "\n",
      " <class 'netCDF4._netCDF4.Variable'>\n",
      "float32 lon(lon)\n",
      "unlimited dimensions: \n",
      "current shape = (720,)\n",
      "filling on, default _FillValue of 9.969209968386869e+36 used\n",
      "\n",
      " <class 'netCDF4._netCDF4.Variable'>\n",
      "float32 sst(day, lat, lon)\n",
      "unlimited dimensions: \n",
      "current shape = (50, 361, 720)\n",
      "filling on, default _FillValue of 9.969209968386869e+36 used\n"
     ]
    }
   ],
   "source": [
    "for variable in dsst.variables.values():\n",
    "    print(\"\\n\",variable)"
   ]
  },
  {
   "cell_type": "markdown",
   "id": "9de02761",
   "metadata": {},
   "source": [
    "We can also <ins>**view the data values of a specific variable**</ins> by putting it into an **array**:"
   ]
  },
  {
   "cell_type": "code",
   "execution_count": 6,
   "id": "e5c1736f",
   "metadata": {
    "scrolled": true
   },
   "outputs": [
    {
     "name": "stdout",
     "output_type": "stream",
     "text": [
      "[ 90.   89.5  89.   88.5  88.   87.5  87.   86.5  86.   85.5  85.   84.5\n",
      "  84.   83.5  83.   82.5  82.   81.5  81.   80.5  80.   79.5  79.   78.5\n",
      "  78.   77.5  77.   76.5  76.   75.5  75.   74.5  74.   73.5  73.   72.5\n",
      "  72.   71.5  71.   70.5  70.   69.5  69.   68.5  68.   67.5  67.   66.5\n",
      "  66.   65.5  65.   64.5  64.   63.5  63.   62.5  62.   61.5  61.   60.5\n",
      "  60.   59.5  59.   58.5  58.   57.5  57.   56.5  56.   55.5  55.   54.5\n",
      "  54.   53.5  53.   52.5  52.   51.5  51.   50.5  50.   49.5  49.   48.5\n",
      "  48.   47.5  47.   46.5  46.   45.5  45.   44.5  44.   43.5  43.   42.5\n",
      "  42.   41.5  41.   40.5  40.   39.5  39.   38.5  38.   37.5  37.   36.5\n",
      "  36.   35.5  35.   34.5  34.   33.5  33.   32.5  32.   31.5  31.   30.5\n",
      "  30.   29.5  29.   28.5  28.   27.5  27.   26.5  26.   25.5  25.   24.5\n",
      "  24.   23.5  23.   22.5  22.   21.5  21.   20.5  20.   19.5  19.   18.5\n",
      "  18.   17.5  17.   16.5  16.   15.5  15.   14.5  14.   13.5  13.   12.5\n",
      "  12.   11.5  11.   10.5  10.    9.5   9.    8.5   8.    7.5   7.    6.5\n",
      "   6.    5.5   5.    4.5   4.    3.5   3.    2.5   2.    1.5   1.    0.5\n",
      "   0.   -0.5  -1.   -1.5  -2.   -2.5  -3.   -3.5  -4.   -4.5  -5.   -5.5\n",
      "  -6.   -6.5  -7.   -7.5  -8.   -8.5  -9.   -9.5 -10.  -10.5 -11.  -11.5\n",
      " -12.  -12.5 -13.  -13.5 -14.  -14.5 -15.  -15.5 -16.  -16.5 -17.  -17.5\n",
      " -18.  -18.5 -19.  -19.5 -20.  -20.5 -21.  -21.5 -22.  -22.5 -23.  -23.5\n",
      " -24.  -24.5 -25.  -25.5 -26.  -26.5 -27.  -27.5 -28.  -28.5 -29.  -29.5\n",
      " -30.  -30.5 -31.  -31.5 -32.  -32.5 -33.  -33.5 -34.  -34.5 -35.  -35.5\n",
      " -36.  -36.5 -37.  -37.5 -38.  -38.5 -39.  -39.5 -40.  -40.5 -41.  -41.5\n",
      " -42.  -42.5 -43.  -43.5 -44.  -44.5 -45.  -45.5 -46.  -46.5 -47.  -47.5\n",
      " -48.  -48.5 -49.  -49.5 -50.  -50.5 -51.  -51.5 -52.  -52.5 -53.  -53.5\n",
      " -54.  -54.5 -55.  -55.5 -56.  -56.5 -57.  -57.5 -58.  -58.5 -59.  -59.5\n",
      " -60.  -60.5 -61.  -61.5 -62.  -62.5 -63.  -63.5 -64.  -64.5 -65.  -65.5\n",
      " -66.  -66.5 -67.  -67.5 -68.  -68.5 -69.  -69.5 -70.  -70.5 -71.  -71.5\n",
      " -72.  -72.5 -73.  -73.5 -74.  -74.5 -75.  -75.5 -76.  -76.5 -77.  -77.5\n",
      " -78.  -78.5 -79.  -79.5 -80.  -80.5 -81.  -81.5 -82.  -82.5 -83.  -83.5\n",
      " -84.  -84.5 -85.  -85.5 -86.  -86.5 -87.  -87.5 -88.  -88.5 -89.  -89.5\n",
      " -90. ]\n"
     ]
    }
   ],
   "source": [
    "import numpy as np\n",
    "\n",
    "# index the specific variable we want to look at\n",
    "dsst['lat']\n",
    "\n",
    "# put the items within the variable into a useable array\n",
    "sstlat = np.array(dsst['lat'])\n",
    "print(sstlat)"
   ]
  },
  {
   "cell_type": "markdown",
   "id": "9d84c361",
   "metadata": {},
   "source": [
    "## Summary"
   ]
  },
  {
   "cell_type": "markdown",
   "id": "065d93a5",
   "metadata": {},
   "source": [
    "* **[netCDFs](#What-is-netCDF?)** are files that hold **_multidimensional data_** and has three parts: <ins>**metadata**</ins>, <ins>**dimenions**</ins>, and <ins>**variables** </ins>\n",
    "\n",
    "\n",
    "* To **[open a netCDF file](#Opening-a-netCDF-file)**, we can use **```Dataset()```** from the **```netCDF4```** library\n",
    "\n",
    "\n",
    "* To **[view the metadata of a variable](#Viewing-metadata-of-variables)** in a netcdf, we can use a **```for``` loop**. To <ins>**view the specific data within a variable**</ins>, we can **index the variable and store it in an array**."
   ]
  },
  {
   "cell_type": "markdown",
   "id": "168754cc",
   "metadata": {},
   "source": [
    "## Exercises"
   ]
  },
  {
   "cell_type": "markdown",
   "id": "1e0ad35b",
   "metadata": {},
   "source": [
    "1. **Make an array** of the variable **```lon```** from **```sst_monthly.nc```** and **find its shape**."
   ]
  },
  {
   "cell_type": "code",
   "execution_count": null,
   "id": "27f8ecdf",
   "metadata": {},
   "outputs": [],
   "source": [
    "import netCDF4 as nc\n",
    "import numpy as np\n",
    "\n",
    "# Open the netCDF file\n",
    "dsst = nc.Dataset('sst_monthly.nc')\n",
    "\n",
    "# Extract the longitude data\n",
    "lon_array = np.array(dsst['lon'])\n",
    "print(\"Longitude Array:\", lon_array)\n",
    "print(\"Shape of Longitude Array:\", lon_array.shape)\n"
   ]
  },
  {
   "cell_type": "markdown",
   "id": "619bfbf1",
   "metadata": {},
   "source": [
    "2. **Make an array** of the variable **```sst```** from **```sst_monthly.nc```** and **find its shape**."
   ]
  },
  {
   "cell_type": "code",
   "execution_count": null,
   "id": "d6a4e130",
   "metadata": {},
   "outputs": [],
   "source": [
    "# Extract the sea surface temperature data\n",
    "sst_array = np.array(dsst['sst'])\n",
    "print(\"SST Array:\", sst_array)\n",
    "print(\"Shape of SST Array:\", sst_array.shape)"
   ]
  },
  {
   "cell_type": "markdown",
   "id": "fa0b362f",
   "metadata": {},
   "source": [
    "3. **Make a list** of the variable **```day_lon```** from **```sst_monthly.nc```** and find its shape."
   ]
  },
  {
   "cell_type": "code",
   "execution_count": null,
   "id": "f9d9d438",
   "metadata": {},
   "outputs": [],
   "source": [
    "# Extract the day data\n",
    "day_array = np.array(dsst['day'])\n",
    "print(\"Day Array:\", day_array)\n",
    "print(\"Shape of Day Array:\", day_array.shape)"
   ]
  }
 ],
 "metadata": {
  "kernelspec": {
   "display_name": "Python 3 (ipykernel)",
   "language": "python",
   "name": "python3"
  },
  "language_info": {
   "codemirror_mode": {
    "name": "ipython",
    "version": 3
   },
   "file_extension": ".py",
   "mimetype": "text/x-python",
   "name": "python",
   "nbconvert_exporter": "python",
   "pygments_lexer": "ipython3",
   "version": "3.11.5"
  }
 },
 "nbformat": 4,
 "nbformat_minor": 5
}
