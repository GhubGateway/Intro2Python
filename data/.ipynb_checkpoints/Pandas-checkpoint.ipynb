{
 "cells": [
  {
   "cell_type": "markdown",
   "id": "684bf2b0",
   "metadata": {},
   "source": [
    "## Using CSV Files In Pandas"
   ]
  },
  {
   "cell_type": "markdown",
   "id": "16ddfec1",
   "metadata": {},
   "source": [
    "We have learned about reading, writing and using CSV files using python in the previous module. In this module we will go deeper into the efficient manipulation and analysis of CSV files by using the pandas library. While our previous module introduced fundamental techniques for working with CSV files in python, pandas makes data handling a little easier."
   ]
  },
  {
   "cell_type": "markdown",
   "id": "db204ee4",
   "metadata": {},
   "source": [
    "### Pandas Dataframes "
   ]
  },
  {
   "cell_type": "markdown",
   "id": "467d2b39",
   "metadata": {},
   "source": [
    "The pandas library provides a versatile and high-performance data structure known as a DataFrame. With pandas, we can load CSV files into DataFrames. This allows us to perform advanced operations such as filtering, sorting, and aggregating data with ease. Essentially, it has these three features: \n",
    "\n",
    "- Pandas can import your tabular data into a structure called a dataframe.\n",
    "- Easily slice, subset, filter, and reformat data\n",
    "- Basic statistics and plotting capabilities are built in"
   ]
  },
  {
   "cell_type": "code",
   "execution_count": null,
   "id": "5ae20cb2",
   "metadata": {},
   "outputs": [],
   "source": [
    "import pandas as pd \n",
    "\n",
    "df = pd.read_csv('filename.csv')\n",
    "\n",
    "#Print the first 5 rows of the dataframe\n",
    "df.head()\n",
    "\n",
    "#Print the columns of the dataframe \n",
    "df.columns\n",
    "\n",
    "#Print the shape of the dataframe\n",
    "df.shape "
   ]
  },
  {
   "cell_type": "code",
   "execution_count": null,
   "id": "a00c5831",
   "metadata": {},
   "outputs": [],
   "source": [
    "#rename columns\n",
    "\n",
    "df = df.rename(columns=(\"DAYS\": \"days\", df.columns[1]: \"d19o\"))\n",
    "\n",
    "#find data types\n",
    "df.dttypes"
   ]
  },
  {
   "cell_type": "markdown",
   "id": "601ed1b0",
   "metadata": {},
   "source": [
    "#### Indexing Columns"
   ]
  },
  {
   "cell_type": "markdown",
   "id": "b3e0f15d",
   "metadata": {},
   "source": [
    "Most basic indexing: df[]"
   ]
  },
  {
   "cell_type": "code",
   "execution_count": null,
   "id": "78847323",
   "metadata": {},
   "outputs": [],
   "source": [
    "#get the 'DAY' column of my dataframe, then get the first value\n",
    "\n",
    "day = df('DAY')\n",
    "day[0]"
   ]
  },
  {
   "cell_type": "code",
   "execution_count": null,
   "id": "1ecad183",
   "metadata": {},
   "outputs": [],
   "source": [
    "#select multiple columns \n",
    "\n",
    "df[['Column1', 'Column2']]\n",
    "\n",
    "#select by columns name\n",
    "\n",
    "df.d18o\n",
    "\n",
    "#save your column to an array or list\n",
    "\n",
    "df.d18o.to_numpy()\n",
    "\n",
    "df['d18o'].to_list()"
   ]
  },
  {
   "cell_type": "markdown",
   "id": "cf155d89",
   "metadata": {},
   "source": [
    "#### Indexing Rows"
   ]
  },
  {
   "cell_type": "code",
   "execution_count": null,
   "id": "08aecdb5",
   "metadata": {},
   "outputs": [],
   "source": [
    "#Select specific rows using .iolic \n",
    "\n",
    "#rows 1-10\n",
    "\n",
    "df.iloc[0:10]\n",
    "\n",
    "#rows 1, 4, 6\n",
    "\n",
    "df.iloc[[0, 3, 5]]\n",
    "\n",
    "#Note: If your index has labels, use .loc[] instead of .iloc[]"
   ]
  },
  {
   "cell_type": "markdown",
   "id": "5f89ba0a",
   "metadata": {},
   "source": [
    "#### Row Logicals "
   ]
  },
  {
   "cell_type": "code",
   "execution_count": null,
   "id": "8a794484",
   "metadata": {},
   "outputs": [],
   "source": [
    "# get every row in my data with d180 values greater than -14\n",
    "above_neg14 = df[df[\"d18o\"] > -14]\n",
    " \n",
    "# get every row in my data with d180 values equal to -13.84\n",
    "equal_1384 = df[df[\"d18o\"] == -13.84]"
   ]
  },
  {
   "cell_type": "markdown",
   "id": "f781c925",
   "metadata": {},
   "source": [
    "#### Set Index "
   ]
  },
  {
   "cell_type": "markdown",
   "id": "bc484593",
   "metadata": {},
   "source": [
    "Say you want the index to be more meaningful:"
   ]
  },
  {
   "cell_type": "code",
   "execution_count": null,
   "id": "2f7aadbc",
   "metadata": {},
   "outputs": [],
   "source": [
    "df2 = df.set_index('days')"
   ]
  },
  {
   "cell_type": "markdown",
   "id": "a6332ffb",
   "metadata": {},
   "source": [
    "#### Plotting "
   ]
  },
  {
   "cell_type": "code",
   "execution_count": null,
   "id": "73123b33",
   "metadata": {},
   "outputs": [],
   "source": [
    "df.plot()\n",
    "\n",
    "df2.plot()\n",
    "\n",
    "df.plot(x='days',y='d18o')"
   ]
  }
 ],
 "metadata": {
  "kernelspec": {
   "display_name": "Python 3 (ipykernel)",
   "language": "python",
   "name": "python3"
  },
  "language_info": {
   "codemirror_mode": {
    "name": "ipython",
    "version": 3
   },
   "file_extension": ".py",
   "mimetype": "text/x-python",
   "name": "python",
   "nbconvert_exporter": "python",
   "pygments_lexer": "ipython3",
   "version": "3.11.5"
  }
 },
 "nbformat": 4,
 "nbformat_minor": 5
}
