{
 "cells": [
  {
   "cell_type": "markdown",
   "id": "ac1bad47",
   "metadata": {},
   "source": [
    "# Scipy/SciKit"
   ]
  },
  {
   "cell_type": "markdown",
   "id": "ce9c5b9a",
   "metadata": {},
   "source": [
    "SciPy is an open-source Python library that is used for scientific and technical computing. It provides a vast array of functions and tools for tasks such as optimization, integration, interpolation, eigenvalue problems, algebraic equations, differential equations, statistics, and more.\n",
    "\n",
    "Built on top of NumPy, SciPy extends its functionality by providing additional mathematical algorithms and functions, making it a powerful tool for scientific computing in Python."
   ]
  },
  {
   "cell_type": "markdown",
   "id": "87e9e089",
   "metadata": {},
   "source": [
    "### Scipy Usage and Sub Packages "
   ]
  },
  {
   "cell_type": "code",
   "execution_count": null,
   "id": "3564a1cd",
   "metadata": {},
   "outputs": [],
   "source": [
    "- Built on top of NumPy, so it is efficient for numerical computations.\n",
    "- Sub-packages contain specific functions related to various scientific domains.\n",
    "- You typically call the specific sub-package you want to use."
   ]
  },
  {
   "cell_type": "markdown",
   "id": "b474052f",
   "metadata": {},
   "source": [
    "### Interpolation"
   ]
  },
  {
   "cell_type": "markdown",
   "id": "9036ced7",
   "metadata": {},
   "source": [
    "#### Import Necessary Information"
   ]
  },
  {
   "cell_type": "code",
   "execution_count": null,
   "id": "2ce0767c",
   "metadata": {},
   "outputs": [],
   "source": [
    "from scipy.interpolate import CubicSpline\n",
    "import matplotlib.pyplot as plt\n",
    "import numpy as np"
   ]
  },
  {
   "cell_type": "markdown",
   "id": "9cb2b30b",
   "metadata": {},
   "source": [
    "#### Generating Sample Data"
   ]
  },
  {
   "cell_type": "markdown",
   "id": "15932927",
   "metadata": {},
   "source": [
    "Generate a set of evenly spaced points on the interval [0, 10] (inclusive) with 11 data points"
   ]
  },
  {
   "cell_type": "code",
   "execution_count": null,
   "id": "bf215f01",
   "metadata": {},
   "outputs": [],
   "source": [
    "x = np.linspace(0, 10, num=11)\n",
    "y = np.cos(-x**2 / 9.)"
   ]
  },
  {
   "cell_type": "markdown",
   "id": "37cc9882",
   "metadata": {},
   "source": [
    "#### Cubic Spline Interpolation"
   ]
  },
  {
   "cell_type": "markdown",
   "id": "285711ff",
   "metadata": {},
   "source": [
    "Create a cubic spline interpolation object using the x and y data points"
   ]
  },
  {
   "cell_type": "code",
   "execution_count": null,
   "id": "b1aaba9f",
   "metadata": {},
   "outputs": [],
   "source": [
    "spl = CubicSpline(x, y)"
   ]
  },
  {
   "cell_type": "markdown",
   "id": "117c0d9e",
   "metadata": {},
   "source": [
    "#### Generating New Data Points"
   ]
  },
  {
   "cell_type": "markdown",
   "id": "8cc94649",
   "metadata": {},
   "source": [
    "Generate a new set of evenly spaced points on the interval [0, 10] (inclusive) with a higher resolution (1001 data points)"
   ]
  },
  {
   "cell_type": "code",
   "execution_count": null,
   "id": "cb7ff7b3",
   "metadata": {},
   "outputs": [],
   "source": [
    "xnew = np.linspace(0, 10, num=1001)"
   ]
  },
  {
   "cell_type": "markdown",
   "id": "7f550a68",
   "metadata": {},
   "source": [
    "#### Creating Subplots"
   ]
  },
  {
   "cell_type": "code",
   "execution_count": null,
   "id": "3794de64",
   "metadata": {},
   "outputs": [],
   "source": [
    "fig, (ax1, ax2) = plt.subplots(2, 1)"
   ]
  },
  {
   "cell_type": "markdown",
   "id": "c14e3689",
   "metadata": {},
   "source": [
    "#### Plotting Cubic Spline Interpolation"
   ]
  },
  {
   "cell_type": "code",
   "execution_count": null,
   "id": "86c51c4c",
   "metadata": {},
   "outputs": [],
   "source": [
    "ax1.plot(xnew, spl(xnew), label='Cubic Spline Interpolation')\n",
    "ax1.plot(x, y, 'o', label='Data', markersize=5)\n",
    "ax1.legend(loc='best')"
   ]
  },
  {
   "cell_type": "markdown",
   "id": "bb2557fd",
   "metadata": {},
   "source": [
    "#### Plotting First Derivative of the Spline"
   ]
  },
  {
   "cell_type": "code",
   "execution_count": null,
   "id": "b48df23f",
   "metadata": {},
   "outputs": [],
   "source": [
    "ax2.plot(xnew, spl(xnew, nu=1), '--', label='1st Derivative')\n",
    "ax2.legend(loc='best')"
   ]
  },
  {
   "cell_type": "markdown",
   "id": "9daacb76",
   "metadata": {},
   "source": [
    "#### Adjusting Layout and Displaying Plot"
   ]
  },
  {
   "cell_type": "code",
   "execution_count": null,
   "id": "629829dc",
   "metadata": {},
   "outputs": [],
   "source": [
    "# Adjust the layout of the subplots to prevent overlap\n",
    "plt.tight_layout()\n",
    "# Display the plot\n",
    "plt.show()"
   ]
  },
  {
   "cell_type": "markdown",
   "id": "b75ed557",
   "metadata": {},
   "source": [
    "## SciKit Learn"
   ]
  },
  {
   "cell_type": "markdown",
   "id": "7c9f8ba0",
   "metadata": {},
   "source": [
    "- Machine learning package for Python\n",
    "\n",
    "\n",
    "- Built on numpy, SciPy, and matplotlib\n",
    "\n",
    "\n",
    "- Useful for classification, regression, clustering, dimensionality reduction, and preprocessing\n",
    "\n",
    "\n",
    "- Sub-packages can be called in a similar way to SciPy  "
   ]
  },
  {
   "cell_type": "markdown",
   "id": "a302532d",
   "metadata": {},
   "source": [
    "### Clustering"
   ]
  },
  {
   "cell_type": "code",
   "execution_count": null,
   "id": "f334122e",
   "metadata": {},
   "outputs": [],
   "source": [
    "# Generating Synthetic Data for Clustering\n",
    "\n",
    "# Importing Necessary Libraries\n",
    "from sklearn.datasets import make_blobs\n",
    "from pandas import DataFrame\n",
    "\n",
    "# Generating 2D Dataset\n",
    "# Create a synthetic dataset with 100 samples, 3 centers, and 2 features (dimensions)\n",
    "X, y = make_blobs(n_samples=100, centers=3, n_features=2, random_state=42)\n",
    "# Create a DataFrame to organize the generated data, with 'x' and 'y' columns representing feature values and 'label' column representing cluster labels\n",
    "test_data = DataFrame(dict(x=X[:,0], y=X[:,1], label=y))\n"
   ]
  },
  {
   "cell_type": "markdown",
   "id": "9da6221f",
   "metadata": {},
   "source": [
    "#### Installing and Visualizing Data with Seaborn"
   ]
  },
  {
   "cell_type": "code",
   "execution_count": null,
   "id": "9dceedb2",
   "metadata": {},
   "outputs": [],
   "source": [
    "# Installing Seaborn\n",
    "!pip install seaborn\n",
    "import seaborn as sns\n",
    "\n",
    "# Create a scatter plot using Seaborn to visualize the synthetic data\n",
    "# Scatter plot represents the 'x' and 'y' features from the test_data DataFrame, with different colors indicating different cluster labels\n",
    "sns.scatterplot(data=test_data, x='x', y='y', hue='label')"
   ]
  },
  {
   "cell_type": "markdown",
   "id": "4ebdd112",
   "metadata": {},
   "source": [
    "#### Splitting Data into Training and Testing Sets"
   ]
  },
  {
   "cell_type": "code",
   "execution_count": null,
   "id": "3519ae76",
   "metadata": {},
   "outputs": [],
   "source": [
    "from sklearn.model_selection import train_test_split\n",
    "\n",
    "# Splitting Data\n",
    "# Split the synthetic data into training and testing sets\n",
    "# X_train and X_test contain the feature values (in this case, 'x' and 'y') for training and testing sets respectively\n",
    "# y_train and y_test contain the corresponding labels for the training and testing sets respectively\n",
    "# The data is split into training and testing sets with a ratio of 67% training and 33% testing, specified by the test_size parameter\n",
    "# random_state ensures reproducibility of results by fixing the random seed for data splitting\n",
    "\n",
    "X_train, X_test, y_train, y_test = train_test_split(test_data[['x', 'y']], test_data['label'], test_size=0.33, random_state=0)"
   ]
  },
  {
   "cell_type": "markdown",
   "id": "d8a6c840",
   "metadata": {},
   "source": [
    "#### Clustering with KMeans"
   ]
  },
  {
   "cell_type": "code",
   "execution_count": null,
   "id": "c5b83467",
   "metadata": {},
   "outputs": [],
   "source": [
    "from sklearn.cluster import KMeans \n",
    "\n",
    "# Initialize a KMeans clustering object with the desired number of clusters (in this case, 2)\n",
    "kmeans = KMeans(n_clusters=2)\n",
    "# Fit the KMeans model to the training data to cluster the data points into two clusters based on their features\n",
    "kmeans.fit(X_train)\n",
    "\n",
    "# Visualizing Clustered Data\n",
    "# Create a scatter plot using Seaborn to visualize the clustered data points\n",
    "# Each data point is represented by its 'x' and 'y' features, with different colors indicating the cluster to which it belongs\n",
    "sns.scatterplot(data=X_train, x='x', y='y', hue=kmeans.labels_, palette=\"deep\")"
   ]
  }
 ],
 "metadata": {
  "kernelspec": {
   "display_name": "Python 3 (ipykernel)",
   "language": "python",
   "name": "python3"
  },
  "language_info": {
   "codemirror_mode": {
    "name": "ipython",
    "version": 3
   },
   "file_extension": ".py",
   "mimetype": "text/x-python",
   "name": "python",
   "nbconvert_exporter": "python",
   "pygments_lexer": "ipython3",
   "version": "3.8.15"
  }
 },
 "nbformat": 4,
 "nbformat_minor": 5
}
