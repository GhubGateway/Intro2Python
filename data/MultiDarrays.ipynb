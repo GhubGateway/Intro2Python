{
  "cells": [
    {
      "cell_type": "markdown",
      "metadata": {
        "id": "view-in-github",
        "colab_type": "text"
      },
      "source": [
        "<a href=\"https://colab.research.google.com/github/iSwiin/Intro2Python/blob/main/data/MultiDarrays.ipynb\" target=\"_parent\"><img src=\"https://colab.research.google.com/assets/colab-badge.svg\" alt=\"Open In Colab\"/></a>"
      ]
    },
    {
      "cell_type": "markdown",
      "metadata": {
        "id": "kwsPu3aN_1B5"
      },
      "source": [
        "# Multidimensional Arrays"
      ],
      "id": "kwsPu3aN_1B5"
    },
    {
      "cell_type": "markdown",
      "metadata": {
        "id": "IeKPciWP_1B6"
      },
      "source": [
        "Generally, you'll need to store *multiple points of data*. These can be stored within matrices, also known as <ins>**multidimensional arrays**</ins>. These can be created using [**NumPy**](Introduction2Functions.ipynb)"
      ],
      "id": "IeKPciWP_1B6"
    },
    {
      "cell_type": "markdown",
      "metadata": {
        "id": "HQ5P8_9r_1B6"
      },
      "source": [
        "<img src=\"https://media.licdn.com/dms/image/D4D12AQHrFFdFMJEm7w/article-cover_image-shrink_720_1280/0/1680164729380?e=2147483647&v=beta&t=3gw6Ky5Yohq7J3MfJZFiykja62Txm6lN3GngS8alwF4\" width = '400'>"
      ],
      "id": "HQ5P8_9r_1B6"
    },
    {
      "cell_type": "markdown",
      "metadata": {
        "id": "1SAvnBNE_1B6"
      },
      "source": [
        "By the end of this section, you will learn:\n",
        "* [**the different types of multidimensional arrays**](#Multidimensional-arrays)\n",
        "* [**to index multidimensional arrays**](#Indexing-multidimensional-arrays)"
      ],
      "id": "1SAvnBNE_1B6"
    },
    {
      "cell_type": "markdown",
      "metadata": {
        "id": "uWaXDKv8_1B7"
      },
      "source": [
        "## Multidimensional arrays"
      ],
      "id": "uWaXDKv8_1B7"
    },
    {
      "cell_type": "markdown",
      "metadata": {
        "id": "oatH-GFk_1B7"
      },
      "source": [
        "An array with <ins>**_multiple dimensions_**</ins> (i.e., many one dimesional arrays) are defined as **multidimensional arrays**. We create arrays by using the **```array()```** function from [NumPy](Introduction2Functions.ipynb). **Multidimensional arrays** follow this basic format:\n",
        "\n",
        "```python\n",
        "import numpy as np\n",
        "somearray = np.array([[1st array], [2nd array]...])\n",
        "```\n",
        "\n",
        "\n",
        "\n",
        "So far, we have learned about **_one dimensional (1D)_** arrays. Now, we will practice creating [**two dimensional (2D)**](#2D-arrays) and [**three dimensional (3D)**](#3D-arrays) arrays. To help you, here is a visualization:"
      ],
      "id": "oatH-GFk_1B7"
    },
    {
      "cell_type": "markdown",
      "metadata": {
        "id": "qNaw_NMN_1B7"
      },
      "source": [
        "<img src =\"https://miro.medium.com/v2/resize:fit:1400/1*X0Dg7QfSYtWhSAu-afi8-g.png\" >"
      ],
      "id": "qNaw_NMN_1B7"
    },
    {
      "cell_type": "markdown",
      "metadata": {
        "id": "t4JPPPYk_1B7"
      },
      "source": [
        "In a **1D array**, we have only **_one row_**. This will differ for **2D and 3D arrays**."
      ],
      "id": "t4JPPPYk_1B7"
    },
    {
      "cell_type": "markdown",
      "metadata": {
        "id": "BjuDD91O_1B7"
      },
      "source": [
        "### 2D arrays"
      ],
      "id": "BjuDD91O_1B7"
    },
    {
      "cell_type": "markdown",
      "metadata": {
        "id": "F0mw26V-_1B7"
      },
      "source": [
        "**2D arrays** are considered as <ins>**an array of arrays**</ins>. You can visualize it as a table of rows and columns:\n",
        "<img src=\"https://iq.opengenus.org/content/images/2020/12/Array1.png\" >\n",
        "\n",
        "Here is a demo of creating a **2D array**:."
      ],
      "id": "F0mw26V-_1B7"
    },
    {
      "cell_type": "code",
      "execution_count": null,
      "metadata": {
        "id": "5B-ZlqIN_1B7",
        "outputId": "bd447b8c-70a0-45c3-94af-edcd978a740d"
      },
      "outputs": [
        {
          "name": "stdout",
          "output_type": "stream",
          "text": [
            "[[1 2 3]\n",
            " [4 5 6]]\n"
          ]
        }
      ],
      "source": [
        "# import numpy\n",
        "import numpy as np\n",
        "\n",
        "# create 2D array\n",
        "twoD = np.array([[1, 2, 3], [4, 5, 6]])\n",
        "print(twoD)"
      ],
      "id": "5B-ZlqIN_1B7"
    },
    {
      "cell_type": "markdown",
      "metadata": {
        "id": "WN29-GES_1B8"
      },
      "source": [
        "### 3D arrays"
      ],
      "id": "WN29-GES_1B8"
    },
    {
      "cell_type": "markdown",
      "metadata": {
        "id": "Pijekin3_1B9"
      },
      "source": [
        "**3D arrays** are considered <ins>**an array composed of 2D arrays**</ins>. Its components include **rows, columns, and *arrays***. You can visualize it as a cube:\n",
        "\n",
        "<img src =\"https://media.geeksforgeeks.org/wp-content/uploads/3D-array.jpg\" >\n",
        "\n",
        "Here is a demo of creating a **3D array**:"
      ],
      "id": "Pijekin3_1B9"
    },
    {
      "cell_type": "code",
      "execution_count": null,
      "metadata": {
        "id": "YwKjwe66_1B9",
        "outputId": "0f3a750d-7a7f-48e1-cffe-24dd8308b92c"
      },
      "outputs": [
        {
          "name": "stdout",
          "output_type": "stream",
          "text": [
            "[[[ 1  2  3]\n",
            "  [ 4  5  6]]\n",
            "\n",
            " [[ 7  8  9]\n",
            "  [10 11 12]]]\n"
          ]
        }
      ],
      "source": [
        "# import numpy\n",
        "import numpy as np\n",
        "\n",
        "# create two 2D arrays\n",
        "twoD0 = np.array([[1, 2, 3], [4, 5, 6]])\n",
        "twoD1 = np.array([[7, 8, 9], [10, 11, 12]])\n",
        "\n",
        "# put both arrays together\n",
        "threeD = np.array([twoD0, twoD1])\n",
        "print(threeD)"
      ],
      "id": "YwKjwe66_1B9"
    },
    {
      "cell_type": "markdown",
      "metadata": {
        "id": "x2XBw_Sa_1B9"
      },
      "source": [
        "## Indexing multidimensional arrays"
      ],
      "id": "x2XBw_Sa_1B9"
    },
    {
      "cell_type": "markdown",
      "metadata": {
        "id": "NH_Ai71z_1B9"
      },
      "source": [
        "### Indexing 2D arrays"
      ],
      "id": "NH_Ai71z_1B9"
    },
    {
      "cell_type": "markdown",
      "metadata": {
        "id": "BY0bmgXF_1B9"
      },
      "source": [
        "We can index a row by following this format:\n",
        "\n",
        "```\n",
        "array[row #] = [row]\n",
        "```"
      ],
      "id": "BY0bmgXF_1B9"
    },
    {
      "cell_type": "code",
      "execution_count": null,
      "metadata": {
        "id": "LWNFUyT1_1B9",
        "outputId": "7090bd61-3e4b-4886-be33-fe5c847ebe6b"
      },
      "outputs": [
        {
          "name": "stdout",
          "output_type": "stream",
          "text": [
            "[1 2 3]\n"
          ]
        }
      ],
      "source": [
        "# import numpy\n",
        "import numpy as np\n",
        "\n",
        "# create 2D array\n",
        "twoD = np.array([[1, 2, 3], [4, 5, 6]])\n",
        "\n",
        "# print first row in our 2D array\n",
        "print(twoD[0])"
      ],
      "id": "LWNFUyT1_1B9"
    },
    {
      "cell_type": "markdown",
      "metadata": {
        "id": "dyVLON7__1B9"
      },
      "source": [
        "We can index a column by using **```:```**:\n",
        "\n",
        "```\n",
        "array[:, column #] = [column]\n",
        "```"
      ],
      "id": "dyVLON7__1B9"
    },
    {
      "cell_type": "code",
      "execution_count": null,
      "metadata": {
        "scrolled": true,
        "id": "k7oQ4OBM_1B-",
        "outputId": "cff7d4e5-5fee-4866-cc4c-27b35474aa82"
      },
      "outputs": [
        {
          "name": "stdout",
          "output_type": "stream",
          "text": [
            "[2 5]\n"
          ]
        }
      ],
      "source": [
        "# import numpy\n",
        "import numpy as np\n",
        "\n",
        "# create 2D array\n",
        "twoD = np.array([[1, 2, 3], [4, 5, 6]])\n",
        "\n",
        "# print second column in our 2D array\n",
        "print(twoD[:,1])"
      ],
      "id": "k7oQ4OBM_1B-"
    },
    {
      "cell_type": "markdown",
      "metadata": {
        "id": "HWpzHOva_1B-"
      },
      "source": [
        "We can also index **_one specific value_** from a desired row and column:\n",
        "\n",
        "```\n",
        "array[row #][column #] = value\n",
        "```"
      ],
      "id": "HWpzHOva_1B-"
    },
    {
      "cell_type": "code",
      "execution_count": null,
      "metadata": {
        "id": "GVjxlgwh_1B-",
        "outputId": "6cdbc71c-0f94-435b-fa69-e48bfd2f30fc"
      },
      "outputs": [
        {
          "name": "stdout",
          "output_type": "stream",
          "text": [
            "3\n"
          ]
        }
      ],
      "source": [
        "# import numpy\n",
        "import numpy as np\n",
        "\n",
        "# create 2D array\n",
        "twoD = np.array([[1, 2, 3], [4, 5, 6]])\n",
        "\n",
        "# print the value in the first row, third column of our 2D array\n",
        "print(twoD[0][2])"
      ],
      "id": "GVjxlgwh_1B-"
    },
    {
      "cell_type": "markdown",
      "metadata": {
        "id": "k4x6CMSW_1B-"
      },
      "source": [
        "### Indexing 3D arrays"
      ],
      "id": "k4x6CMSW_1B-"
    },
    {
      "cell_type": "markdown",
      "metadata": {
        "id": "4rA6DkUD_1B-"
      },
      "source": [
        "We can index 3D arrays by following this format:\n",
        "\n",
        "```\n",
        "array[array #, row #, column] = desired output\n",
        "```"
      ],
      "id": "4rA6DkUD_1B-"
    },
    {
      "cell_type": "markdown",
      "metadata": {
        "id": "tNMEebTa_1B-"
      },
      "source": [
        "We can index a **specific array** within the 3D array:\n",
        "\n",
        "```\n",
        "array[array #, :, :] = array\n",
        "```"
      ],
      "id": "tNMEebTa_1B-"
    },
    {
      "cell_type": "code",
      "execution_count": null,
      "metadata": {
        "id": "7EyT9CmY_1B-",
        "outputId": "fa91bd46-fea7-4823-8532-5f68242016dd"
      },
      "outputs": [
        {
          "name": "stdout",
          "output_type": "stream",
          "text": [
            "[[ 7  8  9]\n",
            " [10 11 12]]\n"
          ]
        }
      ],
      "source": [
        "# import numpy\n",
        "import numpy as np\n",
        "\n",
        "# create two 2D arrays\n",
        "twoD0 = np.array([[1, 2, 3], [4, 5, 6]])\n",
        "twoD1 = np.array([[7, 8, 9], [10, 11, 12]])\n",
        "\n",
        "# put both arrays together\n",
        "threeD = np.array([twoD0, twoD1])\n",
        "\n",
        "# print second array within our 3D array\n",
        "print(threeD[1, :, :])"
      ],
      "id": "7EyT9CmY_1B-"
    },
    {
      "cell_type": "markdown",
      "metadata": {
        "id": "2Jh-p845_1B-"
      },
      "source": [
        "We can also index a **specific row of an array** within the 3D array:\n",
        "\n",
        "```\n",
        "array[array #, row #, :] = row of array\n",
        "```"
      ],
      "id": "2Jh-p845_1B-"
    },
    {
      "cell_type": "code",
      "execution_count": null,
      "metadata": {
        "id": "LN6KQU6F_1B_",
        "outputId": "de5b8ed9-39b4-46ac-aea3-1825ffb5814e"
      },
      "outputs": [
        {
          "name": "stdout",
          "output_type": "stream",
          "text": [
            "[1 2 3]\n"
          ]
        }
      ],
      "source": [
        "# import numpy\n",
        "import numpy as np\n",
        "\n",
        "# create two 2D arrays\n",
        "twoD0 = np.array([[1, 2, 3], [4, 5, 6]])\n",
        "twoD1 = np.array([[7, 8, 9], [10, 11, 12]])\n",
        "\n",
        "# put both arrays together\n",
        "threeD = np.array([twoD0, twoD1])\n",
        "\n",
        "# print first row of the first array within our 3D array\n",
        "print(threeD[0, 0, :])"
      ],
      "id": "LN6KQU6F_1B_"
    },
    {
      "cell_type": "markdown",
      "metadata": {
        "id": "19WLz4S-_1B_"
      },
      "source": [
        "We can also index a **specific column of an array** within the 3D array:\n",
        "\n",
        "```\n",
        "array[array #, :, column #] = column of array\n",
        "```"
      ],
      "id": "19WLz4S-_1B_"
    },
    {
      "cell_type": "code",
      "execution_count": null,
      "metadata": {
        "id": "m9OKSVcw_1B_",
        "outputId": "69886beb-9e58-4908-f57e-49a0dba3c21b"
      },
      "outputs": [
        {
          "name": "stdout",
          "output_type": "stream",
          "text": [
            "[ 7 10]\n"
          ]
        }
      ],
      "source": [
        "# import numpy\n",
        "import numpy as np\n",
        "\n",
        "# create two 2D arrays\n",
        "twoD0 = np.array([[1, 2, 3], [4, 5, 6]])\n",
        "twoD1 = np.array([[7, 8, 9], [10, 11, 12]])\n",
        "\n",
        "# put both arrays together\n",
        "threeD = np.array([twoD0, twoD1])\n",
        "\n",
        "# print first column of the second array within our 3D array\n",
        "print(threeD[1, :, 0])"
      ],
      "id": "m9OKSVcw_1B_"
    },
    {
      "cell_type": "markdown",
      "metadata": {
        "id": "bK0drjMG_1B_"
      },
      "source": [
        "## Summary"
      ],
      "id": "bK0drjMG_1B_"
    },
    {
      "cell_type": "markdown",
      "metadata": {
        "id": "e8d9BTpk_1B_"
      },
      "source": [
        "* **[Multidimensional arrays](#Multidimensional-arrays)** are arrays with **_multiple dimensions_**.\n",
        "\n",
        "\n",
        "* **[Two dimensional arrays](#2D-arrays)** have <ins>**rows** and **columns**</ins>.\n",
        "\n",
        "\n",
        "* **[Three dimensional arrays](#3D-arrays)** have <ins>**rows**</ins>, <ins>**columns**</ins>, *and* <ins>**_arrays_**</ins>.\n",
        "\n",
        "\n",
        "* To **[index 2D arrays](#Indexing-2D-arrays)**:\n",
        "    * For a **specific row**, ```array[row #] = [row]```\n",
        "    * For a **specific column**, ```array[:, column #] = [column]```\n",
        "    * For a **specific value**, ```array[row #][column #] = value```\n",
        "\n",
        "\n",
        "* To **[index 3D arrays](#Indexing-3D-arrays)**:\n",
        "    * For a **specific array**,  ```array[array #, :, :] = array```\n",
        "    * For a **specific row of an array**, ```array[array #, row #, :] = row```\n",
        "    * For a **specific column of an array**, ```array[array #, :, column #] = column```"
      ],
      "id": "e8d9BTpk_1B_"
    },
    {
      "cell_type": "markdown",
      "metadata": {
        "id": "PRN38DxW_1B_"
      },
      "source": [
        "## Exercises"
      ],
      "id": "PRN38DxW_1B_"
    },
    {
      "cell_type": "markdown",
      "metadata": {
        "id": "f7qA5l6B_1B_"
      },
      "source": [
        "1. Try to **index the 3D array** defined below to find the 7 and 8."
      ],
      "id": "f7qA5l6B_1B_"
    },
    {
      "cell_type": "code",
      "execution_count": null,
      "metadata": {
        "id": "o9SJyGQ1_1B_"
      },
      "outputs": [],
      "source": [
        "#answer\n",
        "\n",
        "# import numpy\n",
        "import numpy as np\n",
        "\n",
        "# create two 2D arrays\n",
        "twoD0 = np.array([[1, 2, 1], [8, 6, 6]])\n",
        "twoD1 = np.array([[1, 1, 7], [1, 0, 0]])\n",
        "\n",
        "# insert index code below"
      ],
      "id": "o9SJyGQ1_1B_"
    },
    {
      "cell_type": "markdown",
      "metadata": {
        "id": "4XMiTQzE_1B_"
      },
      "source": [
        "2. **Use the NumPy function ```shape()```** on the previous 3D array from the first exercise. What does the output represent? Use this function on the 2D array **```twoD0```** from the first exercise. What does this output represent?"
      ],
      "id": "4XMiTQzE_1B_"
    },
    {
      "cell_type": "code",
      "execution_count": null,
      "metadata": {
        "id": "9wdTGN2F_1B_"
      },
      "outputs": [],
      "source": [
        "# answer\n",
        "\n",
        "import numpy as np\n",
        "\n",
        "# Placeholder arrays (Replace these with your actual arrays)\n",
        "threeD_array = np.array([[[1, 2], [3, 4]], [[5, 6], [7, 8]], [[9, 10], [11, 12]]])\n",
        "twoD_array = np.array([[1, 2, 3], [4, 5, 6]])\n",
        "\n",
        "# Getting the shape of the 3D array\n",
        "shape_3D = threeD_array.shape\n",
        "print(\"Shape of the 3D array:\", shape_3D)"
      ],
      "id": "9wdTGN2F_1B_"
    },
    {
      "cell_type": "markdown",
      "metadata": {
        "id": "Dol0Ts2m_1CA"
      },
      "source": [
        "3. Think about how one may create a 4D array. How many arrays do you believe you would need to create this? Try creating one below."
      ],
      "id": "Dol0Ts2m_1CA"
    },
    {
      "cell_type": "code",
      "execution_count": null,
      "metadata": {
        "id": "oeFspRmS_1CA"
      },
      "outputs": [],
      "source": [
        "# answer\n",
        "\n",
        "import numpy as np\n",
        "\n",
        "# Create a 4D array using nested lists\n",
        "# This example creates a 2x3x4x5 array filled with zeros\n",
        "fourD_array = np.zeros((2, 3, 4, 5))\n",
        "\n",
        "# Print the shape of the 4D array\n",
        "print(\"Shape of the 4D array:\", fourD_array.shape)\n",
        "\n"
      ],
      "id": "oeFspRmS_1CA"
    }
  ],
  "metadata": {
    "kernelspec": {
      "display_name": "Python 3 (ipykernel)",
      "language": "python",
      "name": "python3"
    },
    "language_info": {
      "codemirror_mode": {
        "name": "ipython",
        "version": 3
      },
      "file_extension": ".py",
      "mimetype": "text/x-python",
      "name": "python",
      "nbconvert_exporter": "python",
      "pygments_lexer": "ipython3",
      "version": "3.8.10"
    },
    "colab": {
      "provenance": [],
      "include_colab_link": true
    }
  },
  "nbformat": 4,
  "nbformat_minor": 5
}