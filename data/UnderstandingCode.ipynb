{
 "cells": [
  {
   "cell_type": "markdown",
   "id": "8607b38b-9f4a-45dd-90cb-3f51684d4def",
   "metadata": {},
   "source": [
    "# Understanding Code"
   ]
  },
  {
   "cell_type": "markdown",
   "id": "8aad4f90-da51-4132-bc2e-b917918803a8",
   "metadata": {},
   "source": [
    "Before writing your own code, it is important to be able to <ins>**_read and understand code_**</ins>. Now that we know [some of building blocks](DataTypes.ipynb), we can learn the basics of *understanding code*."
   ]
  },
  {
   "cell_type": "markdown",
   "id": "b66373cf-5f14-49e7-bc52-b8643d9ed4c2",
   "metadata": {},
   "source": [
    "<img src = \"https://i.redd.it/poa9b8l36gm41.jpg\" width = '400'>"
   ]
  },
  {
   "cell_type": "markdown",
   "id": "9e5df925-70eb-4240-b95b-efbb9b5e51fe",
   "metadata": {},
   "source": [
    "By the end of this section, you will learn:\n",
    "* [**basic Python syntax**](#Python-syntax)\n",
    "* [**to read code**](#Reading-code)\n",
    "* [**tips on writing your own code**](#Tips-for-your-code)"
   ]
  },
  {
   "cell_type": "markdown",
   "id": "dcedb950-b47c-43e2-88b2-44171e142758",
   "metadata": {},
   "source": [
    "## Python syntax"
   ]
  },
  {
   "cell_type": "markdown",
   "id": "352410ce-dfd4-4744-99f9-1ae571699db4",
   "metadata": {},
   "source": [
    "**Syntax** is **_extremely important_** in writing code. It could make or break your code (*literally*)."
   ]
  },
  {
   "cell_type": "markdown",
   "id": "b59c766b-0ef4-477b-89be-edd3d59bc044",
   "metadata": {},
   "source": [
    "### Comments"
   ]
  },
  {
   "cell_type": "markdown",
   "id": "b7f39e62-08c7-4786-b697-c1ea1b4caf86",
   "metadata": {},
   "source": [
    "**Comments** explain <ins>**what a variable is and what a function is doing**</ins>. When writing your own code, it's a good rule of thumb to have <ins>**_at least one comment per three lines of code_**</ins>."
   ]
  },
  {
   "cell_type": "markdown",
   "id": "e59173d4-f093-4137-a6fe-250b6d681419",
   "metadata": {},
   "source": [
    "To make a comment, you use a **```#```** . Here is an example:"
   ]
  },
  {
   "cell_type": "code",
   "execution_count": null,
   "id": "f0d6a138-c7f1-42f4-aaf9-161c002224da",
   "metadata": {},
   "outputs": [],
   "source": [
    "# This is a comment stating comments are cool!"
   ]
  },
  {
   "cell_type": "markdown",
   "id": "d1be8b71-8d19-4517-aaab-7e4f140ec8d2",
   "metadata": {},
   "source": [
    "### Indentations"
   ]
  },
  {
   "cell_type": "markdown",
   "id": "7dfe2508-c719-4a75-a9bf-ad860aed9f79",
   "metadata": {},
   "source": [
    "There are certain times when an **identation** is needed (ex: ```if``` statements). An example is:"
   ]
  },
  {
   "cell_type": "code",
   "execution_count": null,
   "id": "e1342edf-191e-457e-bd6f-d9cc06c30cdd",
   "metadata": {},
   "outputs": [],
   "source": [
    "if 1 > 0.5:\n",
    "    print('yay!')"
   ]
  },
  {
   "cell_type": "markdown",
   "id": "b3a69885-97ce-4d13-abe3-26e79e07bc18",
   "metadata": {},
   "source": [
    "If there was no indentation, we would get an **error**. Run the following example:"
   ]
  },
  {
   "cell_type": "code",
   "execution_count": null,
   "id": "74e37538-511e-4bc7-8209-4a67ee694f87",
   "metadata": {},
   "outputs": [],
   "source": [
    "if 1 > 0.5:\n",
    "print('yay!')"
   ]
  },
  {
   "cell_type": "markdown",
   "id": "f7c51d1e-ea91-4ace-8eb6-048e73703ad2",
   "metadata": {},
   "source": [
    "### Reserved words"
   ]
  },
  {
   "cell_type": "markdown",
   "id": "5f31ced5-9b87-4215-b2db-faa13656d95d",
   "metadata": {},
   "source": [
    "Within Python, there are a set of words which have specific meanings and are thus reserved. They are the following:\n",
    "\n",
    "<img src=\"https://miro.medium.com/v2/resize:fit:1400/1*yK4v8a_uiszz_hNaZ21xQg.jpeg\">"
   ]
  },
  {
   "cell_type": "markdown",
   "id": "280c1e68-301c-449d-9d32-31a2c7f3e71e",
   "metadata": {},
   "source": [
    "### Mathematical operations"
   ]
  },
  {
   "cell_type": "markdown",
   "id": "7936971f-e723-4d93-b8ca-155bc6724397",
   "metadata": {},
   "source": [
    "We can use the following **operators** to accomplish mathematical operations:\n",
    "\n",
    "|Operator|Symbol|\n",
    "|-|-:|\n",
    "|Addition|**```+```**|\n",
    "|Subtraction|**```-```**|\n",
    "|Multiplication|**```*```**|\n",
    "|Division|**```/```**|\n",
    "|Exponentiation|**``` ** ```**|"
   ]
  },
  {
   "cell_type": "markdown",
   "id": "a97fdc2c-fdfc-4143-99b2-51257201b35a",
   "metadata": {},
   "source": [
    "### ```print()```"
   ]
  },
  {
   "cell_type": "markdown",
   "id": "4b2165f9-142d-442b-bba2-f0b480269d18",
   "metadata": {},
   "source": [
    "You can make a variable, however you it will not be returned unless you use the **```print()``` function**. Run the code below:"
   ]
  },
  {
   "cell_type": "code",
   "execution_count": null,
   "id": "e86aff6d-662e-4b3c-92fc-7272ac60efc6",
   "metadata": {},
   "outputs": [],
   "source": [
    "x = 3"
   ]
  },
  {
   "cell_type": "markdown",
   "id": "627b5992-c5a4-49ae-bddb-46e337a14dae",
   "metadata": {},
   "source": [
    "Notice that nothing was returned. Now let's add **```print(x)```**:"
   ]
  },
  {
   "cell_type": "code",
   "execution_count": null,
   "id": "4e9e9fe3-73f4-4ace-82b5-20abbb0e872c",
   "metadata": {},
   "outputs": [],
   "source": [
    "x = 3\n",
    "print(x)"
   ]
  },
  {
   "cell_type": "markdown",
   "id": "61fe8d42-424e-4243-b76d-037ecf3d7259",
   "metadata": {},
   "source": [
    "## Reading code"
   ]
  },
  {
   "cell_type": "markdown",
   "id": "5c32346c-57dc-4472-9d67-23b9d326d10c",
   "metadata": {},
   "source": [
    "When you first look at code, it can be overwhelming. We are going to break it down into bite-size pieces.\n",
    "\n",
    "Let's break down this block of code:"
   ]
  },
  {
   "cell_type": "code",
   "execution_count": null,
   "id": "fcf2f8d6-51c1-4968-8bf5-48475929a603",
   "metadata": {},
   "outputs": [],
   "source": [
    "import numpy as np\n",
    "import matplotlib.pyplot as plt\n",
    "\n",
    "# Price of cars over time\n",
    "time = np.arange(1950, 2020, 10)\n",
    "price = np.array([10000, 15000, 18500, 26800, 33500, 42700, 30500])\n",
    "\n",
    "# Graph it\n",
    "plt.figure(1)\n",
    "plt.plot(time, price,'r-')\n",
    "plt.title('Average price of cars from 1950 to 2020')\n",
    "plt.xlabel('Time')\n",
    "plt.ylabel('Price')"
   ]
  },
  {
   "cell_type": "markdown",
   "id": "eee818e7-a9eb-4e52-a421-2b7a9dc1354b",
   "metadata": {},
   "source": [
    "The **first part** is:\n",
    "\n",
    "```python\n",
    "import numpy as np\n",
    "import matplotlib.pyplot as plt\n",
    "```\n",
    "\n",
    "[Numpy](Introduction2Functions.ipynb) and [Matplotlib](Figures.ipynb) are both libraries that are used in Python (```numPy``` is a <ins>numerical</ins> library and ```matplotlib``` is a <ins>data visualization</ins> library). We won't go into detail about what each has to offer but for now you should know that each has to be imported to be utilized."
   ]
  },
  {
   "cell_type": "markdown",
   "id": "64af6630-6f0f-4128-886a-70e4947af05d",
   "metadata": {},
   "source": [
    "The **second part** is:\n",
    "```python\n",
    "# Price of cars over time\n",
    "time = np.arange(1950, 2020, 10)\n",
    "price = np.array([10000, 15000, 18500, 26800, 33500, 42700, 30500])\n",
    "```\n",
    "\n",
    "The user is making the comment \"Price of cars over time\" and creating two variables: time and price. Comments can be made by using #. The NumPy function ```arange()``` is used to create a time range from 1950 to 2020 with a 10 year interval. The NumPy function ```array()``` is used to create an array of price values."
   ]
  },
  {
   "cell_type": "markdown",
   "id": "440b4352-ad44-427d-a6a2-62e903fc4f97",
   "metadata": {},
   "source": [
    "We'll split the **last part** in half. Let's deal with the **first three lines** :\n",
    "\n",
    "```python\n",
    "# Graph it\n",
    "plt.figure(1)\n",
    "plt.plot(time, price,'r-')\n",
    "```\n",
    "\n",
    "A comment is first made \"Graph it\" using the **```#```**. The next line is using ```matplotlib``` to create a new figure where the user will plot the information. The figure is designated as 1, hence the 1 within the ```()```. The third line is now plotting the information (previous variables made) using pylab. The first input is the x-axis, the second is the y-axis, and the third is the color of the line: red. \n",
    "\n",
    "\n",
    "The **last three lines** are as follows:\n",
    "\n",
    "```python\n",
    "plt.title('Average price of cars from 1950 to 2020')\n",
    "plt.xlabel('Time')\n",
    "plt.ylabel('Price')\n",
    "```\n",
    "\n",
    "The first line is adding a title to the graph using quotations. The second line is adding a label to the x-axis using quotations. The third line is adding a label to the y-axis using quotations."
   ]
  },
  {
   "cell_type": "markdown",
   "id": "d8bbdf3a-236f-4746-b877-cfbd182fd926",
   "metadata": {},
   "source": [
    "## Tips for your code"
   ]
  },
  {
   "cell_type": "markdown",
   "id": "81ab2132-ba88-4209-a0bc-5c3bcf3c63c6",
   "metadata": {},
   "source": [
    "### Naming Variables"
   ]
  },
  {
   "cell_type": "markdown",
   "id": "f7f03439-f549-42af-a643-a13e382bac34",
   "metadata": {},
   "source": [
    "We have the power to name our variables. This provides us the opportunity to stay organized in our code. There are some rules, however, to naming variables:\n",
    "* it **<ins>must start with a letter or underscore</ins>** (no numbers!)\n",
    "* can *only* contain **<ins>letters</ins>, <ins>numbers</ins>, and <ins>underscores</ins>**\n",
    "* they are **<ins>case-sensitive</ins>**"
   ]
  },
  {
   "cell_type": "markdown",
   "id": "5499cb82-2a5a-4778-9627-8da085616d6b",
   "metadata": {},
   "source": [
    "Here are examples of **_bad_** variable names:\n",
    "\n",
    "```relativehumidity_for_1999```\n",
    "\n",
    "```relhum```\n",
    "\n",
    "```data1```"
   ]
  },
  {
   "cell_type": "markdown",
   "id": "735835c3-9a85-49b8-95d3-ff89533ad430",
   "metadata": {},
   "source": [
    "There are different ways to change these names to make them **_better_** :\n",
    "1. We can shorten it\n",
    "\n",
    "```relhum1999```\n",
    "\n",
    "2. We can make it more specific\n",
    "\n",
    "```relhum_buff```"
   ]
  },
  {
   "cell_type": "markdown",
   "id": "46795f12-eec8-4081-bc85-fff641a33bd3",
   "metadata": {},
   "source": [
    "### Commenting"
   ]
  },
  {
   "cell_type": "markdown",
   "id": "b673f23d-e183-48f2-84d2-286d97472511",
   "metadata": {},
   "source": [
    "As previously mentioned, you should have <ins>**_at least one comment per three lines of code_**</ins>. Here is a good example of commenting:"
   ]
  },
  {
   "cell_type": "code",
   "execution_count": null,
   "id": "e830fb51-fe29-42af-b94c-4d950dd4c8d8",
   "metadata": {},
   "outputs": [],
   "source": [
    "# Define two variables, each a float with a different value\n",
    "variable1 = 2742.\n",
    "variable2 = 312.\n",
    "\n",
    "# multiply the variables by each other\n",
    "product = variable1*variable2\n",
    "\n",
    "# These are three different ways of printing the variables multiplied by each\n",
    "# other!# Define two variables, each a float with a different value\n",
    "variable1 = 2742.\n",
    "variable2 = 312.\n",
    "\n",
    "# multiply the variables by each other\n",
    "product = variable1*variable2\n",
    "\n",
    "# These are three different ways of printing the variables multiplied by each\n",
    "# other!\n",
    "print(variable1*variable2)\n",
    "print(product)\n",
    "print('Product of variables = ' + str(product))\n",
    "\n",
    "# last print statement\n",
    "print('hello world')\n",
    "print(variable1*variable2)\n",
    "print(product)\n",
    "print('Product of variables = ' + str(product))\n",
    "\n",
    "# last print statement\n",
    "print('hello world')"
   ]
  },
  {
   "cell_type": "markdown",
   "id": "2803910f-28b2-44a0-80d4-bb5a71334ea4",
   "metadata": {},
   "source": [
    "## Summary"
   ]
  },
  {
   "cell_type": "markdown",
   "id": "d0034f31-ee13-4645-8231-14d56695338e",
   "metadata": {},
   "source": [
    "* **[Basic Python syntax](#Python-syntax)** includes:\n",
    "    - **[Comments](#Comments)** can be made using **```#```**\n",
    "    - If you are <ins>defining a function</ins> or using <ins>conditional statements</ins>, remember **[indentations](#Indentations)**\n",
    "    - There are **[reserved words](#Reserved-words)** within Python that cannot be used\n",
    "    - To <ins>return an output</ins>, you must use **[```print()```](#print())**\n",
    "\n",
    "\n",
    "* To help keep your code organized and clear, you can:\n",
    "    - **[Name variables](#Naming-Variables)** appropriately\n",
    "    - Add **at least one [comment](#Commenting) every three lines**"
   ]
  },
  {
   "cell_type": "markdown",
   "id": "a6bfee3f-8c91-4d67-aa5d-a31116987727",
   "metadata": {},
   "source": [
    "## Exercise"
   ]
  },
  {
   "cell_type": "markdown",
   "id": "746a3629-98a8-448b-b84d-4fcd89b3ba1b",
   "metadata": {},
   "source": [
    "**Read** the following codes and **add** comments where necessary."
   ]
  },
  {
   "cell_type": "code",
   "execution_count": null,
   "id": "bb191e77-9a94-4eab-a5b5-fd8e5dd595c0",
   "metadata": {},
   "outputs": [],
   "source": [
    "color = ['pink', 'magenta', 'periwinkle', 'blue', 'sage']\n",
    "\n",
    "for i in color:\n",
    "    if i == 'blue':\n",
    "        print('my favorite color is {}'.format(i) )\n",
    "    elif i == 'magenta':\n",
    "        print ('my least favorite color is {}'.format(i))\n",
    "    else:\n",
    "        print('{} is okay'.format(i))"
   ]
  },
  {
   "cell_type": "code",
   "execution_count": null,
   "id": "6f11b8ff-ae2e-43d2-811a-50309e56ddf4",
   "metadata": {},
   "outputs": [],
   "source": [
    "date = ['February 1st', 'May 15th', 'September 5th','December 12th']\n",
    "temp = [20, 75, 72, 10]\n",
    "\n",
    "n = len(date)\n",
    "\n",
    "for i in range(n):\n",
    "    print('The temperature was', temp[i], 'degrees Fahrenheit on', date[i])"
   ]
  }
 ],
 "metadata": {
  "kernelspec": {
   "display_name": "Python 3 (ipykernel)",
   "language": "python",
   "name": "python3"
  },
  "language_info": {
   "codemirror_mode": {
    "name": "ipython",
    "version": 3
   },
   "file_extension": ".py",
   "mimetype": "text/x-python",
   "name": "python",
   "nbconvert_exporter": "python",
   "pygments_lexer": "ipython3",
   "version": "3.8.15"
  }
 },
 "nbformat": 4,
 "nbformat_minor": 5
}
