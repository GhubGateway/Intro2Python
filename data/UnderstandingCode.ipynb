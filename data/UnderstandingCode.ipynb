{
 "cells": [
  {
   "cell_type": "markdown",
   "id": "2eb980a1",
   "metadata": {},
   "source": [
    "# Understanding Code"
   ]
  },
  {
   "cell_type": "markdown",
   "id": "7fa0fa48",
   "metadata": {},
   "source": [
    "Before writing your own code, it is important to be able to <ins>**_read and understand code_**</ins>. Now that we know [some of building blocks](DataTypes.ipynb), we can learn the basics of *understanding code*."
   ]
  },
  {
   "cell_type": "markdown",
   "id": "71d81011",
   "metadata": {},
   "source": [
    "<img src = \"https://i.redd.it/poa9b8l36gm41.jpg\">"
   ]
  },
  {
   "cell_type": "markdown",
   "id": "3a8d6cc0",
   "metadata": {},
   "source": [
    "By the end of this section, you will learn:\n",
    "* [**basic Python syntax**](#Python-syntax)\n",
    "* [**to read code**](#Reading-code)\n",
    "* [**tips on writing your own code**](#Tips-for-your-code)"
   ]
  },
  {
   "cell_type": "markdown",
   "id": "38503282",
   "metadata": {},
   "source": [
    "## Python syntax"
   ]
  },
  {
   "cell_type": "markdown",
   "id": "c5a45851",
   "metadata": {},
   "source": [
    "**Syntax** is **_extremely important_** in writing code. It could make or break your code (*literally*)."
   ]
  },
  {
   "cell_type": "markdown",
   "id": "09f9d6c7",
   "metadata": {},
   "source": [
    "### Comments"
   ]
  },
  {
   "cell_type": "markdown",
   "id": "1041be88",
   "metadata": {},
   "source": [
    "**Comments** explain <ins>**what a variable is and what a function is doing**</ins>. When writing your own code, it's a good rule of thumb to have <ins>**_at least one comment per three lines of code_**</ins>."
   ]
  },
  {
   "cell_type": "markdown",
   "id": "e5f19f23",
   "metadata": {},
   "source": [
    "To make a comment, you use a **```#```** . Here is an example:"
   ]
  },
  {
   "cell_type": "code",
   "execution_count": null,
   "id": "5eb638b4",
   "metadata": {},
   "outputs": [],
   "source": [
    "# This is a comment stating comments are cool!"
   ]
  },
  {
   "cell_type": "markdown",
   "id": "d43d5b3b",
   "metadata": {},
   "source": [
    "### Indentations"
   ]
  },
  {
   "cell_type": "markdown",
   "id": "b0e0a7e7",
   "metadata": {},
   "source": [
    "There are certain times when an **identation** is needed (ex: ```if``` statements). An example is:"
   ]
  },
  {
   "cell_type": "code",
   "execution_count": null,
   "id": "6d456db5",
   "metadata": {},
   "outputs": [],
   "source": [
    "if 1 > 0.5:\n",
    "    print('yay!')"
   ]
  },
  {
   "cell_type": "markdown",
   "id": "2140ecd1",
   "metadata": {},
   "source": [
    "If there was no indentation, we would get an **error**. Run the following example:"
   ]
  },
  {
   "cell_type": "code",
   "execution_count": null,
   "id": "6663d6f7",
   "metadata": {},
   "outputs": [],
   "source": [
    "if 1 > 0.5:\n",
    "print('yay!')"
   ]
  },
  {
   "cell_type": "markdown",
   "id": "6b59f6ba",
   "metadata": {},
   "source": [
    "### Reserved words"
   ]
  },
  {
   "cell_type": "markdown",
   "id": "a1c2968f",
   "metadata": {},
   "source": [
    "Within Python, there are a set of words which have specific meanings and are thus reserved. They are the following:\n",
    "\n",
    "<img src=\"https://miro.medium.com/v2/resize:fit:1400/1*yK4v8a_uiszz_hNaZ21xQg.jpeg\">"
   ]
  },
  {
   "cell_type": "markdown",
   "id": "d313650d",
   "metadata": {},
   "source": [
    "### Mathematical operations"
   ]
  },
  {
   "cell_type": "markdown",
   "id": "58476592",
   "metadata": {},
   "source": [
    "We can use the following **operators** to accomplish mathematical operations:\n",
    "\n",
    "|Operator|Symbol|\n",
    "|-|-:|\n",
    "|Addition|**```+```**|\n",
    "|Subtraction|**```-```**|\n",
    "|Multiplication|**```*```**|\n",
    "|Division|**```/```**|\n",
    "|Exponentiation|**``` ** ```**|"
   ]
  },
  {
   "cell_type": "markdown",
   "id": "c6630aa5",
   "metadata": {},
   "source": [
    "### ```print()```"
   ]
  },
  {
   "cell_type": "markdown",
   "id": "03ce07e9",
   "metadata": {},
   "source": [
    "You can make a variable, however you it will not be returned unless you use the **```print()``` function**. Run the code below:"
   ]
  },
  {
   "cell_type": "code",
   "execution_count": null,
   "id": "5a9056d8",
   "metadata": {},
   "outputs": [],
   "source": [
    "x = 3"
   ]
  },
  {
   "cell_type": "markdown",
   "id": "e2e31920",
   "metadata": {},
   "source": [
    "Notice that nothing was returned. Now let's add **```print(x)```**:"
   ]
  },
  {
   "cell_type": "code",
   "execution_count": null,
   "id": "ede1dcb6",
   "metadata": {},
   "outputs": [],
   "source": [
    "x = 3\n",
    "print(x)"
   ]
  },
  {
   "cell_type": "markdown",
   "id": "e39ff19d",
   "metadata": {},
   "source": [
    "## Reading code"
   ]
  },
  {
   "cell_type": "markdown",
   "id": "0d63b370",
   "metadata": {},
   "source": [
    "When you first look at code, it can be overwhelming. We are going to break it down into bite-size pieces.\n",
    "\n",
    "Let's break down this block of code:"
   ]
  },
  {
   "cell_type": "code",
   "execution_count": null,
   "id": "2c2ee15d",
   "metadata": {},
   "outputs": [],
   "source": [
    "import numpy as np\n",
    "import matplotlib.pyplot as plt\n",
    "\n",
    "# Price of cars over time\n",
    "time = np.arange(1950, 2020, 10)\n",
    "price = np.array([10000, 15000, 18500, 26800, 33500, 42700, 30500])\n",
    "\n",
    "# Graph it\n",
    "plt.figure(1)\n",
    "plt.plot(time, price,'r-')\n",
    "plt.title('Average price of cars from 1950 to 2020')\n",
    "plt.xlabel('Time')\n",
    "plt.ylabel('Price')"
   ]
  },
  {
   "cell_type": "markdown",
   "id": "b99a35a3",
   "metadata": {},
   "source": [
    "The **first part** is:\n",
    "\n",
    "```python\n",
    "import numpy as np\n",
    "import matplotlib.pyplot as plt\n",
    "```\n",
    "\n",
    "[Numpy](Introduction2Functions.ipynb) and [Matplotlib](Figures.ipynb) are both libraries that are used in Python (```numPy``` is a <ins>numerical</ins> library and ```matplotlib``` is a <ins>data visualization</ins> library). We won't go into detail about what each has to offer but for now you should know that each has to be imported to be utilized."
   ]
  },
  {
   "cell_type": "markdown",
   "id": "71a863fc",
   "metadata": {},
   "source": [
    "The **second part** is:\n",
    "```python\n",
    "# Price of cars over time\n",
    "time = np.arange(1950, 2020, 10)\n",
    "price = np.array([10000, 15000, 18500, 26800, 33500, 42700, 30500])\n",
    "```\n",
    "\n",
    "The user is making the comment \"Price of cars over time\" and creating two variables: time and price. Comments can be made by using #. The NumPy function ```arange()``` is used to create a time range from 1950 to 2020 with a 10 year interval. The NumPy function ```array()``` is used to create an array of price values."
   ]
  },
  {
   "cell_type": "markdown",
   "id": "db526cf9",
   "metadata": {},
   "source": [
    "We'll split the **last part** in half. Let's deal with the **first three lines** :\n",
    "\n",
    "```python\n",
    "# Graph it\n",
    "plt.figure(1)\n",
    "plt.plot(time, price,'r-')\n",
    "```\n",
    "\n",
    "A comment is first made \"Graph it\" using the **```#```**. The next line is using ```matplotlib``` to create a new figure where the user will plot the information. The figure is designated as 1, hence the 1 within the ```()```. The third line is now plotting the information (previous variables made) using pylab. The first input is the x-axis, the second is the y-axis, and the third is the color of the line: red. \n",
    "\n",
    "\n",
    "The **last three lines** are as follows:\n",
    "\n",
    "```python\n",
    "plt.title('Average price of cars from 1950 to 2020')\n",
    "plt.xlabel('Time')\n",
    "plt.ylabel('Price')\n",
    "```\n",
    "\n",
    "The first line is adding a title to the graph using quotations. The second line is adding a label to the x-axis using quotations. The third line is adding a label to the y-axis using quotations."
   ]
  },
  {
   "cell_type": "markdown",
   "id": "c38ad1c9",
   "metadata": {},
   "source": [
    "## Tips for your code"
   ]
  },
  {
   "cell_type": "markdown",
   "id": "77616f28",
   "metadata": {},
   "source": [
    "### Naming Variables"
   ]
  },
  {
   "cell_type": "markdown",
   "id": "8722575f",
   "metadata": {},
   "source": [
    "We have the power to name our variables. This provides us the opportunity to stay organized in our code. There are some rules, however, to naming variables:\n",
    "* it **<ins>must start with a letter or underscore</ins>** (no numbers!)\n",
    "* can *only* contain **<ins>letters</ins>, <ins>numbers</ins>, and <ins>underscores</ins>**\n",
    "* they are **<ins>case-sensitive</ins>**"
   ]
  },
  {
   "cell_type": "markdown",
   "id": "dbe224d0",
   "metadata": {},
   "source": [
    "Here are examples of **_bad_** variable names:\n",
    "\n",
    "```relativehumidity_for_1999```\n",
    "\n",
    "```relhum```\n",
    "\n",
    "```data1```"
   ]
  },
  {
   "cell_type": "markdown",
   "id": "e3063950",
   "metadata": {},
   "source": [
    "There are different ways to change these names to make them **_better_** :\n",
    "1. We can shorten it\n",
    "\n",
    "```relhum1999```\n",
    "\n",
    "2. We can make it more specific\n",
    "\n",
    "```relhum_buff```"
   ]
  },
  {
   "cell_type": "markdown",
   "id": "22cc7fcb",
   "metadata": {},
   "source": [
    "### Commenting"
   ]
  },
  {
   "cell_type": "markdown",
   "id": "a31ed349",
   "metadata": {},
   "source": [
    "As previously mentioned, you should have <ins>**_at least one comment per three lines of code_**</ins>. Here is a good example of commenting:"
   ]
  },
  {
   "cell_type": "code",
   "execution_count": null,
   "id": "a7d6f437",
   "metadata": {},
   "outputs": [],
   "source": [
    "# Define two variables, each a float with a different value\n",
    "variable1 = 2742.\n",
    "variable2 = 312.\n",
    "\n",
    "# multiply the variables by each other\n",
    "product = variable1*variable2\n",
    "\n",
    "# These are three different ways of printing the variables multiplied by each\n",
    "# other!# Define two variables, each a float with a different value\n",
    "variable1 = 2742.\n",
    "variable2 = 312.\n",
    "\n",
    "# multiply the variables by each other\n",
    "product = variable1*variable2\n",
    "\n",
    "# These are three different ways of printing the variables multiplied by each\n",
    "# other!\n",
    "print(variable1*variable2)\n",
    "print(product)\n",
    "print('Product of variables = ' + str(product))\n",
    "\n",
    "# last print statement\n",
    "print('hello world')\n",
    "print(variable1*variable2)\n",
    "print(product)\n",
    "print('Product of variables = ' + str(product))\n",
    "\n",
    "# last print statement\n",
    "print('hello world')"
   ]
  },
  {
   "cell_type": "markdown",
   "id": "9128c5c4",
   "metadata": {},
   "source": [
    "## Summary"
   ]
  },
  {
   "cell_type": "markdown",
   "id": "0e191c46",
   "metadata": {},
   "source": [
    "* **[Basic Python syntax](#Python-syntax)** includes:\n",
    "    - **[Comments](#Comments)** can be made using **```#```**\n",
    "    - If you are <ins>defining a function</ins> or using <ins>conditional statements</ins>, remember **[indentations](#Indentations)**\n",
    "    - There are **[reserved words](#Reserved-words)** within Python that cannot be used\n",
    "    - To <ins>return an output</ins>, you must use **[```print()```](#print())**\n",
    "\n",
    "\n",
    "* To help keep your code organized and clear, you can:\n",
    "    - **[Name variables](#Naming-Variables)** appropriately\n",
    "    - Add **at least one [comment](#Commenting) every three lines**"
   ]
  },
  {
   "cell_type": "markdown",
   "id": "d1d68130",
   "metadata": {},
   "source": [
    "## Exercise"
   ]
  },
  {
   "cell_type": "markdown",
   "id": "d172d3a1",
   "metadata": {},
   "source": [
    "**Read** the following codes and **add** comments where necessary."
   ]
  },
  {
   "cell_type": "code",
   "execution_count": null,
   "id": "c6daa150",
   "metadata": {},
   "outputs": [],
   "source": [
    "color = ['pink', 'magenta', 'periwinkle', 'blue', 'sage']\n",
    "\n",
    "for i in color:\n",
    "    if i == 'blue':\n",
    "        print('my favorite color is {}'.format(i) )\n",
    "    elif i == 'magenta':\n",
    "        print ('my least favorite color is {}'.format(i))\n",
    "    else:\n",
    "        print('{} is okay'.format(i))"
   ]
  },
  {
   "cell_type": "code",
   "execution_count": null,
   "id": "816cb53d",
   "metadata": {},
   "outputs": [],
   "source": [
    "date = ['February 1st', 'May 15th', 'September 5th','December 12th']\n",
    "temp = [20, 75, 72, 10]\n",
    "\n",
    "n = len(date)\n",
    "\n",
    "for i in range(n):\n",
    "    print('The temperature was', temp[i], 'degrees Fahrenheit on', date[i])"
   ]
  }
 ],
 "metadata": {
  "kernelspec": {
   "display_name": "Python 3 (ipykernel)",
   "language": "python",
   "name": "python3"
  },
  "language_info": {
   "codemirror_mode": {
    "name": "ipython",
    "version": 3
   },
   "file_extension": ".py",
   "mimetype": "text/x-python",
   "name": "python",
   "nbconvert_exporter": "python",
   "pygments_lexer": "ipython3",
   "version": "3.9.13"
  }
 },
 "nbformat": 4,
 "nbformat_minor": 5
}
