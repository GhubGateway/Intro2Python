{
 "cells": [
  {
   "cell_type": "markdown",
   "id": "5bf98cc6",
   "metadata": {},
   "source": [
    "# Loops"
   ]
  },
  {
   "cell_type": "markdown",
   "id": "7535884f",
   "metadata": {},
   "source": [
    "There are times where you will need to <ins>**_apply a code multiple times or access all elements of a list or an array_**</ins>. Instead of copying and pasting many times, we can use <ins>**loops**</ins>."
   ]
  },
  {
   "cell_type": "markdown",
   "id": "8e6f5b60",
   "metadata": {},
   "source": [
    "<img src=\"https://timmousk.com/wp-content/uploads/2022/03/2-6.jpg\">"
   ]
  },
  {
   "cell_type": "markdown",
   "id": "198f40b2",
   "metadata": {},
   "source": [
    "By the end of this section you will learn:\n",
    "* [**to explore the individual elements of lists and arrays**](#Indexing)\n",
    "* [**about ```for``` and ```while``` loops**](#Types-of-Loops)"
   ]
  },
  {
   "cell_type": "markdown",
   "id": "54baa6a7",
   "metadata": {},
   "source": [
    "## Indexing"
   ]
  },
  {
   "cell_type": "markdown",
   "id": "adb2c117",
   "metadata": {},
   "source": [
    "**Indexing** helps <ins>**explore an individual element or elements**</ins> in lists and arrays. Within lists and arrays the <ins>**first element is indexed as 0, then the next element is 1, and so on**</ins>."
   ]
  },
  {
   "cell_type": "markdown",
   "id": "f6c77831",
   "metadata": {},
   "source": [
    "<img src = \"https://scaler.com/topics/images/Python-list-index-1-1024x498.jpeg\" >"
   ]
  },
  {
   "cell_type": "markdown",
   "id": "6be07591",
   "metadata": {},
   "source": [
    "To return an element of a list or array, we can type:\n",
    "\n",
    "**``` list[n] ```**\n",
    "\n",
    "where **```n```** is the index of the element. An example of returning the third element of a list is:"
   ]
  },
  {
   "cell_type": "code",
   "execution_count": 6,
   "id": "a3884f94",
   "metadata": {
    "scrolled": true
   },
   "outputs": [
    {
     "name": "stdout",
     "output_type": "stream",
     "text": [
      "c\n"
     ]
    }
   ],
   "source": [
    "list = ['a','b','c','d']\n",
    "print(list[2])"
   ]
  },
  {
   "cell_type": "markdown",
   "id": "30479f18",
   "metadata": {},
   "source": [
    "The last element can also be indexed as -1, which will result in a decreasing order. The second to last will be -2, and so on."
   ]
  },
  {
   "cell_type": "code",
   "execution_count": 9,
   "id": "649d866f",
   "metadata": {},
   "outputs": [
    {
     "name": "stdout",
     "output_type": "stream",
     "text": [
      "b\n"
     ]
    }
   ],
   "source": [
    "list = ['a','b','c','d']\n",
    "print(list[-3])"
   ]
  },
  {
   "cell_type": "markdown",
   "id": "b6aad859",
   "metadata": {},
   "source": [
    "Let's say we wanted to return every other element of our list or array. We could do so by using a semi-colon **```:```**."
   ]
  },
  {
   "cell_type": "code",
   "execution_count": 11,
   "id": "51c8abbd",
   "metadata": {},
   "outputs": [
    {
     "name": "stdout",
     "output_type": "stream",
     "text": [
      "[1 3 5 7]\n",
      "[2 4 6 8]\n"
     ]
    }
   ],
   "source": [
    "import numpy as np\n",
    "array = np.array([1, 2, 3, 4, 5, 6, 7, 8])\n",
    "odds = array[::2] # this 2 means it will print out every other element, the first semi-colon signifies starting at the first index\n",
    "print(odds)\n",
    "\n",
    "evens = array[1::2] # this means we will print out every other element starting at the second index\n",
    "print(evens)"
   ]
  },
  {
   "cell_type": "markdown",
   "id": "3c91f6c4",
   "metadata": {},
   "source": [
    "We can also find at what index a certain element occurs at. Here we have a list and use the **```index()```** built-in python function to find at which index '3' occurs at."
   ]
  },
  {
   "cell_type": "code",
   "execution_count": 14,
   "id": "02e1a70a",
   "metadata": {},
   "outputs": [
    {
     "name": "stdout",
     "output_type": "stream",
     "text": [
      "2\n"
     ]
    }
   ],
   "source": [
    "list = [1, 2, 3, 4, 5, 6, 7, 8]\n",
    "result = list.index(3)\n",
    "print(result)"
   ]
  },
  {
   "cell_type": "markdown",
   "id": "442e5b45",
   "metadata": {},
   "source": [
    "## Types of Loops"
   ]
  },
  {
   "cell_type": "markdown",
   "id": "8ac51286",
   "metadata": {},
   "source": [
    "### ```for``` loops"
   ]
  },
  {
   "cell_type": "markdown",
   "id": "ed300aa8",
   "metadata": {},
   "source": [
    "One type of loop is **```for```** loops which are also known as <ins>**\"definite loops.\"**</ins> These loops allow you to <ins>**apply code to all elements or a set of indices with a defined termination**</ins> set by the user. It follows this basic format:"
   ]
  },
  {
   "cell_type": "markdown",
   "id": "72cee5be",
   "metadata": {},
   "source": [
    "```python\n",
    "for item in group :\n",
    "    do this thing to the current item\n",
    "    when done with items, run the rest of the code\n",
    "```"
   ]
  },
  {
   "cell_type": "markdown",
   "id": "2dab431b",
   "metadata": {},
   "source": [
    "An example is:"
   ]
  },
  {
   "cell_type": "code",
   "execution_count": 1,
   "id": "9f953797",
   "metadata": {},
   "outputs": [
    {
     "name": "stdout",
     "output_type": "stream",
     "text": [
      "34\n",
      "17\n",
      "12\n"
     ]
    }
   ],
   "source": [
    "# Here we are telling the for loop to print each item in the group\n",
    "for item in [34, 17, 12]:\n",
    "    print(item)"
   ]
  },
  {
   "cell_type": "markdown",
   "id": "01606692",
   "metadata": {},
   "source": [
    "We can also use **```for``` loops** to <ins>**return certain indices**</ins> within a list or array."
   ]
  },
  {
   "cell_type": "code",
   "execution_count": 5,
   "id": "a37c0553",
   "metadata": {},
   "outputs": [
    {
     "name": "stdout",
     "output_type": "stream",
     "text": [
      "2\n",
      "6\n",
      "finished!!\n"
     ]
    }
   ],
   "source": [
    "import numpy as np\n",
    "items = np.array([2, 4, 6, 8])\n",
    "\n",
    "for i in [0,2]:\n",
    "    print(items[i])\n",
    "print(\"finished!!\") # print that we have finished our loop!"
   ]
  },
  {
   "cell_type": "markdown",
   "id": "49bf0264",
   "metadata": {},
   "source": [
    "### ```while``` loops"
   ]
  },
  {
   "cell_type": "markdown",
   "id": "2bb469ad",
   "metadata": {},
   "source": [
    "A **```while```** loop <ins>**applies code to elements until a condition is not met**</ins>. Once the condition is not met, it will continue on to the rest of the code. **```while```** loops are also known as <ins>**\"indefinite loops.\"**</ins> It follows this basic format:"
   ]
  },
  {
   "cell_type": "markdown",
   "id": "785cfc0f",
   "metadata": {},
   "source": [
    "```python\n",
    "while some condition :\n",
    "    do something, if the condition is met\n",
    "    when the condition is no longer met, do rest of code\n",
    "```"
   ]
  },
  {
   "cell_type": "markdown",
   "id": "59a60932",
   "metadata": {},
   "source": [
    "**```while```** loops are great if you have a certain conditon to meet for a group of elements. *However*, you have to make sure to <ins>**avoid an infinite loop**</ins>. An example of avoiding an infinite loop is:"
   ]
  },
  {
   "cell_type": "code",
   "execution_count": 8,
   "id": "3236dfb6",
   "metadata": {
    "scrolled": true
   },
   "outputs": [
    {
     "name": "stdout",
     "output_type": "stream",
     "text": [
      "1\n",
      "2\n",
      "3\n",
      "4\n",
      "5\n",
      "6\n",
      "finished!!\n"
     ]
    }
   ],
   "source": [
    "flag = 1\n",
    "\n",
    "# the below while loop will continue as long as flag has a value less than 7\n",
    "while flag < 7:\n",
    "    print(flag) # here, we are printing our current flag value\n",
    "    flag = flag + 1 # now, we are increasing the value of flag to avoid an infinite loop\n",
    "print(\"finished!!\")"
   ]
  },
  {
   "cell_type": "markdown",
   "id": "87063098",
   "metadata": {},
   "source": [
    "## Summary"
   ]
  },
  {
   "cell_type": "markdown",
   "id": "b1fc462f",
   "metadata": {},
   "source": [
    "* **[Loops](#Loops)** are used to\n",
    "    * access **_all_** elements of lists and arrays\n",
    "    * apply blocks of codes **multiple times**\n",
    "\n",
    "\n",
    "* **[Indexing](#Indexing)** allows you to access **individual** elements of lists and arrays\n",
    "\n",
    "\n",
    "* **[```for```](#for-loops)** loops are **definite loops**, which have an ending determined by the user\n",
    "\n",
    "\n",
    "* **[```while```](#while-loops)** loops are **indefinite loops**, which end once a condition is no longer met"
   ]
  },
  {
   "cell_type": "markdown",
   "id": "9e1a7a99",
   "metadata": {},
   "source": [
    "## Exercises"
   ]
  },
  {
   "cell_type": "markdown",
   "id": "28de1784",
   "metadata": {},
   "source": [
    "1. **Return the last four values** of the array ```co2```."
   ]
  },
  {
   "cell_type": "code",
   "execution_count": null,
   "id": "713820df-defa-48cf-86c0-ff998f67ce27",
   "metadata": {},
   "outputs": [],
   "source": []
  },
  {
   "cell_type": "markdown",
   "id": "ba058ba6",
   "metadata": {},
   "source": [
    "2. **Create a ```for loop```** which adds 1 to the first and fourth index of the array ```h2o```."
   ]
  },
  {
   "cell_type": "code",
   "execution_count": null,
   "id": "dd9d29f1",
   "metadata": {},
   "outputs": [],
   "source": []
  },
  {
   "cell_type": "markdown",
   "id": "d339c46c",
   "metadata": {},
   "source": [
    "3. **Create a ```while``` loop** which returns a value less than 5 from the array ```items``` divided by 2, and prints \"finished!!\" when done."
   ]
  },
  {
   "cell_type": "code",
   "execution_count": null,
   "id": "516fb1a2",
   "metadata": {},
   "outputs": [],
   "source": []
  },
  {
   "cell_type": "markdown",
   "id": "41be699e-98ba-4a13-aee4-0b04e8d089eb",
   "metadata": {},
   "source": [
    "## Answers"
   ]
  },
  {
   "cell_type": "markdown",
   "id": "ebf41483-79cd-45c5-8ac9-3cb188a3befe",
   "metadata": {},
   "source": [
    "1. **Return the last four values** of the array ```co2```."
   ]
  },
  {
   "cell_type": "code",
   "execution_count": 3,
   "id": "60a659aa-fffe-4d2c-b7d6-e1ff8f7ac02c",
   "metadata": {},
   "outputs": [],
   "source": [
    "import numpy as np\n",
    "co2 = np.array([2.4, 4.3, 5.9, 1.2, 3.8, 9.8, 0.7])"
   ]
  },
  {
   "cell_type": "markdown",
   "id": "06649554-e364-4fbd-a0a0-e476bae6e55a",
   "metadata": {},
   "source": [
    "2. **Create a ```for loop```** which adds 1 to the first and fourth index of the array ```h2o```."
   ]
  },
  {
   "cell_type": "code",
   "execution_count": 4,
   "id": "6ee0f96f-447c-47b2-aab4-3df4c7712abd",
   "metadata": {},
   "outputs": [],
   "source": [
    "import numpy as np\n",
    "h2o = np.array([7.8, 21.8, 3.9, 1.5, 6.8, 11.4, 17.2])"
   ]
  },
  {
   "cell_type": "markdown",
   "id": "b548c5bd-ffa8-4f3a-8f00-2773b4e6e48c",
   "metadata": {},
   "source": [
    "3. **Create a ```while``` loop** which returns a value less than 5 from the array ```items``` divided by 2, and prints \"finished!!\" when done."
   ]
  },
  {
   "cell_type": "code",
   "execution_count": 5,
   "id": "daf05930-c6cd-4dfd-8389-0be9a41a08b4",
   "metadata": {},
   "outputs": [],
   "source": [
    "import numpy as np\n",
    "items = np.array([2, 1, 4, 7, 8])"
   ]
  }
 ],
 "metadata": {
  "kernelspec": {
   "display_name": "Python 3 (ipykernel)",
   "language": "python",
   "name": "python3"
  },
  "language_info": {
   "codemirror_mode": {
    "name": "ipython",
    "version": 3
   },
   "file_extension": ".py",
   "mimetype": "text/x-python",
   "name": "python",
   "nbconvert_exporter": "python",
   "pygments_lexer": "ipython3",
   "version": "3.8.15"
  }
 },
 "nbformat": 4,
 "nbformat_minor": 5
}
