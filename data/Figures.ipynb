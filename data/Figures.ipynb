{
  "cells": [
    {
      "cell_type": "markdown",
      "metadata": {
        "id": "view-in-github",
        "colab_type": "text"
      },
      "source": [
        "<a href=\"https://colab.research.google.com/github/iSwiin/Intro2Python/blob/main/data/Figures.ipynb\" target=\"_parent\"><img src=\"https://colab.research.google.com/assets/colab-badge.svg\" alt=\"Open In Colab\"/></a>"
      ]
    },
    {
      "cell_type": "markdown",
      "metadata": {
        "id": "6qqWRMKsBM9H"
      },
      "source": [
        "# Figures"
      ],
      "id": "6qqWRMKsBM9H"
    },
    {
      "cell_type": "markdown",
      "metadata": {
        "id": "JX8jJdpUBM9I"
      },
      "source": [
        "One of the most important things in any field is the ability to effectively <ins>**communicate your data**</ins>. Here, we will use **```matplotlib```** and **```pylot```** to *visually* communicate data."
      ],
      "id": "JX8jJdpUBM9I"
    },
    {
      "cell_type": "markdown",
      "metadata": {
        "id": "Ltm_FYTyBM9I"
      },
      "source": [
        "<img src=\"https://img.ifunny.co/images/fcd298bb355a4b5c09bb8960aad5d13ce875f4830dc9b978f88887db2b0a9613_1.jpg\" width = '400'>"
      ],
      "id": "Ltm_FYTyBM9I"
    },
    {
      "cell_type": "markdown",
      "metadata": {
        "id": "iA_uxs2iBM9I"
      },
      "source": [
        "By the end of this section, you will learn:\n",
        "* [about matplotlib and pyplot](#matplotlib-and-pyplot)\n",
        "* [to create a basic plot](#Creating-a-plot)\n",
        "* [different formatting in plots](#Formatting-and-Styles)"
      ],
      "id": "iA_uxs2iBM9I"
    },
    {
      "cell_type": "markdown",
      "metadata": {
        "id": "aWH4tH7rBM9J"
      },
      "source": [
        "## ```matplotlib``` and ```pyplot```"
      ],
      "id": "aWH4tH7rBM9J"
    },
    {
      "cell_type": "markdown",
      "metadata": {
        "id": "Yf69qDgWBM9J"
      },
      "source": [
        "[```matplotlib```](https://matplotlib.org/) is an <ins>*open-source, data visualization library*</ins> that allows you to <ins>**make quality plots, interactive figures, and more**</ins>.\n",
        "\n",
        "\n",
        "If you have Python already installed, you can install **```matplotlib```** with the following command in your terminal:\n",
        "\n",
        "**```conda install matplotlib```**\n",
        "\n",
        "or\n",
        "\n",
        "**```pip install matplotlib```**"
      ],
      "id": "Yf69qDgWBM9J"
    },
    {
      "cell_type": "markdown",
      "metadata": {
        "id": "eSJ8pdKYBM9J"
      },
      "source": [
        "After installing **```matplotlib```**, we can then import **```pyplot```**. **```pyplot```** is a package within **```matplotlib```** that <ins>**contains plotting utilities**</ins>. We can import it by typing this:\n",
        "\n",
        "```python\n",
        "import matplotlib.pyplot as plt\n",
        "```\n",
        "\n",
        "\n",
        "Reminder that we can import libraries as abbreviations to avoid typing the whole entire name over and over again."
      ],
      "id": "eSJ8pdKYBM9J"
    },
    {
      "cell_type": "markdown",
      "metadata": {
        "id": "vSYr-u2BBM9J"
      },
      "source": [
        "### Different functions in ```pyplot```"
      ],
      "id": "vSYr-u2BBM9J"
    },
    {
      "cell_type": "markdown",
      "metadata": {
        "id": "0wfFVYfGBM9J"
      },
      "source": [
        "There are many functions within **```pyplot```**. We will only review a few, but you can view more [here](https://matplotlib.org/3.1.1/api/pyplot_summary.html).\n",
        "\n",
        "|Function|Description|Arguments|\n",
        "|-|-|-|\n",
        "|```figure()```|create a new figure|```figure(number,[width,height],resolution, backgroundcolor)```|\n",
        "|```ion()```|turn on interactive mode|none|\n",
        "|```show()```|display a figure|none|\n",
        "|```plot()```|make a x-y line and/or marker plot|```plot(x,y,'format')```|\n",
        "|```xlabel()```|add a label to x-axis|```xlabel('label')```|\n",
        "|```ylabel()```|add a label to y-axis|```ylabel('label')```|\n",
        "|```title()```|add a title to plot|```title('label')```|"
      ],
      "id": "0wfFVYfGBM9J"
    },
    {
      "cell_type": "markdown",
      "metadata": {
        "id": "nRV9w7RMBM9J"
      },
      "source": [
        "If you wanted to <ins>**create a different figure**</ins>, such as a scatter plot or bar graph, you can use these functions:\n",
        "\n",
        "|Function|Description|Arguments|\n",
        "|-|-|-|\n",
        "|```scatter```|scatter plot|```scatter(x,y,marksize,markcolor,markstyle)```|\n",
        "|```bar()```|bar graph|```bar(x,barheight,barwidth,y)```|\n",
        "|```barh()```|horizontal bar graph|```barh(y,barwidth,barheight,x)```|\n",
        "|```boxplot()```|box and whisker plot|```boxplot(x,notch,symbol,whiskers)```|\n",
        "|```hist()```|histogram|```hist(x,bins,rangebins,density,weights)```|\n",
        "|```pie()```|pie chart|```pie(x,explode,labels,colors,numlabel)```|"
      ],
      "id": "nRV9w7RMBM9J"
    },
    {
      "cell_type": "markdown",
      "metadata": {
        "id": "DDS9I1QvBM9K"
      },
      "source": [
        "Some <ins>**aesthetic functions**</ins> that may be useful are:\n",
        "\n",
        "|Function|Description|Arguments|\n",
        "|-|-|-|\n",
        "|```figlegend()```|add a legend to your figure|```figlegend('label')```|\n",
        "|```figtext()```|add text to figure|```figtext([xposition,yposition],'text')```|\n",
        "|```grid()```|add grid lines|```grid(whichlines,axis,lineformat)```|\n",
        "|```minorticks_on()```|adds minor ticks on axes|none|\n",
        "|```xscale()```|set x-axis scale|```xscale(scalevalue)```|\n",
        "|```yscale()```|set y-axis scale|```yscale(scalevalue)```|\n",
        "\n",
        "Reminder that you can use the **```help```** function to look up the input arguments of each function."
      ],
      "id": "DDS9I1QvBM9K"
    },
    {
      "cell_type": "markdown",
      "metadata": {
        "id": "5OqbGaXqBM9K"
      },
      "source": [
        "## Creating a plot"
      ],
      "id": "5OqbGaXqBM9K"
    },
    {
      "cell_type": "markdown",
      "metadata": {
        "id": "jZwqjhv_BM9K"
      },
      "source": [
        "Now that we've reviewed some important functions, we can create our own figure. We can follow the below *recipe* to create a x-y plot:"
      ],
      "id": "jZwqjhv_BM9K"
    },
    {
      "cell_type": "markdown",
      "metadata": {
        "id": "CrOlIV_sBM9K"
      },
      "source": [
        "**1. Import necessary packages (i.e., Matplotlib, NumPy).**\n",
        "\n",
        "```python\n",
        "import numpy as np\n",
        "import matplotlib.pyplot as plt\n",
        "```"
      ],
      "id": "CrOlIV_sBM9K"
    },
    {
      "cell_type": "markdown",
      "metadata": {
        "id": "EQ1Zjoe0BM9K"
      },
      "source": [
        "**2. Add a new figure and number appriopriately.**\n",
        "\n",
        "\n",
        "```python\n",
        "plt.figure(1)\n",
        "```"
      ],
      "id": "EQ1Zjoe0BM9K"
    },
    {
      "cell_type": "markdown",
      "metadata": {
        "id": "6dfuM0f3BM9K"
      },
      "source": [
        "**3. Plot x and y points, and change line format if wanted.**\n",
        "\n",
        "```python\n",
        "plt.plot(x, y, '-')\n",
        "```"
      ],
      "id": "6dfuM0f3BM9K"
    },
    {
      "cell_type": "markdown",
      "metadata": {
        "id": "mM4cLs3yBM9K"
      },
      "source": [
        "**4. Add a title to the figure as well as axis labels.**\n",
        "\n",
        "```python\n",
        "plt.title('Title')\n",
        "plt.xlabel('x')\n",
        "plt.ylabel('y')\n",
        "```"
      ],
      "id": "mM4cLs3yBM9K"
    },
    {
      "cell_type": "markdown",
      "metadata": {
        "id": "aLzQXPsHBM9K"
      },
      "source": [
        "**5. Lastly, show the plot. If this is not done, then the plot will not show up.**\n",
        "\n",
        "```python\n",
        "plt.show()\n",
        "```"
      ],
      "id": "aLzQXPsHBM9K"
    },
    {
      "cell_type": "code",
      "execution_count": null,
      "metadata": {
        "id": "59ShnXSCBM9K",
        "outputId": "e7e01df0-b472-46bf-fc59-44de99fe0600"
      },
      "outputs": [
        {
          "data": {
            "image/png": "[encoded data removed]",
            "text/plain": [
              "<Figure size 640x480 with 1 Axes>"
            ]
          },
          "metadata": {},
          "output_type": "display_data"
        }
      ],
      "source": [
        "# creating a figure\n",
        "# first import necessary libraries\n",
        "import numpy as np\n",
        "import matplotlib.pyplot as plt\n",
        "\n",
        "# create x and y points since we don't have any\n",
        "x = np.arange(1,11,1)\n",
        "y = np.arange(2,21,2)\n",
        "\n",
        "# now let's create a new figure and name it 1\n",
        "plt.figure(1)\n",
        "\n",
        "# let's now plot our x and y points as a line with markers\n",
        "plt.plot(x,y, 'o-') # o- means a line with markers\n",
        "\n",
        "# let's add a title and labels\n",
        "plt.title('My Figure')\n",
        "plt.xlabel('x-axis')\n",
        "plt.ylabel('y-axis')\n",
        "\n",
        "# finally let's show our plot\n",
        "plt.show()"
      ],
      "id": "59ShnXSCBM9K"
    },
    {
      "cell_type": "markdown",
      "metadata": {
        "id": "tjIiVFd9BM9L"
      },
      "source": [
        "## Formatting and Styles"
      ],
      "id": "tjIiVFd9BM9L"
    },
    {
      "cell_type": "markdown",
      "metadata": {
        "id": "sCp_SHa9BM9L"
      },
      "source": [
        "Notice that the third argument within the **```plot()```** function is a **string**. If you wanted to <ins>**change the color or format**</ins> of the x-y line, you could alter the third argument within the **```plot()```** function:\n",
        "\n",
        "|Input|Marker|\n",
        "|-|-:|\n",
        "|'.'|point marker|\n",
        "|','|pixel marker|\n",
        "|'o'|circle marker|\n",
        "|'^'|triangle pointed up marker|\n",
        "|'```*```'|star marker|\n",
        "|'x'|x marker|\n",
        "\n",
        "|Input|Line Style|\n",
        "|-|-:|\n",
        "|'-'|solid line|\n",
        "|'--'|dashed line|\n",
        "|'-.'|dash dot line|\n",
        "|':'|dotted line|\n",
        "\n",
        "|Input|Color|\n",
        "|-|-:|\n",
        "|'b'|blue|\n",
        "|'g'|green|\n",
        "|'r'|red|\n",
        "|'c'|cyan|\n",
        "|'m'|magenta|\n",
        "|'y'|yelow|\n",
        "|'k'|black|\n",
        "|'w'|white|"
      ],
      "id": "sCp_SHa9BM9L"
    },
    {
      "cell_type": "markdown",
      "metadata": {
        "id": "Ug9t8OGWBM9L"
      },
      "source": [
        "## Summary"
      ],
      "id": "Ug9t8OGWBM9L"
    },
    {
      "cell_type": "markdown",
      "metadata": {
        "id": "rw3cMRLGBM9M"
      },
      "source": [
        "* **[```matplotlib```](#matplotlib-and-pyplot)** is a data visualization library that contains **```pyplot```**\n",
        "\n",
        "\n",
        "* **[```pyplot```](#Different-functions-in-pyplot)** contains functions, such as ```plot()``` and ```show()```, which allow us to plot our data\n",
        "\n",
        "\n",
        "\n",
        "* We can follow **[these steps](#Creating-a-plot)** to create a basic plot:\n",
        "    1. Import matplotlib.pyplot\n",
        "    2. Add figure\n",
        "    3. Use desired function (e.g., ```plot()```) to plot data\n",
        "    4. Add titles and labels\n",
        "    5. Use ```show()``` to view figure"
      ],
      "id": "rw3cMRLGBM9M"
    },
    {
      "cell_type": "markdown",
      "metadata": {
        "id": "39j4fm0NBM9M"
      },
      "source": [
        "## Exercises"
      ],
      "id": "39j4fm0NBM9M"
    },
    {
      "cell_type": "markdown",
      "metadata": {
        "id": "wW60vSzrBM9M"
      },
      "source": [
        "1. **Plot a cosine wave** for the following: x = 0 to 360 and y = -1 to 1."
      ],
      "id": "wW60vSzrBM9M"
    },
    {
      "cell_type": "code",
      "execution_count": null,
      "metadata": {
        "id": "t8y-maauBM9M"
      },
      "outputs": [],
      "source": [
        "# answer\n",
        "\n",
        "import numpy as np\n",
        "import matplotlib.pyplot as plt\n",
        "\n",
        "# Generate x values from 0 to 360 degrees\n",
        "x = np.linspace(0, 360, 1000)  # 1000 points between 0 and 360\n",
        "\n",
        "# Calculate corresponding y values using cosine function\n",
        "y = np.cos(np.radians(x))  # Convert x to radians for cosine function\n",
        "\n",
        "# Plotting the cosine wave\n",
        "plt.figure(figsize=(8, 6))\n",
        "plt.plot(x, y)\n",
        "plt.title('Cosine Wave')\n",
        "plt.xlabel('x (degrees)')\n",
        "plt.ylabel('y = cos(x)')\n",
        "plt.grid(True)\n",
        "plt.ylim(-1, 1)  # Set y-axis limits to -1 and 1\n",
        "plt.show()"
      ],
      "id": "t8y-maauBM9M"
    },
    {
      "cell_type": "markdown",
      "metadata": {
        "id": "2XsjhXYZBM9M"
      },
      "source": [
        "2. **Add a sine wave to your original plot from exercise 1**. Use the same x and y ranges."
      ],
      "id": "2XsjhXYZBM9M"
    },
    {
      "cell_type": "code",
      "execution_count": null,
      "metadata": {
        "id": "XAhvIMdCBM9M"
      },
      "outputs": [],
      "source": [
        "# answer\n",
        "\n",
        "import numpy as np\n",
        "import matplotlib.pyplot as plt\n",
        "\n",
        "# Generate x values from 0 to 360 degrees\n",
        "x = np.linspace(0, 360, 1000)  # 1000 points between 0 and 360\n",
        "\n",
        "# Calculate corresponding y values for cosine and sine functions\n",
        "y_cos = np.cos(np.radians(x))  # Cosine values\n",
        "y_sin = np.sin(np.radians(x))  # Sine values\n",
        "\n",
        "# Plotting the cosine and sine waves on the same plot\n",
        "plt.figure(figsize=(8, 6))\n",
        "plt.plot(x, y_cos, label='Cosine')\n",
        "plt.plot(x, y_sin, label='Sine')\n",
        "plt.title('Cosine and Sine Waves')\n",
        "plt.xlabel('x (degrees)')\n",
        "plt.ylabel('y')\n",
        "plt.grid(True)\n",
        "plt.ylim(-1, 1)  # Set y-axis limits to -1 and 1\n",
        "plt.legend()  # Show legend with labels for each line\n",
        "plt.show()"
      ],
      "id": "XAhvIMdCBM9M"
    },
    {
      "cell_type": "markdown",
      "metadata": {
        "id": "uDRB7BnKBM9M"
      },
      "source": [
        "3.**Create a pie chart** for the variables given below. Be sure to label each wedge of the pie with its name and numerical value. Be sure to give it a title as well."
      ],
      "id": "uDRB7BnKBM9M"
    },
    {
      "cell_type": "code",
      "execution_count": null,
      "metadata": {
        "id": "WroEc7e8BM9M"
      },
      "outputs": [],
      "source": [
        "# variables given\n",
        "animals = 'Cat', 'Dog', 'Fish','None'\n",
        "percent = [35, 50, 5, 10]\n",
        "\n",
        "# answer\n",
        "import matplotlib.pyplot as plt\n",
        "\n",
        "animals = ['Cat', 'Dog', 'Fish', 'None']\n",
        "percent = [35, 50, 5, 10]\n",
        "\n",
        "# Creating the pie chart\n",
        "plt.figure(figsize=(8, 6))\n",
        "plt.pie(percent, labels=animals, autopct='%1.1f%%', startangle=140)\n",
        "plt.title('Distribution of Animals')\n",
        "plt.axis('equal')  # Equal aspect ratio ensures that pie is drawn as a circle.\n",
        "\n",
        "plt.show()\n"
      ],
      "id": "WroEc7e8BM9M"
    }
  ],
  "metadata": {
    "kernelspec": {
      "display_name": "Python 3 (ipykernel)",
      "language": "python",
      "name": "python3"
    },
    "language_info": {
      "codemirror_mode": {
        "name": "ipython",
        "version": 3
      },
      "file_extension": ".py",
      "mimetype": "text/x-python",
      "name": "python",
      "nbconvert_exporter": "python",
      "pygments_lexer": "ipython3",
      "version": "3.8.10"
    },
    "colab": {
      "provenance": [],
      "include_colab_link": true
    }
  },
  "nbformat": 4,
  "nbformat_minor": 5
}