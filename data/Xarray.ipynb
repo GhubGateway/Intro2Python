{
 "cells": [
  {
   "cell_type": "markdown",
   "id": "11fb1868",
   "metadata": {},
   "source": [
    "# Xarray"
   ]
  },
  {
   "cell_type": "markdown",
   "id": "fb414d11",
   "metadata": {},
   "source": [
    "NetCDF (Network Common Data Form) is a set of software libraries and machine-independent data formats that support the creation, access, and sharing of array-oriented scientific data."
   ]
  },
  {
   "cell_type": "markdown",
   "id": "81595fe6",
   "metadata": {},
   "source": [
    "## Why do we use NETCDFs?"
   ]
  },
  {
   "cell_type": "markdown",
   "id": "afc07625",
   "metadata": {},
   "source": [
    "1) Large Datasets - Some datasets are too large for text files, making traditional storage methods inefficient.\n",
    "\n",
    "2) Multi-Dimensional Data - Many datasets come in multiple dimensions and cannot be effectively represented in text files. This multi-dimensionality is a common characteristic of scientific and geospatial data.\n",
    "\n",
    "3) Model and Geospatial Data -  This issue is particularly prevalent in model data or large geospatial datasets, where the complexity and size of the data are significant.\n",
    "\n",
    "4) NetCDF Usage - In these cases, data are commonly stored in NetCDFs (Network Common Data Form), which are better suited for handling large, multi-dimensional datasets."
   ]
  },
  {
   "cell_type": "markdown",
   "id": "b6253cad-757a-4d4b-b09b-b488e564743b",
   "metadata": {},
   "source": [
    "### Create a random 2-D Array"
   ]
  },
  {
   "cell_type": "markdown",
   "id": "a39fb28e",
   "metadata": {},
   "source": [
    "### Open an netcdf with netCDF4"
   ]
  },
  {
   "cell_type": "code",
   "execution_count": null,
   "id": "a48ff87f",
   "metadata": {},
   "outputs": [],
   "source": [
    "import netCDF4 as nc\n",
    "sr = nc.Dataset(‘searise.nc’)"
   ]
  },
  {
   "cell_type": "markdown",
   "id": "8dd460d0",
   "metadata": {},
   "source": [
    "### Understanding file structure "
   ]
  },
  {
   "cell_type": "markdown",
   "id": "237ac49c",
   "metadata": {},
   "source": [
    "A NetCDF file typically contains dimensions, variables, and attributes.\n",
    "\n",
    "**Dimensions:** They define the shape of the data. Common dimensions include time, latitude, longitude, and altitude.\n",
    "\n",
    "**Variables:** They contain the actual data stored in the file, like temperature, humidity, etc., and are defined along dimensions.\n",
    "\n",
    "**Attributes:** They provide metadata about the data, such as units, descriptions, or data range."
   ]
  },
  {
   "cell_type": "markdown",
   "id": "e056aa80",
   "metadata": {},
   "source": [
    "### Look at variables"
   ]
  },
  {
   "cell_type": "markdown",
   "id": "730cab55",
   "metadata": {},
   "source": [
    "When exploring variables within a NetCDF file using Python, accessing a specific variable allows you to examine its contents, attributes, and associated metadata directly. "
   ]
  },
  {
   "cell_type": "code",
   "execution_count": null,
   "id": "2408aec2",
   "metadata": {},
   "outputs": [],
   "source": [
    "# You can look at the variables in the file like this:\n",
    "sr['y1']\n",
    "# You can transform it into a useable array like this:\n",
    "sr_y = np.array(sr['y1'])"
   ]
  },
  {
   "cell_type": "markdown",
   "id": "026fed57",
   "metadata": {},
   "source": [
    "### NetCDF and Xarray"
   ]
  },
  {
   "cell_type": "markdown",
   "id": "94e46a0e",
   "metadata": {},
   "source": [
    "Using xarray for NetCDF files offers an intuitive interface to work with multi-dimensional scientific data."
   ]
  },
  {
   "cell_type": "code",
   "execution_count": null,
   "id": "07120681",
   "metadata": {},
   "outputs": [],
   "source": [
    "Import xarray as xr\n",
    "\n",
    "sr_xr = xr.open_dataset(\"searise.nc\",decode_times=False)"
   ]
  },
  {
   "cell_type": "markdown",
   "id": "e5b1729a",
   "metadata": {},
   "source": [
    "### Index into a dataset and plot it\t"
   ]
  },
  {
   "cell_type": "markdown",
   "id": "2a8e3d3d",
   "metadata": {},
   "source": [
    "When working with datasets in Python, indexing into a dataset allows you to select and retrieve specific subsets of data based on your criteria. This process is crucial for analyzing particular segments or dimensions of your data."
   ]
  },
  {
   "cell_type": "code",
   "execution_count": null,
   "id": "2d9f5232",
   "metadata": {},
   "outputs": [],
   "source": [
    "usrf_xr = sr_xr['usrf']\n",
    "\n",
    "usrf_xr.plot()"
   ]
  },
  {
   "cell_type": "markdown",
   "id": "013a92de",
   "metadata": {},
   "source": [
    "### Indexing to get single values"
   ]
  },
  {
   "cell_type": "markdown",
   "id": "96dffb5a",
   "metadata": {},
   "source": [
    "When you need to extract specific data points from a dataset, indexing is a straightforward approach to directly access single values. By specifying the index or position of the data within the dataset's structure, you can retrieve individual elements efficiently."
   ]
  },
  {
   "cell_type": "code",
   "execution_count": null,
   "id": "b874c016",
   "metadata": {},
   "outputs": [],
   "source": [
    "#Select a specific coordinate and get the value\n",
    "usrf_xr.sel(y1=-2800000, x1=-2800000)\n",
    "\n",
    "#Select a index and get the value\n",
    "usrf_xr.isel(y1=500, x1=500)"
   ]
  },
  {
   "cell_type": "markdown",
   "id": "9000e10e",
   "metadata": {},
   "source": [
    "### 2D data in a netCDF"
   ]
  },
  {
   "cell_type": "code",
   "execution_count": null,
   "id": "26863274",
   "metadata": {},
   "outputs": [],
   "source": [
    "sea_level = sr_xr['sealevel_time_series']"
   ]
  }
 ],
 "metadata": {
  "kernelspec": {
   "display_name": "Python 3 (ipykernel)",
   "language": "python",
   "name": "python3"
  },
  "language_info": {
   "codemirror_mode": {
    "name": "ipython",
    "version": 3
   },
   "file_extension": ".py",
   "mimetype": "text/x-python",
   "name": "python",
   "nbconvert_exporter": "python",
   "pygments_lexer": "ipython3",
   "version": "3.8.15"
  }
 },
 "nbformat": 4,
 "nbformat_minor": 5
}
