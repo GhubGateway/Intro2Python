{
 "cells": [
  {
   "cell_type": "markdown",
   "id": "AYTCODivVMB5",
   "metadata": {
    "id": "AYTCODivVMB5"
   },
   "source": [
    "# Creating Functions"
   ]
  },
  {
   "cell_type": "markdown",
   "id": "9Yr5hQGSVMB6",
   "metadata": {
    "id": "9Yr5hQGSVMB6"
   },
   "source": [
    "Now that we got our [introduction to functions](Introduction2Functions.ipynb), we can learn to <ins>**create our own functions**</ins>."
   ]
  },
  {
   "cell_type": "markdown",
   "id": "DQGufyCJVMB7",
   "metadata": {
    "id": "DQGufyCJVMB7"
   },
   "source": [
    "<img src=\"https://i.pinimg.com/736x/7c/6a/ca/7c6acaabf60032c86abd6951c6cfc557.jpg\" width = '400'> "
   ]
  },
  {
   "cell_type": "markdown",
   "id": "YvUMx33MVMB7",
   "metadata": {
    "id": "YvUMx33MVMB7"
   },
   "source": [
    "By the end of this section, you will learn:\n",
    "* [**to create a function**](#Basic-format)"
   ]
  },
  {
   "cell_type": "markdown",
   "id": "9h4FWS0KVMB7",
   "metadata": {
    "id": "9h4FWS0KVMB7"
   },
   "source": [
    "## Basic format"
   ]
  },
  {
   "cell_type": "markdown",
   "id": "BgR-4d-bVMB7",
   "metadata": {
    "id": "BgR-4d-bVMB7"
   },
   "source": [
    "There is a basic format to follow when creating your function:\n",
    "\n",
    "```python\n",
    "def myfunction(args,kwargs=defaultvalue) :\n",
    "    output = (do something w/ args)\n",
    "    return output\n",
    "```\n",
    "\n",
    "You will need to define **```kwargs```** within your function or else it will return an error:"
   ]
  },
  {
   "cell_type": "code",
   "execution_count": null,
   "id": "CPpt8KyIVMB7",
   "metadata": {
    "id": "CPpt8KyIVMB7"
   },
   "outputs": [],
   "source": [
    "# import the numpy package! We will use the prefix np\n",
    "import numpy as np\n",
    "\n",
    "# define a function that takes two arguments:\n",
    "# arg1 and arg2\n",
    "# and one keyword argument:\n",
    "# kwarg=1\n",
    "def myfunction(arg1,arg2):\n",
    "\n",
    "    # Divide arg1 by arg2, and scale the result by kwarg\n",
    "    output = (arg1/arg2)*kwarg\n",
    "\n",
    "    # print the answer, and round the result to two decimal places\n",
    "    print(\"answer is: \"+str(np.round(output,2)))\n",
    "\n",
    "    # Return our final value!!\n",
    "    return output\n",
    "\n",
    "# Call the function, and assign the output to variable \"newvar\"\n",
    "newvar = myfunction(1e7,1e6)"
   ]
  },
  {
   "cell_type": "markdown",
   "id": "Ce9eoJm7VMB8",
   "metadata": {
    "id": "Ce9eoJm7VMB8"
   },
   "source": [
    "Here is an example of the corrected function:"
   ]
  },
  {
   "cell_type": "code",
   "execution_count": null,
   "id": "ACO7ScP-VMB8",
   "metadata": {
    "id": "ACO7ScP-VMB8"
   },
   "outputs": [],
   "source": [
    "# import the numpy package! We will use the prefix np\n",
    "import numpy as np\n",
    "\n",
    "# define a function that takes two arguments:\n",
    "# arg1 and arg2\n",
    "# and one keyword argument:\n",
    "# kwarg=1\n",
    "def myfunction(arg1,arg2,kwarg=1):\n",
    "\n",
    "    # Divide arg1 by arg2, and scale the result by kwarg\n",
    "    output = (arg1/arg2)*kwarg\n",
    "\n",
    "    # print the answer, and round the result to two decimal places\n",
    "    print(\"answer is: \"+str(np.round(output,2)))\n",
    "\n",
    "    # Return our final value!!\n",
    "    return output\n",
    "\n",
    "# Call the function, and assign the output to variable \"newvar\"\n",
    "newvar = myfunction(1e7,1e6)"
   ]
  },
  {
   "cell_type": "markdown",
   "id": "doQQ_U1SVMB8",
   "metadata": {
    "id": "doQQ_U1SVMB8"
   },
   "source": [
    "## Exercises"
   ]
  },
  {
   "cell_type": "markdown",
   "id": "-QRp-zlZVMB8",
   "metadata": {
    "id": "-QRp-zlZVMB8"
   },
   "source": [
    "1. Create a function that <ins>**takes an array and a number as arguments**</ins>. The function should <ins>**multiply each element in the array by the given number and by 2**</ins>, and then return the resulting array."
   ]
  },
  {
   "cell_type": "code",
   "execution_count": null,
   "id": "ALL0Xh3OVMB8",
   "metadata": {
    "id": "ALL0Xh3OVMB8"
   },
   "outputs": [],
   "source": []
  },
  {
   "cell_type": "markdown",
   "id": "IiLETCDGVMB8",
   "metadata": {
    "id": "IiLETCDGVMB8"
   },
   "source": [
    "2. **Alter your code from 1** to make it so the user can change the number 2 to whatever value they want."
   ]
  },
  {
   "cell_type": "code",
   "execution_count": null,
   "id": "o-7CeWkHVMB9",
   "metadata": {
    "id": "o-7CeWkHVMB9"
   },
   "outputs": [],
   "source": []
  },
  {
   "cell_type": "markdown",
   "id": "mr7dWiZ8VMB9",
   "metadata": {
    "id": "mr7dWiZ8VMB9"
   },
   "source": [
    "3. Write a function that <ins>**iterates through an array and calculates the sum of all its elements.**<ins>"
   ]
  },
  {
   "cell_type": "code",
   "execution_count": null,
   "id": "jc-hejXFVMB9",
   "metadata": {
    "id": "jc-hejXFVMB9"
   },
   "outputs": [],
   "source": []
  },
  {
   "cell_type": "markdown",
   "id": "eddc6901-a1a1-4e18-9c86-d0de0b23ad29",
   "metadata": {},
   "source": [
    "### Answers"
   ]
  },
  {
   "cell_type": "markdown",
   "id": "ef436119-8ab3-4392-8fac-8ccda9fa2981",
   "metadata": {},
   "source": [
    "1. Create a function that <ins>**takes an array and a number as arguments**</ins>. The function should <ins>**multiply each element in the array by the given number and by 2**</ins>, and then return the resulting array."
   ]
  },
  {
   "cell_type": "code",
   "execution_count": null,
   "id": "2fa132c5-f6e9-4b71-a502-0b63140028cf",
   "metadata": {},
   "outputs": [],
   "source": [
    "# answer\n",
    "def multiply_array_by_number_and_2(array, num):\n",
    "    result = [element * num * 2 for element in array]\n",
    "    return result\n"
   ]
  },
  {
   "cell_type": "markdown",
   "id": "1e4d4a91-ecc0-4568-a64f-efbf1b50b805",
   "metadata": {},
   "source": [
    "2. **Alter your code from 1** to make it so the user can change the number 2 to whatever value they want."
   ]
  },
  {
   "cell_type": "code",
   "execution_count": null,
   "id": "c43a8137-d251-4663-8810-580352a3b531",
   "metadata": {},
   "outputs": [],
   "source": [
    "# answer\n",
    "def multiply_array_by_number(array, num):\n",
    "    multiplier = int(input(\"Enter the multiplier value: \"))\n",
    "    result = [element * num * multiplier for element in array]\n",
    "    return result\n"
   ]
  },
  {
   "cell_type": "markdown",
   "id": "cdb11bc9-9dc0-4615-ba50-6b13f2ec3a1c",
   "metadata": {},
   "source": [
    "3. Write a function that <ins>**iterates through an array and calculates the sum of all its elements.**<ins>"
   ]
  },
  {
   "cell_type": "code",
   "execution_count": null,
   "id": "c2d0bee8-01cf-41f1-968a-9d1bd9df4d19",
   "metadata": {},
   "outputs": [],
   "source": [
    "# answer\n",
    "def calculate_array_sum(arr):\n",
    "    total = 0\n",
    "    for element in arr:\n",
    "        total += element\n",
    "    return total\n"
   ]
  }
 ],
 "metadata": {
  "colab": {
   "include_colab_link": true,
   "provenance": []
  },
  "kernelspec": {
   "display_name": "Python 3 (ipykernel)",
   "language": "python",
   "name": "python3"
  },
  "language_info": {
   "codemirror_mode": {
    "name": "ipython",
    "version": 3
   },
   "file_extension": ".py",
   "mimetype": "text/x-python",
   "name": "python",
   "nbconvert_exporter": "python",
   "pygments_lexer": "ipython3",
   "version": "3.8.15"
  }
 },
 "nbformat": 4,
 "nbformat_minor": 5
}
