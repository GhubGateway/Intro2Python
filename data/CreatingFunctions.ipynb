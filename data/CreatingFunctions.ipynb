{
  "cells": [
    {
      "cell_type": "markdown",
      "metadata": {
        "id": "view-in-github",
        "colab_type": "text"
      },
      "source": [
        "<a href=\"https://colab.research.google.com/github/iSwiin/Intro2Python/blob/main/data/CreatingFunctions.ipynb\" target=\"_parent\"><img src=\"https://colab.research.google.com/assets/colab-badge.svg\" alt=\"Open In Colab\"/></a>"
      ]
    },
    {
      "cell_type": "markdown",
      "metadata": {
        "id": "AYTCODivVMB5"
      },
      "source": [
        "# Creating Functions"
      ],
      "id": "AYTCODivVMB5"
    },
    {
      "cell_type": "markdown",
      "metadata": {
        "id": "9Yr5hQGSVMB6"
      },
      "source": [
        "Now that we got our [introduction to functions](Introduction2Functions.ipynb), we can learn to <ins>**create our own functions**</ins>."
      ],
      "id": "9Yr5hQGSVMB6"
    },
    {
      "cell_type": "markdown",
      "metadata": {
        "id": "DQGufyCJVMB7"
      },
      "source": [
        "<img src=\"https://inventyourshit.com/wp-content/uploads/2020/11/4lirk9.jpg\" width = '400'>"
      ],
      "id": "DQGufyCJVMB7"
    },
    {
      "cell_type": "markdown",
      "metadata": {
        "id": "YvUMx33MVMB7"
      },
      "source": [
        "By the end of this section, you will learn:\n",
        "* [**to create a function**](#Basic-format)"
      ],
      "id": "YvUMx33MVMB7"
    },
    {
      "cell_type": "markdown",
      "metadata": {
        "id": "9h4FWS0KVMB7"
      },
      "source": [
        "## Basic format"
      ],
      "id": "9h4FWS0KVMB7"
    },
    {
      "cell_type": "markdown",
      "metadata": {
        "id": "BgR-4d-bVMB7"
      },
      "source": [
        "There is a basic format to follow when creating your function:\n",
        "\n",
        "```python\n",
        "def myfunction(args,kwargs=defaultvalue) :\n",
        "    output = (do something w/ args)\n",
        "    return output\n",
        "```\n",
        "\n",
        "You will need to define **```kwargs```** within your function or else it will return an error:"
      ],
      "id": "BgR-4d-bVMB7"
    },
    {
      "cell_type": "code",
      "execution_count": null,
      "metadata": {
        "id": "CPpt8KyIVMB7"
      },
      "outputs": [],
      "source": [
        "# import the numpy package! We will use the prefix np\n",
        "import numpy as np\n",
        "\n",
        "# define a function that takes two arguments:\n",
        "# arg1 and arg2\n",
        "# and one keyword argument:\n",
        "# kwarg=1\n",
        "def myfunction(arg1,arg2):\n",
        "\n",
        "    # Divide arg1 by arg2, and scale the result by kwarg\n",
        "    output = (arg1/arg2)*kwarg\n",
        "\n",
        "    # print the answer, and round the result to two decimal places\n",
        "    print(\"answer is: \"+str(np.round(output,2)))\n",
        "\n",
        "    # Return our final value!!\n",
        "    return output\n",
        "\n",
        "# Call the function, and assign the output to variable \"newvar\"\n",
        "newvar = myfunction(1e7,1e6)"
      ],
      "id": "CPpt8KyIVMB7"
    },
    {
      "cell_type": "markdown",
      "metadata": {
        "id": "Ce9eoJm7VMB8"
      },
      "source": [
        "Here is an example of the corrected function:"
      ],
      "id": "Ce9eoJm7VMB8"
    },
    {
      "cell_type": "code",
      "execution_count": null,
      "metadata": {
        "id": "ACO7ScP-VMB8"
      },
      "outputs": [],
      "source": [
        "# import the numpy package! We will use the prefix np\n",
        "import numpy as np\n",
        "\n",
        "# define a function that takes two arguments:\n",
        "# arg1 and arg2\n",
        "# and one keyword argument:\n",
        "# kwarg=1\n",
        "def myfunction(arg1,arg2,kwarg=1):\n",
        "\n",
        "    # Divide arg1 by arg2, and scale the result by kwarg\n",
        "    output = (arg1/arg2)*kwarg\n",
        "\n",
        "    # print the answer, and round the result to two decimal places\n",
        "    print(\"answer is: \"+str(np.round(output,2)))\n",
        "\n",
        "    # Return our final value!!\n",
        "    return output\n",
        "\n",
        "# Call the function, and assign the output to variable \"newvar\"\n",
        "newvar = myfunction(1e7,1e6)"
      ],
      "id": "ACO7ScP-VMB8"
    },
    {
      "cell_type": "markdown",
      "metadata": {
        "id": "doQQ_U1SVMB8"
      },
      "source": [
        "## Exercises"
      ],
      "id": "doQQ_U1SVMB8"
    },
    {
      "cell_type": "markdown",
      "metadata": {
        "id": "-QRp-zlZVMB8"
      },
      "source": [
        "1. Create a function that <ins>**takes an array and a number as arguments**</ins>. The function should <ins>**multiply each element in the array by the given number and by 2**</ins>, and then return the resulting array."
      ],
      "id": "-QRp-zlZVMB8"
    },
    {
      "cell_type": "code",
      "execution_count": null,
      "metadata": {
        "id": "ALL0Xh3OVMB8"
      },
      "outputs": [],
      "source": [
        "# answer\n",
        "def multiply_array_by_number_and_2(array, num):\n",
        "    result = [element * num * 2 for element in array]\n",
        "    return result\n",
        "\n"
      ],
      "id": "ALL0Xh3OVMB8"
    },
    {
      "cell_type": "markdown",
      "metadata": {
        "id": "IiLETCDGVMB8"
      },
      "source": [
        "2. **Alter your code from 1** to make it so the user can change the number 2 to whatever value they want."
      ],
      "id": "IiLETCDGVMB8"
    },
    {
      "cell_type": "code",
      "execution_count": null,
      "metadata": {
        "id": "o-7CeWkHVMB9"
      },
      "outputs": [],
      "source": [
        "# answer\n",
        "def multiply_array_by_number(array, num):\n",
        "    multiplier = int(input(\"Enter the multiplier value: \"))\n",
        "    result = [element * num * multiplier for element in array]\n",
        "    return result\n"
      ],
      "id": "o-7CeWkHVMB9"
    },
    {
      "cell_type": "markdown",
      "metadata": {
        "id": "mr7dWiZ8VMB9"
      },
      "source": [
        "3. Write a function that <ins>**iterates through an array and calculates the sum of all its elements.**<ins>"
      ],
      "id": "mr7dWiZ8VMB9"
    },
    {
      "cell_type": "code",
      "execution_count": null,
      "metadata": {
        "id": "jc-hejXFVMB9"
      },
      "outputs": [],
      "source": [
        "# answer\n",
        "def calculate_array_sum(arr):\n",
        "    total = 0\n",
        "    for element in arr:\n",
        "        total += element\n",
        "    return total\n"
      ],
      "id": "jc-hejXFVMB9"
    }
  ],
  "metadata": {
    "kernelspec": {
      "display_name": "Python 3 (ipykernel)",
      "language": "python",
      "name": "python3"
    },
    "language_info": {
      "codemirror_mode": {
        "name": "ipython",
        "version": 3
      },
      "file_extension": ".py",
      "mimetype": "text/x-python",
      "name": "python",
      "nbconvert_exporter": "python",
      "pygments_lexer": "ipython3",
      "version": "3.8.10"
    },
    "colab": {
      "provenance": [],
      "include_colab_link": true
    }
  },
  "nbformat": 4,
  "nbformat_minor": 5
}