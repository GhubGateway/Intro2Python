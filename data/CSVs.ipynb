{
 "cells": [
  {
   "cell_type": "markdown",
   "id": "Ay3COyF_uFfb",
   "metadata": {
    "id": "Ay3COyF_uFfb"
   },
   "source": [
    "# CSVs files"
   ]
  },
  {
   "cell_type": "markdown",
   "id": "7t-gQ2f6uFfd",
   "metadata": {
    "id": "7t-gQ2f6uFfd"
   },
   "source": [
    "Within Python, there are pre-built functions that can <ins>read</ins>, <ins>update</ins>, <ins>delete</ins>, and <ins>create files</ins>. In Python, there are two types of files that can be manipulated: <ins>**binary files**</ins> and <ins>**text files**</ins>. We will deal with the latter. **Text files** include *text* files (.txt), comma-separated values (.csv), etc. We will go over one method, but it's good to keep in mind there are many other ways to do this."
   ]
  },
  {
   "cell_type": "markdown",
   "id": "5EZni4DbuFfd",
   "metadata": {
    "id": "5EZni4DbuFfd"
   },
   "source": [
    "<img src=\"https://hkperugu.com/uploads/Class3_image1.jfif\" width=\"400\">"
   ]
  },
  {
   "cell_type": "markdown",
   "id": "x2sDx0W6uFfd",
   "metadata": {
    "id": "x2sDx0W6uFfd"
   },
   "source": [
    "By the end of this section, you will learn:\n",
    "* [**to maniuplate text files**](#How-to-open-a-text-file)\n",
    "* [**about cleaning text files**](#Cleaning-up-a-file-line-by-line)\n",
    "* [**to make text file data useable**](#Storing-column-data-in-an-array)"
   ]
  },
  {
   "cell_type": "markdown",
   "id": "c8VLJb_IuFfe",
   "metadata": {
    "id": "c8VLJb_IuFfe"
   },
   "source": [
    "## How to open a text file"
   ]
  },
  {
   "cell_type": "markdown",
   "id": "KOsGOk9quFfe",
   "metadata": {
    "id": "KOsGOk9quFfe"
   },
   "source": [
    "To **open a file**, we can use the built-in Python function **```open()```**. Our input arguments will be:\n",
    "```python\n",
    "open('text file name','mode')\n",
    "```\n",
    "\n",
    "There are **four modes** we can use to open a text file:\n",
    "\n",
    "|Mode|Description|\n",
    "|-|-:|\n",
    "|'r'|to read file, default|\n",
    "|'a'|to add to a file|\n",
    "|'w'|to overwrite a file|\n",
    "|'x'|to create a file|\n",
    "\n",
    "Here is an example of opening a text file to read:"
   ]
  },
  {
   "cell_type": "code",
   "execution_count": null,
   "id": "n1idhdsfuFfe",
   "metadata": {
    "id": "n1idhdsfuFfe"
   },
   "outputs": [],
   "source": [
    "# Create variable that will store file\n",
    "ofile =open('d18o_datafile.csv','r')\n",
    "# if the file is in a different, you will need to use the file path"
   ]
  },
  {
   "cell_type": "markdown",
   "id": "x8vnxbsbuFfe",
   "metadata": {
    "id": "x8vnxbsbuFfe"
   },
   "source": [
    "To <ins>**view the contents of the file**</ins>, we can use the **```read()```** function:"
   ]
  },
  {
   "cell_type": "code",
   "execution_count": null,
   "id": "rxq6TAskuFff",
   "metadata": {
    "id": "rxq6TAskuFff",
    "outputId": "85d361d8-12df-4575-e99d-6270ffdb0aa9"
   },
   "outputs": [],
   "source": [
    "# Create variable that will store file\n",
    "ofile =open('d18o_datafile.csv','r')\n",
    "print(ofile.read())"
   ]
  },
  {
   "cell_type": "markdown",
   "id": "3AfqT2TpuFff",
   "metadata": {
    "id": "3AfqT2TpuFff"
   },
   "source": [
    "Notice that we have commas separating each value within our list. We'll need to go line-by-line to clean it up."
   ]
  },
  {
   "cell_type": "markdown",
   "id": "QWqabssWuFff",
   "metadata": {
    "id": "QWqabssWuFff"
   },
   "source": [
    "## Cleaning up a file line-by-line"
   ]
  },
  {
   "cell_type": "markdown",
   "id": "f3VnUOXGuFff",
   "metadata": {
    "id": "f3VnUOXGuFff"
   },
   "source": [
    "To clean up a file, we can use a **```for```** loop. We will also use the **```strip()```** and **```split()```** functions. The **```strip()```** function will <ins>**remove any unnecessary whitespaces**</ins> and the **```split()```** function will <ins>**split a string into a list**</ins>."
   ]
  },
  {
   "cell_type": "code",
   "execution_count": null,
   "id": "5j8QxBeEzJ7E",
   "metadata": {
    "colab": {
     "base_uri": "https://localhost:8080/"
    },
    "id": "5j8QxBeEzJ7E",
    "outputId": "3085312a-1d91-48be-8a8c-0337854d1e8b"
   },
   "outputs": [],
   "source": [
    "# example of the strip() and split() functions\n",
    "\n",
    "variable = \"     pink    \"\n",
    "x = variable.strip()\n",
    "print(\"my favourite colour is \" + x)\n",
    "\n",
    "variable1 = \"blue, red, yellow\"\n",
    "y = variable1.split()\n",
    "print(y)"
   ]
  },
  {
   "cell_type": "code",
   "execution_count": null,
   "id": "jef6aJSzuFff",
   "metadata": {
    "id": "jef6aJSzuFff"
   },
   "outputs": [],
   "source": [
    "# First we open the file to read it\n",
    "ofile =open('d18o_datafile.csv','r')\n",
    "\n",
    "# Use a for loop to go through the file line-by-line\n",
    "for line in ofile:\n",
    "    cline = line.strip().split(',')"
   ]
  },
  {
   "cell_type": "markdown",
   "id": "XpcZWYbguFfg",
   "metadata": {
    "id": "XpcZWYbguFfg"
   },
   "source": [
    "Since we have titles for each column in our text file, we'll have to create <ins>*another conditional statement*</ins> within our **```for```** loop. We can use the logical operator **```not```** to tell our code to also clean our line with the titles (in this case, ```DAY``` and ```1```)."
   ]
  },
  {
   "cell_type": "code",
   "execution_count": null,
   "id": "q0e-VE6luFfg",
   "metadata": {
    "id": "q0e-VE6luFfg"
   },
   "outputs": [],
   "source": [
    "# First we open the file to read it\n",
    "ofile =open('d18o_datafile.csv','r')\n",
    "\n",
    "# Use a for loop to go through the file line-by-line\n",
    "for line in ofile:\n",
    "\n",
    "    # Skip the line that has our titles\n",
    "    if not line.startswith('DAY'):\n",
    "\n",
    "        # Remove the newline characters and split the line at the commas\n",
    "        cline = line.strip().split(',')"
   ]
  },
  {
   "cell_type": "markdown",
   "id": "9nC2S5kTuFfg",
   "metadata": {
    "id": "9nC2S5kTuFfg"
   },
   "source": [
    "Even though we cleaned up our lines, our data within the file is still not useable. We'll need to store each column in an <ins>**_array_**</ins>."
   ]
  },
  {
   "cell_type": "markdown",
   "id": "XqpNBJLjuFfg",
   "metadata": {
    "id": "XqpNBJLjuFfg"
   },
   "source": [
    "## Storing column data in an array"
   ]
  },
  {
   "cell_type": "markdown",
   "id": "kdn0wJgfuFfg",
   "metadata": {
    "id": "kdn0wJgfuFfg"
   },
   "source": [
    "Now that we've cleaned up the file, we are going to <ins>**store our column data in an array**</ins> using the **```append()```** function. We will also need to store our column data as *floats* by using the **```float()```** function."
   ]
  },
  {
   "cell_type": "code",
   "execution_count": null,
   "id": "9OVQFBe7uFfg",
   "metadata": {
    "id": "9OVQFBe7uFfg"
   },
   "outputs": [],
   "source": [
    "import numpy as np #import the library to create arrays\n",
    "\n",
    "# First we open the file to read it\n",
    "ofile =open('d18o_datafile.csv','r')\n",
    "\n",
    "# Create two empty lists to populate with column data\n",
    "days = []\n",
    "d18o = []\n",
    "\n",
    "# Use a for loop to go through the file line-by-line\n",
    "for line in ofile:\n",
    "\n",
    "    # Skip the line that has our titles\n",
    "    if not line.startswith('DAY'):\n",
    "\n",
    "        # now remove the newline characters and split the line at the commas\n",
    "        cline = line.strip().split(',')\n",
    "\n",
    "        # append column data to the empty lists, as floats\n",
    "        days.append(float(cline[0])) # column 1\n",
    "        d18o.append(float(cline[1])) # column 2\n",
    "\n",
    "# Convert data from lists to arrays\n",
    "days = np.array(days)\n",
    "d18o = np.array(d18o)"
   ]
  },
  {
   "cell_type": "markdown",
   "id": "6yNnC88zuFfg",
   "metadata": {
    "id": "6yNnC88zuFfg"
   },
   "source": [
    "**_Now_** we can plot our data, apply mathematical functions, etc.!"
   ]
  },
  {
   "cell_type": "markdown",
   "id": "rfesJTeTuFfg",
   "metadata": {
    "id": "rfesJTeTuFfg"
   },
   "source": [
    "## Summary"
   ]
  },
  {
   "cell_type": "markdown",
   "id": "-cOD2168uFfg",
   "metadata": {
    "id": "-cOD2168uFfg"
   },
   "source": [
    "* We can use the [**```open()```** function to open files and **```read()```** function to view a file's contents](#How-to-open-a-text-file)\n",
    "\n",
    "\n",
    "* To make data within a file useable, we can follow these steps:\n",
    "    1. Use a **```for```** loop to [**clean the file**](#Cleaning-up-a-file-line-by-line)\n",
    "    2. Add **another conditional** with the **```not```** statement to also [**clean the titles**](#Cleaning-up-a-file-line-by-line) of the columns\n",
    "    3. Use the **```append()```** function and **```float()```** to [store the data in an array](#Storing-column-data-in-an-array)"
   ]
  },
  {
   "cell_type": "markdown",
   "id": "UgAIZUdDuFfh",
   "metadata": {
    "id": "UgAIZUdDuFfh"
   },
   "source": [
    "## Exercise"
   ]
  },
  {
   "cell_type": "markdown",
   "id": "EHMNjZc3uFfh",
   "metadata": {
    "id": "EHMNjZc3uFfh"
   },
   "source": [
    "1. Use the function **```readline()```** to **read the tenth line** from the file **```npark_state.csv```**."
   ]
  },
  {
   "cell_type": "code",
   "execution_count": null,
   "id": "tdJMLcYwuFfh",
   "metadata": {
    "id": "tdJMLcYwuFfh"
   },
   "outputs": [],
   "source": [
    "file_path = 'npark_state.csv'\n"
   ]
  },
  {
   "cell_type": "markdown",
   "id": "U91D82C_uFfh",
   "metadata": {
    "id": "U91D82C_uFfh"
   },
   "source": [
    "2. **Add the following line** to the file **```npark_state.csv```**: <ins>\"There are 63 National Parks within the U.S.\"</ins> View the file after adding to it."
   ]
  },
  {
   "cell_type": "code",
   "execution_count": null,
   "id": "7ZuGNNsXuFfh",
   "metadata": {
    "id": "7ZuGNNsXuFfh"
   },
   "outputs": [],
   "source": []
  },
  {
   "cell_type": "markdown",
   "id": "JQF5kDkfuFfh",
   "metadata": {
    "id": "JQF5kDkfuFfh"
   },
   "source": [
    "3. **Create a pie chart** using the text file: **```degcon_21.txt```**. This file contains the percentage of bachelor's degrees conferred at the University at Buffalo between July 1, 2021 and June 30, 2022."
   ]
  },
  {
   "cell_type": "code",
   "execution_count": null,
   "id": "ijeWGu8MuFfh",
   "metadata": {
    "id": "ijeWGu8MuFfh"
   },
   "outputs": [],
   "source": [
    "file_path = 'degcon_21.txt'\n",
    "\n"
   ]
  },
  {
   "cell_type": "markdown",
   "id": "c79825b7-84bc-432b-9a83-476949852765",
   "metadata": {},
   "source": [
    "### Answers"
   ]
  },
  {
   "cell_type": "markdown",
   "id": "fb378491-ce05-416e-8bff-06dc42fc6afe",
   "metadata": {},
   "source": [
    "1. Use the function **```readline()```** to **read the tenth line** from the file **```npark_state.csv```**."
   ]
  },
  {
   "cell_type": "code",
   "execution_count": null,
   "id": "6d827267-c9b3-4bff-b980-b2efad159b9d",
   "metadata": {},
   "outputs": [],
   "source": [
    "# answer\n",
    "\n",
    "file_path = 'npark_state.csv'\n",
    "\n",
    "# Open the file in read mode\n",
    "with open(file_path, 'r') as file:\n",
    "    # Skip the first nine lines\n",
    "    for i in range(9):\n",
    "        file.readline()\n",
    "\n",
    "    # Read the tenth line\n",
    "    tenth_line = file.readline()\n",
    "    print(tenth_line)\n"
   ]
  },
  {
   "cell_type": "markdown",
   "id": "8db24a01-6574-4c89-bbba-c14d0cbc5b1b",
   "metadata": {},
   "source": [
    "2. **Add the following line** to the file **```npark_state.csv```**: <ins>\"There are 63 National Parks within the U.S.\"</ins> View the file after adding to it."
   ]
  },
  {
   "cell_type": "code",
   "execution_count": null,
   "id": "63c22826-670c-47ba-8431-f79835356c33",
   "metadata": {},
   "outputs": [],
   "source": [
    "# answer\n",
    "\n",
    "file_path = 'npark_state.csv'\n",
    "line_to_add = \"There are 63 National Parks within the U.S.\\n\"  # Adding a newline character at the end\n",
    "\n",
    "# Open the file in append mode and write the new line\n",
    "with open(file_path, 'a') as file:\n",
    "    file.write(line_to_add)\n",
    "\n",
    "# View the file after adding the line\n",
    "with open(file_path, 'r') as file:\n",
    "    content = file.read()\n",
    "    print(content)\n"
   ]
  },
  {
   "cell_type": "markdown",
   "id": "68571c98-98d7-43bd-98cf-0eaf2a23af6b",
   "metadata": {},
   "source": [
    "3. **Create a pie chart** using the text file: **```degcon_21.txt```**. This file contains the percentage of bachelor's degrees conferred at the University at Buffalo between July 1, 2021 and June 30, 2022."
   ]
  },
  {
   "cell_type": "code",
   "execution_count": null,
   "id": "63feb2f3-70ca-46be-8dd0-e1885eb04d90",
   "metadata": {},
   "outputs": [],
   "source": [
    "# insert code here\n",
    "\n",
    "import matplotlib.pyplot as plt\n",
    "\n",
    "file_path = 'degcon_21.txt'\n",
    "\n",
    "# Read the data from the file\n",
    "with open(file_path, 'r') as file:\n",
    "    lines = file.readlines()\n",
    "\n",
    "# Processing data into labels and percentages\n",
    "labels = []\n",
    "percentages = []\n",
    "\n",
    "for line in lines:\n",
    "    # Assuming the format is 'Degree Category: Percentage%'\n",
    "    parts = line.strip().split(': ')\n",
    "    if len(parts) == 2:\n",
    "        labels.append(parts[0])\n",
    "        percentage = float(parts[1].strip('%'))  # Remove '%' and convert to float\n",
    "        percentages.append(percentage)\n",
    "\n",
    "# Plotting the pie chart\n",
    "plt.figure(figsize=(8, 6))\n",
    "plt.pie(percentages, labels=labels, autopct='%1.1f%%', startangle=140)\n",
    "plt.title('Bachelor\\'s Degrees Conferred at University at Buffalo (2021-2022)')\n",
    "plt.axis('equal')  # Equal aspect ratio ensures that pie is drawn as a circle.\n",
    "plt.show()"
   ]
  },
  {
   "cell_type": "code",
   "execution_count": null,
   "id": "15182b20-224d-4bf1-a878-f4562c7c1a58",
   "metadata": {},
   "outputs": [],
   "source": []
  }
 ],
 "metadata": {
  "colab": {
   "include_colab_link": true,
   "provenance": []
  },
  "kernelspec": {
   "display_name": "Python 3 (ipykernel)",
   "language": "python",
   "name": "python3"
  },
  "language_info": {
   "codemirror_mode": {
    "name": "ipython",
    "version": 3
   },
   "file_extension": ".py",
   "mimetype": "text/x-python",
   "name": "python",
   "nbconvert_exporter": "python",
   "pygments_lexer": "ipython3",
   "version": "3.8.15"
  }
 },
 "nbformat": 4,
 "nbformat_minor": 5
}
