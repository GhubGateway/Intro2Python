{
 "cells": [
  {
   "cell_type": "markdown",
   "id": "72633d82",
   "metadata": {},
   "source": [
    "# Functions"
   ]
  },
  {
   "cell_type": "markdown",
   "id": "0d4be3b0",
   "metadata": {},
   "source": [
    "In Python, functions are blocks of reusable code designed to perform a specific task. They can take input arguments, process them, and return a result. Functions enhance code modularity, readability, and reusability by encapsulating logic into named blocks. "
   ]
  },
  {
   "cell_type": "markdown",
   "id": "cdbb98ce",
   "metadata": {},
   "source": [
    "## Defining A Function"
   ]
  },
  {
   "cell_type": "markdown",
   "id": "0c51b003",
   "metadata": {},
   "source": [
    "To define a function:\n",
    "\n",
    "Use def Keyword: Begin with the def keyword followed by the function name.\n",
    "\n",
    "Specify Parameters (if any): Include parameters within parentheses if the function requires input values.\n",
    "\n",
    "End with a Colon: Conclude the function definition line with a colon (:) to indicate the start of the function body.\n",
    "\n",
    "Write Function Body: Indent the code block below the function definition to specify the actions the function will perform.\n",
    "\n",
    "Optional Return Statement: If the function produces a result, include a return statement to send the result back to the caller."
   ]
  },
  {
   "cell_type": "code",
   "execution_count": null,
   "id": "de605ab6",
   "metadata": {},
   "outputs": [],
   "source": [
    "def greet(name):\n",
    "    \"\"\"\n",
    "    This function greets the user with the given name.\n",
    "    \"\"\"\n",
    "    return \"Hello \"+name"
   ]
  },
  {
   "cell_type": "markdown",
   "id": "98b560c3",
   "metadata": {},
   "source": [
    "## Format of a function call"
   ]
  },
  {
   "cell_type": "markdown",
   "id": "46354096",
   "metadata": {},
   "source": [
    "A function call typically looks like this: "
   ]
  },
  {
   "cell_type": "code",
   "execution_count": null,
   "id": "bc8cb227",
   "metadata": {},
   "outputs": [],
   "source": [
    "newvar = function(args, kwargs=kwargs)"
   ]
  },
  {
   "cell_type": "markdown",
   "id": "6da91c9f",
   "metadata": {},
   "source": [
    "**newvar:** the new variable that will be assigned with the results of the function\n",
    "**args:** arguments (required, passed in a fixed positional order, no label required)\n",
    "**kwargs:** keyword arguments (not required, no fixed position, label required)\n",
    "\n",
    "\n",
    "You can find these by typing help(function)"
   ]
  },
  {
   "cell_type": "markdown",
   "id": "7f1123b3",
   "metadata": {},
   "source": [
    "The results will contain many aspects, but the most important part will look like:"
   ]
  },
  {
   "cell_type": "code",
   "execution_count": null,
   "id": "afab7ffe",
   "metadata": {},
   "outputs": [],
   "source": [
    "my_function(arg, kwarg1=None, kwarg2=1000)"
   ]
  },
  {
   "cell_type": "markdown",
   "id": "def2f95b",
   "metadata": {},
   "source": [
    "In this case, arg is a argument – you must define a value\n",
    "kwarg1 and kwarg2 have default values – you only define them if want a different\n",
    "value"
   ]
  },
  {
   "cell_type": "code",
   "execution_count": null,
   "id": "a93e5311",
   "metadata": {},
   "outputs": [],
   "source": [
    "def greet(name):\n",
    "    \"\"\"\n",
    "    This function greets the user with the given name.\n",
    "    \"\"\"\n",
    "    return \"Hello \"+name\n",
    "\n",
    "# Function call\n",
    "message = greet(\"Alice\")\n",
    "print(message)  # Output: Hello, Alice!"
   ]
  }
 ],
 "metadata": {
  "kernelspec": {
   "display_name": "Python 3 (ipykernel)",
   "language": "python",
   "name": "python3"
  },
  "language_info": {
   "codemirror_mode": {
    "name": "ipython",
    "version": 3
   },
   "file_extension": ".py",
   "mimetype": "text/x-python",
   "name": "python",
   "nbconvert_exporter": "python",
   "pygments_lexer": "ipython3",
   "version": "3.11.5"
  }
 },
 "nbformat": 4,
 "nbformat_minor": 5
}
