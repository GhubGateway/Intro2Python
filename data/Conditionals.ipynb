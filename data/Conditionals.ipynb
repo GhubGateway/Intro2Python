{
 "cells": [
  {
   "cell_type": "markdown",
   "id": "5699c79b",
   "metadata": {},
   "source": [
    "# Conditionals"
   ]
  },
  {
   "cell_type": "markdown",
   "id": "eeb5f60e",
   "metadata": {},
   "source": [
    "<ins>**Conditionals**</ins> can play an important role in code. It <ins>**_allows the program to execute decisions based off conditions_**</ins> we give it. Here, we will learn about different conditional statements and their purposes."
   ]
  },
  {
   "cell_type": "markdown",
   "id": "418bef56",
   "metadata": {},
   "source": [
    "<img src= \"https://pbs.twimg.com/media/EDbW0dNXsAAwRlA.jpg\" >"
   ]
  },
  {
   "cell_type": "markdown",
   "id": "b9a1a554",
   "metadata": {},
   "source": [
    "By the end of this section, you will learn:\n",
    "* [**about logical conditionals**](#Logical-conditionals)\n",
    "* [**about conditional statements and when to use them**](#Conditional-statements)\n",
    "* [**to group conditionals**](#Grouping-conditionals)"
   ]
  },
  {
   "cell_type": "markdown",
   "id": "b1798bb3",
   "metadata": {},
   "source": [
    "## Booleans"
   ]
  },
  {
   "cell_type": "markdown",
   "id": "f6aee7e0",
   "metadata": {},
   "source": [
    "**Booleans** are a data structure which are typically the <ins>**result of conditionals**</ins>, but can exist on their own. **Booleans** are **```true``` (1)** or **```false``` (0)**."
   ]
  },
  {
   "cell_type": "markdown",
   "id": "e7d6bc84",
   "metadata": {},
   "source": [
    "## Logical conditionals"
   ]
  },
  {
   "cell_type": "markdown",
   "id": "063927c5",
   "metadata": {},
   "source": [
    "Typically called logicals (because their results are fairly logical), **logical conditionals** stem from mathematics. They are the following:\n",
    "\n",
    "|Symbol|Description|\n",
    "|-|-:|\n",
    "|<|less than|  \n",
    "|>|greater than|\n",
    "|==|equal to|\n",
    "|!=|not equal to| \n",
    "|>=|greater than or equal to| \n",
    "|<=|less than or equal to|\n",
    "   \n",
    " We can test this out and see their outputs:"
   ]
  },
  {
   "cell_type": "code",
   "execution_count": null,
   "id": "bc3d5302",
   "metadata": {
    "scrolled": true
   },
   "outputs": [],
   "source": [
    "1 > 2"
   ]
  },
  {
   "cell_type": "code",
   "execution_count": null,
   "id": "8b840af6",
   "metadata": {},
   "outputs": [],
   "source": [
    "1 < 2"
   ]
  },
  {
   "cell_type": "code",
   "execution_count": null,
   "id": "c3e744f1",
   "metadata": {
    "scrolled": true
   },
   "outputs": [],
   "source": [
    "1 == 2"
   ]
  },
  {
   "cell_type": "code",
   "execution_count": null,
   "id": "ca562070",
   "metadata": {},
   "outputs": [],
   "source": [
    "1 != 2"
   ]
  },
  {
   "cell_type": "code",
   "execution_count": null,
   "id": "ca348d84",
   "metadata": {},
   "outputs": [],
   "source": [
    "1 >= 2"
   ]
  },
  {
   "cell_type": "code",
   "execution_count": null,
   "id": "6d3c22d3",
   "metadata": {},
   "outputs": [],
   "source": [
    "1 <= 2"
   ]
  },
  {
   "cell_type": "markdown",
   "id": "526e6e40",
   "metadata": {},
   "source": [
    "## Conditional statements"
   ]
  },
  {
   "cell_type": "markdown",
   "id": "1402edc4",
   "metadata": {},
   "source": [
    "### ```if``` Statement"
   ]
  },
  {
   "cell_type": "markdown",
   "id": "3a258f0c",
   "metadata": {},
   "source": [
    "When using an **```if```** statement, the <ins>**conditional must be valid**</ins> for the code within to run. It follows this basic format:\n",
    "```python\n",
    "if conditional:\n",
    "    \"\"\"do this code\"\"\"\n",
    "```\n",
    "If the conditional is **<ins>True</ins>**, then the program **<ins>will run the code</ins>**. An example is:"
   ]
  },
  {
   "cell_type": "code",
   "execution_count": 6,
   "id": "32a5f901",
   "metadata": {},
   "outputs": [],
   "source": [
    "# define two variables\n",
    "var0 = 2\n",
    "var1 = 1\n",
    "\n",
    "if var0 < var1:\n",
    "    print('hey')"
   ]
  },
  {
   "cell_type": "markdown",
   "id": "9493f8eb",
   "metadata": {},
   "source": [
    "Notice there is no output since the conditional is false."
   ]
  },
  {
   "cell_type": "markdown",
   "id": "9ef85118",
   "metadata": {},
   "source": [
    "### ```if-else``` Statement"
   ]
  },
  {
   "cell_type": "markdown",
   "id": "2ed8c703",
   "metadata": {},
   "source": [
    "Similiar to an **```if```** statement, an **```if-else```** statement will <ins>**run the code after the conditional if the conditional is valid**</ins>. If the conditional is <ins>**not valid**</ins>, it will <ins>**run a separate code**</ins> following the **```else```** . It follows this basic format:\n",
    "```python\n",
    "if conditional:\n",
    "    \"\"\"do this code\"\"\"\n",
    "else:\n",
    "    \"\"\"do this other code\"\"\"\n",
    "```\n",
    "\n",
    "An example is:"
   ]
  },
  {
   "cell_type": "code",
   "execution_count": 1,
   "id": "0916a49b",
   "metadata": {},
   "outputs": [
    {
     "name": "stdout",
     "output_type": "stream",
     "text": [
      "its off\n"
     ]
    }
   ],
   "source": [
    "# define two variables\n",
    "var0 = 2\n",
    "var1 = 1\n",
    "\n",
    "if var0<=var1:\n",
    "    print('its on')\n",
    "else:\n",
    "    print('its off')"
   ]
  },
  {
   "cell_type": "markdown",
   "id": "ca72bf2a",
   "metadata": {},
   "source": [
    "### ```if-elif-else``` Statement"
   ]
  },
  {
   "cell_type": "markdown",
   "id": "6f6fb254",
   "metadata": {},
   "source": [
    "Almost a combination of the previously mentioned statements, the **```if-elif-else```** statement follows this logic: \n",
    "\n",
    "* if the first conditional is valid, do the code after **```if```**\n",
    "\n",
    "\n",
    "* if it is not valid, but the conditional following the **```elif```** is valid, do other code following that \n",
    "\n",
    "\n",
    "* if both condiitonals are not valid, then finally do the code following the **```else```**"
   ]
  },
  {
   "cell_type": "markdown",
   "id": "e0fd60bf",
   "metadata": {},
   "source": [
    "It follows this basic format:\n",
    "\n",
    "```python\n",
    "if conditional:\n",
    "    \"\"\"do this code\"\"\"\n",
    "elif conditional:\n",
    "    \"\"\"do this different code\"\"\"\n",
    "else:\n",
    "    \"\"\"do this other code\"\"\"\n",
    "```\n",
    "\n",
    "An example is:"
   ]
  },
  {
   "cell_type": "code",
   "execution_count": 5,
   "id": "f0fb86a9",
   "metadata": {},
   "outputs": [
    {
     "name": "stdout",
     "output_type": "stream",
     "text": [
      "its off\n"
     ]
    }
   ],
   "source": [
    "# define two variables\n",
    "var0 = 2\n",
    "var1 = 1\n",
    "\n",
    "if var0<var1:\n",
    "    print('its on')\n",
    "elif var0 == var1:\n",
    "    print('it is what it is')\n",
    "else:\n",
    "    print('its off')"
   ]
  },
  {
   "cell_type": "markdown",
   "id": "ae4765fa",
   "metadata": {},
   "source": [
    "## Grouping conditionals"
   ]
  },
  {
   "cell_type": "markdown",
   "id": "89604505",
   "metadata": {},
   "source": [
    "### ```and```"
   ]
  },
  {
   "cell_type": "markdown",
   "id": "33419a77",
   "metadata": {},
   "source": [
    "If you have <ins>**multiple condtionals**</ins>, and want <ins>**all of them met**</ins>, we can group the conditionals using an **```and```** .\n",
    "\n",
    "e.g. ```var0 > 1 and var0 < 35``` will only be ```True``` if ```var0``` is between 1 and 35.\n",
    "\n",
    "Run the code below to see an example:"
   ]
  },
  {
   "cell_type": "code",
   "execution_count": null,
   "id": "a8c88d7b",
   "metadata": {},
   "outputs": [],
   "source": [
    "# define two variables\n",
    "var0 = 2\n",
    "var1 = 1\n",
    "\n",
    "if var0 > var1 and var1 == 1 :\n",
    "    print('hey')"
   ]
  },
  {
   "cell_type": "markdown",
   "id": "f86d0f9f",
   "metadata": {},
   "source": [
    "### ```or```"
   ]
  },
  {
   "cell_type": "markdown",
   "id": "4b87a427",
   "metadata": {},
   "source": [
    "If you have <ins>**multiple conditionals, any of which would satisfy your requirements**</ins>, we can use an **```or```** .\n",
    "\n",
    "e.g. ```var0 > 1 or var1 == 35``` will be ```True``` if var0 is greater than one **OR** if it equals 3. So <ins>**only one conditional needs to be valid**</ins> to make the whole statement valid.\n",
    "\n",
    "Run the code below to see an example:"
   ]
  },
  {
   "cell_type": "code",
   "execution_count": null,
   "id": "aa82b78b",
   "metadata": {},
   "outputs": [],
   "source": [
    "# define two variables\n",
    "var0 = 2\n",
    "var1 = 1\n",
    "\n",
    "if var0 < var1 or var1 < 35 :\n",
    "    print('hey')"
   ]
  },
  {
   "cell_type": "markdown",
   "id": "a13b7a13",
   "metadata": {},
   "source": [
    "## Summary"
   ]
  },
  {
   "cell_type": "markdown",
   "id": "c2ceae72",
   "metadata": {},
   "source": [
    "* **[Booleans](#Booleans)** are typically the result of conditional statements: ```true```(1) or ```false```(0)\n",
    "\n",
    "\n",
    "* **[Logical conditionals](#Logical-Conditionals)** are less than(<), greater than (>), equal to (==), etc.\n",
    "\n",
    "\n",
    "* **[Conditional statements](#Conditional-Statements)** are\n",
    "    * ```if``` statements, which will run code if the contional is true\n",
    "    * ```if-else``` statements, which will run the code if the conditional is true and run a different code if the conditional is false\n",
    "    * ```if-elif-else``` statements, which are a combination of ```if``` and ```if-else``` statements but there is a second conditional added\n",
    "\n",
    "\n",
    "* If you have **[multiple condtionals](#Grouping-Conditionals)** to satisfy, you can group them using\n",
    "    * ```and```, if you need to satisfy *all* of them\n",
    "    * ```or```, if youneed to satisfy *some* of them"
   ]
  },
  {
   "cell_type": "markdown",
   "id": "d7420e8e",
   "metadata": {},
   "source": [
    "## Exercise"
   ]
  },
  {
   "cell_type": "markdown",
   "id": "749eae38",
   "metadata": {},
   "source": [
    "Complete the following exercises."
   ]
  },
  {
   "cell_type": "markdown",
   "id": "3a5fdbe1",
   "metadata": {},
   "source": [
    "1. **Create an ```if``` statement** for the following sentence: <ins>if 10 is greater than 2, print \"conditionals are cool\"</ins> .\n",
    "Be sure to create two variables that contain 10 and 2."
   ]
  },
  {
   "cell_type": "code",
   "execution_count": null,
   "id": "78cf8907",
   "metadata": {},
   "outputs": [],
   "source": [
    "# insert code here"
   ]
  },
  {
   "cell_type": "markdown",
   "id": "8820a583",
   "metadata": {},
   "source": [
    "2. **Create an ```if-else``` statement** for the following sentence: <ins>if 200 is greater than or equal to 1000, print \"i love python\"; if not, then print \"go bills!\"</ins> . Be sure to create your variables."
   ]
  },
  {
   "cell_type": "code",
   "execution_count": null,
   "id": "5edcd52b",
   "metadata": {},
   "outputs": [],
   "source": [
    "# insert code here"
   ]
  },
  {
   "cell_type": "markdown",
   "id": "7269cd91",
   "metadata": {},
   "source": [
    "3. **Create an ```if-elif-else``` statement** for the following sentence: <ins>if 1 is less than or equal to 0, print \"it's a good day\"; if not but 1 is less than 2, print \"it's a great day\"; if none work, print \"it's a bad day\"</ins> . Be sure to create your variables."
   ]
  },
  {
   "cell_type": "code",
   "execution_count": null,
   "id": "ee34d4c9",
   "metadata": {},
   "outputs": [],
   "source": [
    "# insert code here"
   ]
  },
  {
   "cell_type": "markdown",
   "id": "0bb0e44c",
   "metadata": {},
   "source": [
    "4. **Alter your code** for one of the first three exercises by adding an **```and```** or an **```or```** . Add a conditional of your choice."
   ]
  },
  {
   "cell_type": "code",
   "execution_count": null,
   "id": "5576e9d9",
   "metadata": {},
   "outputs": [],
   "source": [
    "# insert code here"
   ]
  }
 ],
 "metadata": {
  "kernelspec": {
   "display_name": "Python 3 (ipykernel)",
   "language": "python",
   "name": "python3"
  },
  "language_info": {
   "codemirror_mode": {
    "name": "ipython",
    "version": 3
   },
   "file_extension": ".py",
   "mimetype": "text/x-python",
   "name": "python",
   "nbconvert_exporter": "python",
   "pygments_lexer": "ipython3",
   "version": "3.9.13"
  }
 },
 "nbformat": 4,
 "nbformat_minor": 5
}
