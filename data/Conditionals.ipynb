{
 "cells": [
  {
   "cell_type": "markdown",
   "id": "uv_iNxbiHvP_",
   "metadata": {
    "id": "uv_iNxbiHvP_"
   },
   "source": [
    "# Conditionals"
   ]
  },
  {
   "cell_type": "markdown",
   "id": "i37qxOtyHvQA",
   "metadata": {
    "id": "i37qxOtyHvQA"
   },
   "source": [
    "<ins>**Conditionals**</ins> play an important role in code. <ins>**_It allows the program to execute decisions based off of conditions_**</ins> we give it. Here, we will learn about different conditional statements and their purposes."
   ]
  },
  {
   "cell_type": "markdown",
   "id": "rro7oyekHvQA",
   "metadata": {
    "id": "rro7oyekHvQA"
   },
   "source": [
    "<img src= \"https://pbs.twimg.com/media/EDbW0dNXsAAwRlA.jpg\" width = '400'>"
   ]
  },
  {
   "cell_type": "markdown",
   "id": "0zrl90m6HvQB",
   "metadata": {
    "id": "0zrl90m6HvQB"
   },
   "source": [
    "By the end of this section, you will learn:\n",
    "* [**about logical conditionals**](#Logical-conditionals)\n",
    "* [**about conditional statements and when to use them**](#Conditional-statements)\n",
    "* [**to group conditionals**](#Grouping-conditionals)"
   ]
  },
  {
   "cell_type": "markdown",
   "id": "FHG7l9jDHvQB",
   "metadata": {
    "id": "FHG7l9jDHvQB"
   },
   "source": [
    "## Boolean"
   ]
  },
  {
   "cell_type": "markdown",
   "id": "YpG1KhgkHvQB",
   "metadata": {
    "id": "YpG1KhgkHvQB"
   },
   "source": [
    "**Booleans** are a fundamental data type in programming, which are typically the <ins>**result of conditionals**</ins>, but they can exist on their own. **Booleans** are either **```true``` (1)** or **```false``` (0)**."
   ]
  },
  {
   "cell_type": "markdown",
   "id": "bQQfmk2wHvQB",
   "metadata": {
    "id": "bQQfmk2wHvQB"
   },
   "source": [
    "## Logical conditionals"
   ]
  },
  {
   "cell_type": "markdown",
   "id": "nDJ_KwwAHvQB",
   "metadata": {
    "id": "nDJ_KwwAHvQB"
   },
   "source": [
    "Typically called logicals (because their results are fairly logical), **logical conditionals** stem from mathematics. They are the following:\n",
    "\n",
    "|Symbol|Description|\n",
    "|-|-:|\n",
    "|<|less than|  \n",
    "|>|greater than|\n",
    "|==|equal to|\n",
    "|!=|not equal to|\n",
    "|>=|greater than or equal to|\n",
    "|<=|less than or equal to|\n",
    "   \n",
    " We can test this out and see their outputs:"
   ]
  },
  {
   "cell_type": "code",
   "execution_count": null,
   "id": "UvsUXfK0HvQB",
   "metadata": {
    "id": "UvsUXfK0HvQB",
    "scrolled": true
   },
   "outputs": [],
   "source": [
    "1 > 2"
   ]
  },
  {
   "cell_type": "code",
   "execution_count": null,
   "id": "twqED-wYHvQC",
   "metadata": {
    "id": "twqED-wYHvQC"
   },
   "outputs": [],
   "source": [
    "1 < 2"
   ]
  },
  {
   "cell_type": "code",
   "execution_count": null,
   "id": "R8MhQIqYHvQC",
   "metadata": {
    "id": "R8MhQIqYHvQC",
    "scrolled": true
   },
   "outputs": [],
   "source": [
    "1 == 2"
   ]
  },
  {
   "cell_type": "code",
   "execution_count": null,
   "id": "oPFzMxyJHvQC",
   "metadata": {
    "id": "oPFzMxyJHvQC"
   },
   "outputs": [],
   "source": [
    "1 != 2"
   ]
  },
  {
   "cell_type": "code",
   "execution_count": null,
   "id": "CeAjIYr2HvQD",
   "metadata": {
    "id": "CeAjIYr2HvQD"
   },
   "outputs": [],
   "source": [
    "1 >= 2"
   ]
  },
  {
   "cell_type": "code",
   "execution_count": null,
   "id": "bIkPG_a6HvQD",
   "metadata": {
    "id": "bIkPG_a6HvQD"
   },
   "outputs": [],
   "source": [
    "1 <= 2"
   ]
  },
  {
   "cell_type": "markdown",
   "id": "_P-zxtNZHvQD",
   "metadata": {
    "id": "_P-zxtNZHvQD"
   },
   "source": [
    "## Conditional statements"
   ]
  },
  {
   "cell_type": "markdown",
   "id": "aqL64a1wHvQD",
   "metadata": {
    "id": "aqL64a1wHvQD"
   },
   "source": [
    "### ```if``` Statement"
   ]
  },
  {
   "cell_type": "markdown",
   "id": "vPUdgLxqHvQD",
   "metadata": {
    "id": "vPUdgLxqHvQD"
   },
   "source": [
    "When using an **```if```** statement, the <ins>**conditional statement must be valid**</ins> for the code within to run. It follows this basic format:\n",
    "```python\n",
    "if conditional:\n",
    "    \"\"\"do this code\"\"\"\n",
    "```\n",
    "If the conditional is **<ins>True</ins>**, then the program **<ins>will run the code</ins>**. An example is:"
   ]
  },
  {
   "cell_type": "code",
   "execution_count": null,
   "id": "OIjTApZ1HvQD",
   "metadata": {
    "id": "OIjTApZ1HvQD"
   },
   "outputs": [],
   "source": [
    "# define two variables\n",
    "var0 = 2\n",
    "var1 = 1\n",
    "\n",
    "if var0 < var1:\n",
    "    print('hey')"
   ]
  },
  {
   "cell_type": "markdown",
   "id": "Zagl1C0MHvQD",
   "metadata": {
    "id": "Zagl1C0MHvQD"
   },
   "source": [
    "Notice there is no output since the conditional is false."
   ]
  },
  {
   "cell_type": "markdown",
   "id": "DVc20wpUHvQD",
   "metadata": {
    "id": "DVc20wpUHvQD"
   },
   "source": [
    "### ```if-else``` Statement"
   ]
  },
  {
   "cell_type": "markdown",
   "id": "Q3X_DIdCHvQD",
   "metadata": {
    "id": "Q3X_DIdCHvQD"
   },
   "source": [
    "Similar to an **```if```** statement, an **```if-else```** statement will <ins>**run the code after the conditional if the conditional statement is valid**</ins>. If the condition given in the if statement is true, the program takes one path and executes specific code. However, if that condition is not true, it takes a different path, executing a seperate set of code provided within the else block.\n",
    "\n",
    "It's a way for a program to decide between two possible actions based on whether a condition is met or not. It follows this basic format:\n",
    "```python\n",
    "if conditional:\n",
    "    \"\"\"do this code\"\"\"\n",
    "else:\n",
    "    \"\"\"do this other code\"\"\"\n",
    "```\n",
    "\n",
    "An example is:"
   ]
  },
  {
   "cell_type": "code",
   "execution_count": null,
   "id": "GbzBUMWtHvQD",
   "metadata": {
    "id": "GbzBUMWtHvQD",
    "outputId": "51e58c01-ed7f-407f-9cf9-6bfc45fba9db"
   },
   "outputs": [],
   "source": [
    "# define two variables\n",
    "var0 = 2\n",
    "var1 = 1\n",
    "\n",
    "if var0<=var1:\n",
    "    print('its on')\n",
    "else:\n",
    "    print('its off')"
   ]
  },
  {
   "cell_type": "markdown",
   "id": "tD3t5F5jHvQE",
   "metadata": {
    "id": "tD3t5F5jHvQE"
   },
   "source": [
    "### ```if-elif-else``` Statement"
   ]
  },
  {
   "cell_type": "markdown",
   "id": "yiVgN3CrHvQE",
   "metadata": {
    "id": "yiVgN3CrHvQE"
   },
   "source": [
    "Almost a combination of the previously mentioned statements, the **```if-elif-else```** statement follows this logic:\n",
    "\n",
    "* if the first conditional is valid, do the code after **```if```**\n",
    "\n",
    "\n",
    "* if it is not valid, but the conditional following the **```elif```** is valid, do other code following that\n",
    "\n",
    "\n",
    "* if both conditonals are not valid, then finally do the code following the **```else```**"
   ]
  },
  {
   "cell_type": "markdown",
   "id": "vL0W6g5OHvQE",
   "metadata": {
    "id": "vL0W6g5OHvQE"
   },
   "source": [
    "It follows this basic format:\n",
    "\n",
    "```python\n",
    "if conditional:\n",
    "    \"\"\"do this code\"\"\"\n",
    "elif conditional:\n",
    "    \"\"\"do this different code\"\"\"\n",
    "else:\n",
    "    \"\"\"do this other code\"\"\"\n",
    "```\n",
    "\n",
    "An example is:"
   ]
  },
  {
   "cell_type": "code",
   "execution_count": null,
   "id": "_gFdEvNMHvQE",
   "metadata": {
    "id": "_gFdEvNMHvQE",
    "outputId": "73dcdee3-2cce-4a6f-a005-fa13189989bc"
   },
   "outputs": [],
   "source": [
    "# define two variables\n",
    "var0 = 2\n",
    "var1 = 1\n",
    "\n",
    "if var0<var1:\n",
    "    print('its on')\n",
    "elif var0 == var1:\n",
    "    print('it is what it is')\n",
    "else:\n",
    "    print('its off')"
   ]
  },
  {
   "cell_type": "markdown",
   "id": "Vz5ivNQTHvQE",
   "metadata": {
    "id": "Vz5ivNQTHvQE"
   },
   "source": [
    "## Grouping conditionals"
   ]
  },
  {
   "cell_type": "markdown",
   "id": "p65FKZebHvQE",
   "metadata": {
    "id": "p65FKZebHvQE"
   },
   "source": [
    "### ```and```"
   ]
  },
  {
   "cell_type": "markdown",
   "id": "5F0Sq7dwHvQE",
   "metadata": {
    "id": "5F0Sq7dwHvQE"
   },
   "source": [
    "If you have <ins>**multiple condtionals**</ins>, and want <ins>**all of them met**</ins>, we can group the conditionals using an **```and```** .\n",
    "\n",
    "e.g. ```var0 > 1 and var0 < 35``` will only be ```True``` if ```var0``` is between 1 and 35.\n",
    "\n",
    "Run the code below to see an example:"
   ]
  },
  {
   "cell_type": "code",
   "execution_count": null,
   "id": "fYyUwtJUHvQE",
   "metadata": {
    "id": "fYyUwtJUHvQE"
   },
   "outputs": [],
   "source": [
    "# define two variables\n",
    "var0 = 2\n",
    "var1 = 1\n",
    "\n",
    "if var0 > var1 and var1 == 1 :\n",
    "    print('hey')"
   ]
  },
  {
   "cell_type": "markdown",
   "id": "4yxk5jqGHvQF",
   "metadata": {
    "id": "4yxk5jqGHvQF"
   },
   "source": [
    "### ```or```"
   ]
  },
  {
   "cell_type": "markdown",
   "id": "l2CrBzF9HvQF",
   "metadata": {
    "id": "l2CrBzF9HvQF"
   },
   "source": [
    "If you have <ins>**multiple conditionals, any of which would satisfy your requirements**</ins>, we can use an **```or```** .\n",
    "\n",
    "e.g. ```var0 > 1 or var1 == 35``` will be ```True``` if var0 is greater than one **OR** if it equals 3. So <ins>**only one conditional needs to be valid**</ins> to make the whole statement valid.\n",
    "\n",
    "Run the code below to see an example:"
   ]
  },
  {
   "cell_type": "code",
   "execution_count": null,
   "id": "pIKR3qDhHvQF",
   "metadata": {
    "id": "pIKR3qDhHvQF"
   },
   "outputs": [],
   "source": [
    "# define two variables\n",
    "var0 = 2\n",
    "var1 = 1\n",
    "\n",
    "if var0 < var1 or var1 < 35 :\n",
    "    print('hey')"
   ]
  },
  {
   "cell_type": "markdown",
   "id": "cjiFfbDaHvQF",
   "metadata": {
    "id": "cjiFfbDaHvQF"
   },
   "source": [
    "## Summary"
   ]
  },
  {
   "cell_type": "markdown",
   "id": "R4qkB4gHHvQF",
   "metadata": {
    "id": "R4qkB4gHHvQF"
   },
   "source": [
    "* **[Booleans](#Booleans)** are typically the result of conditional statements: ```true```(1) or ```false```(0)\n",
    "\n",
    "\n",
    "* **[Logical conditionals](#Logical-Conditionals)** are less than(<), greater than (>), equal to (==), etc.\n",
    "\n",
    "\n",
    "* **[Conditional statements](#Conditional-Statements)** are\n",
    "    * ```if``` statements, which will run code if the contional is true\n",
    "    * ```if-else``` statements, which will run the code if the conditional is true and run a different code if the conditional is false\n",
    "    * ```if-elif-else``` statements, which are a combination of ```if``` and ```if-else``` statements but there is a second conditional added\n",
    "\n",
    "\n",
    "* If you have **[multiple condtionals](#Grouping-Conditionals)** to satisfy, you can group them using\n",
    "    * ```and```, if you need to satisfy *all* of them\n",
    "    * ```or```, if youneed to satisfy *some* of them"
   ]
  },
  {
   "cell_type": "markdown",
   "id": "g99NY3tyHvQF",
   "metadata": {
    "id": "g99NY3tyHvQF"
   },
   "source": [
    "## Exercise"
   ]
  },
  {
   "cell_type": "markdown",
   "id": "QYu-ikDsHvQF",
   "metadata": {
    "id": "QYu-ikDsHvQF"
   },
   "source": [
    "Complete the following exercises."
   ]
  },
  {
   "cell_type": "markdown",
   "id": "1ifryHH3HvQF",
   "metadata": {
    "id": "1ifryHH3HvQF"
   },
   "source": [
    "1. **Create an ```if``` statement** for the following sentence: <ins>if 10 is greater than 2, print \"conditionals are cool\"</ins> .\n",
    "Be sure to create two variables that contain 10 and 2."
   ]
  },
  {
   "cell_type": "code",
   "execution_count": null,
   "id": "IQww5J7THvQF",
   "metadata": {
    "id": "IQww5J7THvQF"
   },
   "outputs": [],
   "source": []
  },
  {
   "cell_type": "markdown",
   "id": "XDVugzjaHvQJ",
   "metadata": {
    "id": "XDVugzjaHvQJ"
   },
   "source": [
    "2. **Create an ```if-else``` statement** for the following sentence: <ins>if 200 is greater than or equal to 1000, print \"i love python\"; if not, then print \"go bills!\"</ins> . Be sure to create your variables."
   ]
  },
  {
   "cell_type": "code",
   "execution_count": null,
   "id": "zWKOwHs_HvQJ",
   "metadata": {
    "id": "zWKOwHs_HvQJ"
   },
   "outputs": [],
   "source": []
  },
  {
   "cell_type": "markdown",
   "id": "H06lhZKOHvQJ",
   "metadata": {
    "id": "H06lhZKOHvQJ"
   },
   "source": [
    "3. **Create an ```if-elif-else``` statement** for the following sentence: <ins>if 1 is less than or equal to 0, print \"it's a good day\"; if not but 1 is less than 2, print \"it's a great day\"; if none work, print \"it's a bad day\"</ins> . Be sure to create your variables."
   ]
  },
  {
   "cell_type": "code",
   "execution_count": null,
   "id": "P-8XM6bcHvQJ",
   "metadata": {
    "id": "P-8XM6bcHvQJ"
   },
   "outputs": [],
   "source": []
  },
  {
   "cell_type": "markdown",
   "id": "Ipj2yXq7HvQJ",
   "metadata": {
    "id": "Ipj2yXq7HvQJ"
   },
   "source": [
    "4. **Alter your code** for one of the first three exercises by adding an **```and```** or an **```or```** . Add a conditional of your choice."
   ]
  },
  {
   "cell_type": "code",
   "execution_count": null,
   "id": "YGLQnTTaHvQJ",
   "metadata": {
    "id": "YGLQnTTaHvQJ"
   },
   "outputs": [],
   "source": []
  },
  {
   "cell_type": "markdown",
   "id": "099d0b23-7a87-4fd7-8357-6cb12b4a0788",
   "metadata": {},
   "source": [
    "### Answers"
   ]
  },
  {
   "cell_type": "markdown",
   "id": "b35811f8-9fa5-45cb-a3d3-7539f37fa79b",
   "metadata": {},
   "source": [
    "1. **Create an ```if``` statement** for the following sentence: <ins>if 10 is greater than 2, print \"conditionals are cool\"</ins> .\n",
    "Be sure to create two variables that contain 10 and 2."
   ]
  },
  {
   "cell_type": "code",
   "execution_count": null,
   "id": "f65b80de-bebf-4b06-a7d8-ad8dc480a935",
   "metadata": {},
   "outputs": [],
   "source": [
    "# answer\n",
    "if 10 > 2:\n",
    "  print(\"conditionals are cool\")"
   ]
  },
  {
   "cell_type": "markdown",
   "id": "eb7f70ba-4662-43fb-a87e-6aa7bea52f3c",
   "metadata": {},
   "source": [
    "2. **Create an ```if-else``` statement** for the following sentence: <ins>if 200 is greater than or equal to 1000, print \"i love python\"; if not, then print \"go bills!\"</ins> . Be sure to create your variables."
   ]
  },
  {
   "cell_type": "code",
   "execution_count": null,
   "id": "09ecd31e-b7f8-4d17-aef4-ccfa5b118c1a",
   "metadata": {},
   "outputs": [],
   "source": [
    "# answer\n",
    "if 200 >= 1000:\n",
    "  print(\"i love python\")\n",
    "else:\n",
    "  print(\"go bills!\")"
   ]
  },
  {
   "cell_type": "markdown",
   "id": "6c8018ef-8e35-45d5-8705-2d2d26121494",
   "metadata": {},
   "source": [
    "3. **Create an ```if-elif-else``` statement** for the following sentence: <ins>if 1 is less than or equal to 0, print \"it's a good day\"; if not but 1 is less than 2, print \"it's a great day\"; if none work, print \"it's a bad day\"</ins> . Be sure to create your variables."
   ]
  },
  {
   "cell_type": "code",
   "execution_count": null,
   "id": "a720648c-9358-40f2-a6bc-1e3918d0f1dd",
   "metadata": {},
   "outputs": [],
   "source": [
    "# answer\n",
    "\n",
    "if 1 <= 0:\n",
    "  print(\"it's a good day\")\n",
    "elif 1 < 2:\n",
    "  print(\"it's a great day\")\n",
    "else:\n",
    "  print(\"it's a bad day\")"
   ]
  },
  {
   "cell_type": "markdown",
   "id": "5d13fa5c-5bdd-47c0-9823-711cb37e4d70",
   "metadata": {},
   "source": [
    "4. **Alter your code** for one of the first three exercises by adding an **```and```** or an **```or```** . Add a conditional of your choice."
   ]
  },
  {
   "cell_type": "code",
   "execution_count": null,
   "id": "7139b16d-9d42-4850-91cc-9b4ef1048469",
   "metadata": {},
   "outputs": [],
   "source": [
    "# answer\n",
    "\n",
    "if 10 > 2 and 10 > 3:\n",
    "  print(\"conditionals are cool\")"
   ]
  },
  {
   "cell_type": "code",
   "execution_count": null,
   "id": "ed3ff4a7-8154-4dba-a2f0-c6d296f80a0b",
   "metadata": {},
   "outputs": [],
   "source": []
  }
 ],
 "metadata": {
  "colab": {
   "include_colab_link": true,
   "provenance": []
  },
  "kernelspec": {
   "display_name": "Python 3 (ipykernel)",
   "language": "python",
   "name": "python3"
  },
  "language_info": {
   "codemirror_mode": {
    "name": "ipython",
    "version": 3
   },
   "file_extension": ".py",
   "mimetype": "text/x-python",
   "name": "python",
   "nbconvert_exporter": "python",
   "pygments_lexer": "ipython3",
   "version": "3.8.15"
  }
 },
 "nbformat": 4,
 "nbformat_minor": 5
}
