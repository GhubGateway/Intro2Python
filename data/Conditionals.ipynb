{
  "cells": [
    {
      "cell_type": "markdown",
      "metadata": {
        "id": "view-in-github",
        "colab_type": "text"
      },
      "source": [
        "<a href=\"https://colab.research.google.com/github/iSwiin/Intro2Python/blob/main/data/Conditionals.ipynb\" target=\"_parent\"><img src=\"https://colab.research.google.com/assets/colab-badge.svg\" alt=\"Open In Colab\"/></a>"
      ]
    },
    {
      "cell_type": "code",
      "source": [],
      "metadata": {
        "id": "9cPBaYIbIEzp"
      },
      "id": "9cPBaYIbIEzp",
      "execution_count": null,
      "outputs": []
    },
    {
      "cell_type": "markdown",
      "metadata": {
        "id": "uv_iNxbiHvP_"
      },
      "source": [
        "# Conditionals"
      ],
      "id": "uv_iNxbiHvP_"
    },
    {
      "cell_type": "markdown",
      "metadata": {
        "id": "i37qxOtyHvQA"
      },
      "source": [
        "<ins>**Conditionals**</ins> play an important role in code. <ins>**_It allows the program to execute decisions based off of conditions_**</ins> we give it. Here, we will learn about different conditional statements and their purposes."
      ],
      "id": "i37qxOtyHvQA"
    },
    {
      "cell_type": "markdown",
      "metadata": {
        "id": "rro7oyekHvQA"
      },
      "source": [
        "<img src= \"https://pbs.twimg.com/media/EDbW0dNXsAAwRlA.jpg\" width = '400'>"
      ],
      "id": "rro7oyekHvQA"
    },
    {
      "cell_type": "markdown",
      "metadata": {
        "id": "0zrl90m6HvQB"
      },
      "source": [
        "By the end of this section, you will learn:\n",
        "* [**about logical conditionals**](#Logical-conditionals)\n",
        "* [**about conditional statements and when to use them**](#Conditional-statements)\n",
        "* [**to group conditionals**](#Grouping-conditionals)"
      ],
      "id": "0zrl90m6HvQB"
    },
    {
      "cell_type": "markdown",
      "metadata": {
        "id": "FHG7l9jDHvQB"
      },
      "source": [
        "## Boolean"
      ],
      "id": "FHG7l9jDHvQB"
    },
    {
      "cell_type": "markdown",
      "metadata": {
        "id": "YpG1KhgkHvQB"
      },
      "source": [
        "**Booleans** are a fundamental data type in programming, which are typically the <ins>**result of conditionals**</ins>, but they can exist on their own. **Booleans** are either **```true``` (1)** or **```false``` (0)**."
      ],
      "id": "YpG1KhgkHvQB"
    },
    {
      "cell_type": "markdown",
      "metadata": {
        "id": "bQQfmk2wHvQB"
      },
      "source": [
        "## Logical conditionals"
      ],
      "id": "bQQfmk2wHvQB"
    },
    {
      "cell_type": "markdown",
      "metadata": {
        "id": "nDJ_KwwAHvQB"
      },
      "source": [
        "Typically called logicals (because their results are fairly logical), **logical conditionals** stem from mathematics. They are the following:\n",
        "\n",
        "|Symbol|Description|\n",
        "|-|-:|\n",
        "|<|less than|  \n",
        "|>|greater than|\n",
        "|==|equal to|\n",
        "|!=|not equal to|\n",
        "|>=|greater than or equal to|\n",
        "|<=|less than or equal to|\n",
        "   \n",
        " We can test this out and see their outputs:"
      ],
      "id": "nDJ_KwwAHvQB"
    },
    {
      "cell_type": "code",
      "execution_count": null,
      "metadata": {
        "scrolled": true,
        "id": "UvsUXfK0HvQB"
      },
      "outputs": [],
      "source": [
        "1 > 2"
      ],
      "id": "UvsUXfK0HvQB"
    },
    {
      "cell_type": "code",
      "execution_count": null,
      "metadata": {
        "id": "twqED-wYHvQC"
      },
      "outputs": [],
      "source": [
        "1 < 2"
      ],
      "id": "twqED-wYHvQC"
    },
    {
      "cell_type": "code",
      "execution_count": null,
      "metadata": {
        "scrolled": true,
        "id": "R8MhQIqYHvQC"
      },
      "outputs": [],
      "source": [
        "1 == 2"
      ],
      "id": "R8MhQIqYHvQC"
    },
    {
      "cell_type": "code",
      "execution_count": null,
      "metadata": {
        "id": "oPFzMxyJHvQC"
      },
      "outputs": [],
      "source": [
        "1 != 2"
      ],
      "id": "oPFzMxyJHvQC"
    },
    {
      "cell_type": "code",
      "execution_count": null,
      "metadata": {
        "id": "CeAjIYr2HvQD"
      },
      "outputs": [],
      "source": [
        "1 >= 2"
      ],
      "id": "CeAjIYr2HvQD"
    },
    {
      "cell_type": "code",
      "execution_count": null,
      "metadata": {
        "id": "bIkPG_a6HvQD"
      },
      "outputs": [],
      "source": [
        "1 <= 2"
      ],
      "id": "bIkPG_a6HvQD"
    },
    {
      "cell_type": "markdown",
      "metadata": {
        "id": "_P-zxtNZHvQD"
      },
      "source": [
        "## Conditional statements"
      ],
      "id": "_P-zxtNZHvQD"
    },
    {
      "cell_type": "markdown",
      "metadata": {
        "id": "aqL64a1wHvQD"
      },
      "source": [
        "### ```if``` Statement"
      ],
      "id": "aqL64a1wHvQD"
    },
    {
      "cell_type": "markdown",
      "metadata": {
        "id": "vPUdgLxqHvQD"
      },
      "source": [
        "When using an **```if```** statement, the <ins>**conditional statement must be valid**</ins> for the code within to run. It follows this basic format:\n",
        "```python\n",
        "if conditional:\n",
        "    \"\"\"do this code\"\"\"\n",
        "```\n",
        "If the conditional is **<ins>True</ins>**, then the program **<ins>will run the code</ins>**. An example is:"
      ],
      "id": "vPUdgLxqHvQD"
    },
    {
      "cell_type": "code",
      "execution_count": null,
      "metadata": {
        "id": "OIjTApZ1HvQD"
      },
      "outputs": [],
      "source": [
        "# define two variables\n",
        "var0 = 2\n",
        "var1 = 1\n",
        "\n",
        "if var0 < var1:\n",
        "    print('hey')"
      ],
      "id": "OIjTApZ1HvQD"
    },
    {
      "cell_type": "markdown",
      "metadata": {
        "id": "Zagl1C0MHvQD"
      },
      "source": [
        "Notice there is no output since the conditional is false."
      ],
      "id": "Zagl1C0MHvQD"
    },
    {
      "cell_type": "markdown",
      "metadata": {
        "id": "DVc20wpUHvQD"
      },
      "source": [
        "### ```if-else``` Statement"
      ],
      "id": "DVc20wpUHvQD"
    },
    {
      "cell_type": "markdown",
      "metadata": {
        "id": "Q3X_DIdCHvQD"
      },
      "source": [
        "Similiar to an **```if```** statement, an **```if-else```** statement will <ins>**run the code after the conditional if the conditional statement is valid**</ins>. If the condition given in the if statement is true, the program takes one path and executes specific code. However, if that condition is not true, it takes a different path, executing a seperate set of code provided within the else block.\n",
        "\n",
        "It's a way for a program to decide between two possible actions based on whether a condition is met or not. It follows this basic format:\n",
        "```python\n",
        "if conditional:\n",
        "    \"\"\"do this code\"\"\"\n",
        "else:\n",
        "    \"\"\"do this other code\"\"\"\n",
        "```\n",
        "\n",
        "An example is:"
      ],
      "id": "Q3X_DIdCHvQD"
    },
    {
      "cell_type": "code",
      "execution_count": null,
      "metadata": {
        "id": "GbzBUMWtHvQD",
        "outputId": "51e58c01-ed7f-407f-9cf9-6bfc45fba9db"
      },
      "outputs": [
        {
          "name": "stdout",
          "output_type": "stream",
          "text": [
            "its off\n"
          ]
        }
      ],
      "source": [
        "# define two variables\n",
        "var0 = 2\n",
        "var1 = 1\n",
        "\n",
        "if var0<=var1:\n",
        "    print('its on')\n",
        "else:\n",
        "    print('its off')"
      ],
      "id": "GbzBUMWtHvQD"
    },
    {
      "cell_type": "markdown",
      "metadata": {
        "id": "tD3t5F5jHvQE"
      },
      "source": [
        "### ```if-elif-else``` Statement"
      ],
      "id": "tD3t5F5jHvQE"
    },
    {
      "cell_type": "markdown",
      "metadata": {
        "id": "yiVgN3CrHvQE"
      },
      "source": [
        "Almost a combination of the previously mentioned statements, the **```if-elif-else```** statement follows this logic:\n",
        "\n",
        "* if the first conditional is valid, do the code after **```if```**\n",
        "\n",
        "\n",
        "* if it is not valid, but the conditional following the **```elif```** is valid, do other code following that\n",
        "\n",
        "\n",
        "* if both condiitonals are not valid, then finally do the code following the **```else```**"
      ],
      "id": "yiVgN3CrHvQE"
    },
    {
      "cell_type": "markdown",
      "metadata": {
        "id": "vL0W6g5OHvQE"
      },
      "source": [
        "It follows this basic format:\n",
        "\n",
        "```python\n",
        "if conditional:\n",
        "    \"\"\"do this code\"\"\"\n",
        "elif conditional:\n",
        "    \"\"\"do this different code\"\"\"\n",
        "else:\n",
        "    \"\"\"do this other code\"\"\"\n",
        "```\n",
        "\n",
        "An example is:"
      ],
      "id": "vL0W6g5OHvQE"
    },
    {
      "cell_type": "code",
      "execution_count": null,
      "metadata": {
        "id": "_gFdEvNMHvQE",
        "outputId": "73dcdee3-2cce-4a6f-a005-fa13189989bc"
      },
      "outputs": [
        {
          "name": "stdout",
          "output_type": "stream",
          "text": [
            "its off\n"
          ]
        }
      ],
      "source": [
        "# define two variables\n",
        "var0 = 2\n",
        "var1 = 1\n",
        "\n",
        "if var0<var1:\n",
        "    print('its on')\n",
        "elif var0 == var1:\n",
        "    print('it is what it is')\n",
        "else:\n",
        "    print('its off')"
      ],
      "id": "_gFdEvNMHvQE"
    },
    {
      "cell_type": "markdown",
      "metadata": {
        "id": "Vz5ivNQTHvQE"
      },
      "source": [
        "## Grouping conditionals"
      ],
      "id": "Vz5ivNQTHvQE"
    },
    {
      "cell_type": "markdown",
      "metadata": {
        "id": "p65FKZebHvQE"
      },
      "source": [
        "### ```and```"
      ],
      "id": "p65FKZebHvQE"
    },
    {
      "cell_type": "markdown",
      "metadata": {
        "id": "5F0Sq7dwHvQE"
      },
      "source": [
        "If you have <ins>**multiple condtionals**</ins>, and want <ins>**all of them met**</ins>, we can group the conditionals using an **```and```** .\n",
        "\n",
        "e.g. ```var0 > 1 and var0 < 35``` will only be ```True``` if ```var0``` is between 1 and 35.\n",
        "\n",
        "Run the code below to see an example:"
      ],
      "id": "5F0Sq7dwHvQE"
    },
    {
      "cell_type": "code",
      "execution_count": null,
      "metadata": {
        "id": "fYyUwtJUHvQE"
      },
      "outputs": [],
      "source": [
        "# define two variables\n",
        "var0 = 2\n",
        "var1 = 1\n",
        "\n",
        "if var0 > var1 and var1 == 1 :\n",
        "    print('hey')"
      ],
      "id": "fYyUwtJUHvQE"
    },
    {
      "cell_type": "markdown",
      "metadata": {
        "id": "4yxk5jqGHvQF"
      },
      "source": [
        "### ```or```"
      ],
      "id": "4yxk5jqGHvQF"
    },
    {
      "cell_type": "markdown",
      "metadata": {
        "id": "l2CrBzF9HvQF"
      },
      "source": [
        "If you have <ins>**multiple conditionals, any of which would satisfy your requirements**</ins>, we can use an **```or```** .\n",
        "\n",
        "e.g. ```var0 > 1 or var1 == 35``` will be ```True``` if var0 is greater than one **OR** if it equals 3. So <ins>**only one conditional needs to be valid**</ins> to make the whole statement valid.\n",
        "\n",
        "Run the code below to see an example:"
      ],
      "id": "l2CrBzF9HvQF"
    },
    {
      "cell_type": "code",
      "execution_count": null,
      "metadata": {
        "id": "pIKR3qDhHvQF"
      },
      "outputs": [],
      "source": [
        "# define two variables\n",
        "var0 = 2\n",
        "var1 = 1\n",
        "\n",
        "if var0 < var1 or var1 < 35 :\n",
        "    print('hey')"
      ],
      "id": "pIKR3qDhHvQF"
    },
    {
      "cell_type": "markdown",
      "metadata": {
        "id": "cjiFfbDaHvQF"
      },
      "source": [
        "## Summary"
      ],
      "id": "cjiFfbDaHvQF"
    },
    {
      "cell_type": "markdown",
      "metadata": {
        "id": "R4qkB4gHHvQF"
      },
      "source": [
        "* **[Booleans](#Booleans)** are typically the result of conditional statements: ```true```(1) or ```false```(0)\n",
        "\n",
        "\n",
        "* **[Logical conditionals](#Logical-Conditionals)** are less than(<), greater than (>), equal to (==), etc.\n",
        "\n",
        "\n",
        "* **[Conditional statements](#Conditional-Statements)** are\n",
        "    * ```if``` statements, which will run code if the contional is true\n",
        "    * ```if-else``` statements, which will run the code if the conditional is true and run a different code if the conditional is false\n",
        "    * ```if-elif-else``` statements, which are a combination of ```if``` and ```if-else``` statements but there is a second conditional added\n",
        "\n",
        "\n",
        "* If you have **[multiple condtionals](#Grouping-Conditionals)** to satisfy, you can group them using\n",
        "    * ```and```, if you need to satisfy *all* of them\n",
        "    * ```or```, if youneed to satisfy *some* of them"
      ],
      "id": "R4qkB4gHHvQF"
    },
    {
      "cell_type": "markdown",
      "metadata": {
        "id": "g99NY3tyHvQF"
      },
      "source": [
        "## Exercise"
      ],
      "id": "g99NY3tyHvQF"
    },
    {
      "cell_type": "markdown",
      "metadata": {
        "id": "QYu-ikDsHvQF"
      },
      "source": [
        "Complete the following exercises."
      ],
      "id": "QYu-ikDsHvQF"
    },
    {
      "cell_type": "markdown",
      "metadata": {
        "id": "1ifryHH3HvQF"
      },
      "source": [
        "1. **Create an ```if``` statement** for the following sentence: <ins>if 10 is greater than 2, print \"conditionals are cool\"</ins> .\n",
        "Be sure to create two variables that contain 10 and 2."
      ],
      "id": "1ifryHH3HvQF"
    },
    {
      "cell_type": "code",
      "execution_count": null,
      "metadata": {
        "id": "IQww5J7THvQF"
      },
      "outputs": [],
      "source": [
        "# insert code here"
      ],
      "id": "IQww5J7THvQF"
    },
    {
      "cell_type": "markdown",
      "metadata": {
        "id": "XDVugzjaHvQJ"
      },
      "source": [
        "2. **Create an ```if-else``` statement** for the following sentence: <ins>if 200 is greater than or equal to 1000, print \"i love python\"; if not, then print \"go bills!\"</ins> . Be sure to create your variables."
      ],
      "id": "XDVugzjaHvQJ"
    },
    {
      "cell_type": "code",
      "execution_count": null,
      "metadata": {
        "id": "zWKOwHs_HvQJ"
      },
      "outputs": [],
      "source": [
        "# insert code here"
      ],
      "id": "zWKOwHs_HvQJ"
    },
    {
      "cell_type": "markdown",
      "metadata": {
        "id": "H06lhZKOHvQJ"
      },
      "source": [
        "3. **Create an ```if-elif-else``` statement** for the following sentence: <ins>if 1 is less than or equal to 0, print \"it's a good day\"; if not but 1 is less than 2, print \"it's a great day\"; if none work, print \"it's a bad day\"</ins> . Be sure to create your variables."
      ],
      "id": "H06lhZKOHvQJ"
    },
    {
      "cell_type": "code",
      "execution_count": null,
      "metadata": {
        "id": "P-8XM6bcHvQJ"
      },
      "outputs": [],
      "source": [
        "# insert code here"
      ],
      "id": "P-8XM6bcHvQJ"
    },
    {
      "cell_type": "markdown",
      "metadata": {
        "id": "Ipj2yXq7HvQJ"
      },
      "source": [
        "4. **Alter your code** for one of the first three exercises by adding an **```and```** or an **```or```** . Add a conditional of your choice."
      ],
      "id": "Ipj2yXq7HvQJ"
    },
    {
      "cell_type": "code",
      "execution_count": null,
      "metadata": {
        "id": "YGLQnTTaHvQJ"
      },
      "outputs": [],
      "source": [
        "# insert code here"
      ],
      "id": "YGLQnTTaHvQJ"
    }
  ],
  "metadata": {
    "kernelspec": {
      "display_name": "Python 3 (ipykernel)",
      "language": "python",
      "name": "python3"
    },
    "language_info": {
      "codemirror_mode": {
        "name": "ipython",
        "version": 3
      },
      "file_extension": ".py",
      "mimetype": "text/x-python",
      "name": "python",
      "nbconvert_exporter": "python",
      "pygments_lexer": "ipython3",
      "version": "3.8.10"
    },
    "colab": {
      "provenance": [],
      "include_colab_link": true
    }
  },
  "nbformat": 4,
  "nbformat_minor": 5
}