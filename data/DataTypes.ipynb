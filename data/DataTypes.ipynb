{
 "cells": [
  {
   "cell_type": "markdown",
   "id": "jfmSxwo1bDn6",
   "metadata": {
    "id": "jfmSxwo1bDn6"
   },
   "source": [
    "# Data Types"
   ]
  },
  {
   "cell_type": "markdown",
   "id": "SkTHrqRubDn7",
   "metadata": {
    "id": "SkTHrqRubDn7"
   },
   "source": [
    "When building code, we'll need \"**_containers_**\" that will store our\n",
    "\n",
    "1.   List item\n",
    "2.   List item\n",
    "\n",
    "information. These containers are known as <ins>**variables and data structures**</ins>. Each data type has its own purpose, as we'll see below"
   ]
  },
  {
   "cell_type": "markdown",
   "id": "aiVOU85JbDn8",
   "metadata": {
    "id": "aiVOU85JbDn8"
   },
   "source": [
    "<img src = \"https://img.devrant.com/devrant/rant/r_1475844_Qk9zT.jpg\" width=\"400\">"
   ]
  },
  {
   "cell_type": "markdown",
   "id": "GKiko5DibDn8",
   "metadata": {
    "id": "GKiko5DibDn8"
   },
   "source": [
    "By the end, you will:\n",
    "* be introduced to **different variables**: **[integers](#Integers), [floats](#Floats), [strings](#Strings)**\n",
    "* be introduced to **different data structures**: **[lists](#Lists), [arrays](#Arrays)**\n",
    "* know the **difference between the data types**"
   ]
  },
  {
   "cell_type": "markdown",
   "id": "rmKXE7aQbDn8",
   "metadata": {
    "id": "rmKXE7aQbDn8"
   },
   "source": [
    "## Variables"
   ]
  },
  {
   "cell_type": "markdown",
   "id": "cEHJgZHpbDn8",
   "metadata": {
    "id": "cEHJgZHpbDn8"
   },
   "source": [
    "**Variables** are <ins>**_where_**</ins> we store data in code. It helps <ins>**keep our code organized**</ins> and <ins>**reduce mistakes**</ins>. Unlike other languages (e.g. JavaScript), we **do not need to explicitly declare variables** in Python. They are dynamically typed and automatically initialized as soon as a value is assigned to them. Here, we'll see these different variable types :\n",
    "* [integers](#Integers)\n",
    "* [floats](#Floats)\n",
    "* [strings](#Strings)"
   ]
  },
  {
   "cell_type": "markdown",
   "id": "9fB_THaybDn8",
   "metadata": {
    "id": "9fB_THaybDn8"
   },
   "source": [
    "### Integers"
   ]
  },
  {
   "cell_type": "markdown",
   "id": "Ar4PMQlZbDn8",
   "metadata": {
    "id": "Ar4PMQlZbDn8"
   },
   "source": [
    "**Integers** are exactly what they sounds like: they store <ins>**_only integral values_**</ins> (i.e., whole numbers). An example is ```1``` or ```100```.\n",
    "\n",
    "Here is a demo of adding two integers:"
   ]
  },
  {
   "cell_type": "code",
   "execution_count": null,
   "id": "1a-LX9JrbDn9",
   "metadata": {
    "id": "1a-LX9JrbDn9",
    "outputId": "54d8431f-0c71-4037-e00d-8f1f289cb030"
   },
   "outputs": [
    {
     "name": "stdout",
     "output_type": "stream",
     "text": [
      "6\n"
     ]
    }
   ],
   "source": [
    "a = 2\n",
    "b = 4\n",
    "c = a + b\n",
    "print(c)"
   ]
  },
  {
   "cell_type": "markdown",
   "id": "9qE1XTotbDn9",
   "metadata": {
    "id": "9qE1XTotbDn9"
   },
   "source": [
    "### Floats"
   ]
  },
  {
   "cell_type": "markdown",
   "id": "Yk7gHA9UbDn-",
   "metadata": {
    "id": "Yk7gHA9UbDn-"
   },
   "source": [
    "Though similiar to integers, **floats** are slightly different: they store values that have potential <ins>**_decimal points_**</ins>. An example is ```1.0``` or ```100.00```.\n",
    "\n",
    "Here is a demo of adding two floats:"
   ]
  },
  {
   "cell_type": "code",
   "execution_count": null,
   "id": "7LJTS_1TbDn-",
   "metadata": {
    "id": "7LJTS_1TbDn-",
    "outputId": "d6fabfee-df62-4b28-9f24-038ad99c1f9d"
   },
   "outputs": [
    {
     "name": "stdout",
     "output_type": "stream",
     "text": [
      "6.0\n"
     ]
    }
   ],
   "source": [
    "a = 2.0\n",
    "b = 4.0\n",
    "c = a + b\n",
    "print(c)"
   ]
  },
  {
   "cell_type": "markdown",
   "id": "Nvb9NiMybDn-",
   "metadata": {
    "id": "Nvb9NiMybDn-"
   },
   "source": [
    "### Strings"
   ]
  },
  {
   "cell_type": "markdown",
   "id": "DOQ--_-ibDn-",
   "metadata": {
    "id": "DOQ--_-ibDn-"
   },
   "source": [
    "**Strings** are <ins>**_groups of characters_**</ins> that is defined by quotation marks **```''```** **```\"\"```**. Although they can be manipulated using math functions (addition, multiplication), **strings** are not treated as numbers. An example is:"
   ]
  },
  {
   "cell_type": "code",
   "execution_count": null,
   "id": "-BWwTmChbDn-",
   "metadata": {
    "id": "-BWwTmChbDn-",
    "outputId": "f9e07e94-e5f2-433b-a8cd-99c2ae8125e1"
   },
   "outputs": [
    {
     "name": "stdout",
     "output_type": "stream",
     "text": [
      "Liza, Hayley, Katie\n"
     ]
    }
   ],
   "source": [
    "names = 'Liza, Hayley, Katie'\n",
    "print(names)"
   ]
  },
  {
   "cell_type": "markdown",
   "id": "PuC-RxX_bDn-",
   "metadata": {
    "id": "PuC-RxX_bDn-"
   },
   "source": [
    "## Data Structures"
   ]
  },
  {
   "cell_type": "markdown",
   "id": "TNjECPfhbDn-",
   "metadata": {
    "id": "TNjECPfhbDn-"
   },
   "source": [
    "### Lists"
   ]
  },
  {
   "cell_type": "markdown",
   "id": "TSiI2assbDn-",
   "metadata": {
    "id": "TSiI2assbDn-"
   },
   "source": [
    "**Lists** are defined by square brackets **```[]```**, are one-dimensional (**1D**), and can store <ins>**_various data types (e.g., numbers, words)_**</ins>."
   ]
  },
  {
   "cell_type": "code",
   "execution_count": null,
   "id": "uj61azJAbDn-",
   "metadata": {
    "id": "uj61azJAbDn-",
    "outputId": "cafd5f62-aec6-46be-d9b2-37e79503c448"
   },
   "outputs": [
    {
     "name": "stdout",
     "output_type": "stream",
     "text": [
      "['hello', 123, 'bye', 456]\n"
     ]
    }
   ],
   "source": [
    "mylist = ['hello', 123, 'bye', 456 ]\n",
    "print(mylist)"
   ]
  },
  {
   "cell_type": "markdown",
   "id": "m-Y6oozdbDn_",
   "metadata": {
    "id": "m-Y6oozdbDn_"
   },
   "source": [
    "### Arrays"
   ]
  },
  {
   "cell_type": "markdown",
   "id": "_z7N32h6bDn_",
   "metadata": {
    "id": "_z7N32h6bDn_"
   },
   "source": [
    "**Arrays** are also defined by square brackets **```[]```**, but they can <ins>**_only store one data type_**</ins>. They can be *multidimensional*, but we'll see that [later on](MultiDarrays.ipynb). For now, we will create one-dimensional arrays.\n",
    "\n",
    "**Arrays** are defined by through [NumPy](Introduction2Functions.ipynb), which is a numerical library widely used in Python. To make an array, you must first <ins>**_import NumPy_**</ins> and then <ins>**_use the ```array()``` function_**</ins>."
   ]
  },
  {
   "cell_type": "code",
   "execution_count": null,
   "id": "_QhIr91UbDn_",
   "metadata": {
    "id": "_QhIr91UbDn_",
    "outputId": "74ad6572-00be-4638-de81-129ba673db9b"
   },
   "outputs": [
    {
     "name": "stdout",
     "output_type": "stream",
     "text": [
      "[1 2 3 4 5]\n"
     ]
    }
   ],
   "source": [
    "import numpy as np # you can import NumPy as a shorter name (ex: np)\n",
    "\n",
    "numbers = np.array([1, 2, 3, 4, 5])\n",
    "print(numbers)"
   ]
  },
  {
   "cell_type": "markdown",
   "id": "IbVSFZikKeKv",
   "metadata": {
    "id": "IbVSFZikKeKv"
   },
   "source": [
    "### Dictionaries"
   ]
  },
  {
   "cell_type": "markdown",
   "id": "h9KwLUGUKeKw",
   "metadata": {
    "id": "h9KwLUGUKeKw"
   },
   "source": [
    "**Dictionaries** are unordered collections of data stored in key-value pairs. They are defined using curly brackets **```{}```**, and consist of comma seperated key-value pairs, where keys and values are seperated by a colon. Values in a dictionary can be of <ins>**_any data type_**</ins>, while keys are typically immutable data types like strings or integers.\n"
   ]
  },
  {
   "cell_type": "code",
   "execution_count": null,
   "id": "M1eN-5vLKeKy",
   "metadata": {
    "colab": {
     "base_uri": "https://localhost:8080/"
    },
    "id": "M1eN-5vLKeKy",
    "outputId": "fd350d8c-0204-479a-b957-07fa6687b359"
   },
   "outputs": [
    {
     "name": "stdout",
     "output_type": "stream",
     "text": [
      "{'name': 'Alice', 'age': 20, 'city': 'New York'}\n"
     ]
    }
   ],
   "source": [
    "# Creating the dictionary\n",
    "\n",
    "my_dict = {\n",
    "    \"name\": \"Alice\",\n",
    "    \"age\": 20,\n",
    "    \"city\": \"New York\"\n",
    "}\n",
    "print(my_dict)"
   ]
  },
  {
   "cell_type": "markdown",
   "id": "ANV3C6hDbDn_",
   "metadata": {
    "id": "ANV3C6hDbDn_"
   },
   "source": [
    "### Manipulating lists and arrays"
   ]
  },
  {
   "cell_type": "markdown",
   "id": "k7HI3sAGIQ-A",
   "metadata": {
    "id": "k7HI3sAGIQ-A"
   },
   "source": [
    "### Arrays"
   ]
  },
  {
   "cell_type": "markdown",
   "id": "XRkNSxTsIQ-B",
   "metadata": {
    "id": "XRkNSxTsIQ-B"
   },
   "source": [
    "**Arrays** are also defined by square brackets **```[]```**, but they can <ins>**_only store one data type_**</ins>. They can be *multidimensional*, but we'll see that [later on](MultiDarrays.ipynb). For now, we will create one-dimensional arrays.\n",
    "\n",
    "**Arrays** are defined by through [NumPy](Introduction2Functions.ipynb), which is a numerical library widely used in Python. To make an array, you must first <ins>**_import NumPy_**</ins> and then <ins>**_use the ```array()``` function_**</ins>."
   ]
  },
  {
   "cell_type": "code",
   "execution_count": null,
   "id": "i70F_DM2bDn_",
   "metadata": {
    "id": "i70F_DM2bDn_",
    "outputId": "69c63d3f-d87b-470d-fd5e-1de9467f4640"
   },
   "outputs": [
    {
     "name": "stdout",
     "output_type": "stream",
     "text": [
      "['hello', 123, 'bye', 456, 'ciao', 789, 'ciao', 10]\n"
     ]
    }
   ],
   "source": [
    "# here we create two lists\n",
    "mylist = ['hello', 123, 'bye', 456 ]\n",
    "yourlist = ['ciao', 789, 'ciao', 10 ]\n",
    "\n",
    "# now we add both lists and print the result\n",
    "ourlist = mylist + yourlist\n",
    "print(ourlist)"
   ]
  },
  {
   "cell_type": "code",
   "execution_count": null,
   "id": "naWMkd43bDn_",
   "metadata": {
    "id": "naWMkd43bDn_",
    "outputId": "64f8b5d8-3741-4b0b-f754-2e1413995b9e",
    "scrolled": true
   },
   "outputs": [
    {
     "name": "stdout",
     "output_type": "stream",
     "text": [
      "[ 26 100  99 392]\n"
     ]
    }
   ],
   "source": [
    "# first we have to import numPy to create an array\n",
    "import numpy as np\n",
    "\n",
    "# now we create two arrays\n",
    "price = np.array([13, 20, 33, 56])\n",
    "amount = np.array([2, 5, 3, 7])\n",
    "\n",
    "# then we can multiply them and print the result\n",
    "total = price * amount\n",
    "print(total)"
   ]
  },
  {
   "cell_type": "markdown",
   "id": "1NxsWqG1bDn_",
   "metadata": {
    "id": "1NxsWqG1bDn_"
   },
   "source": [
    "Notice that the it does not return **_one total_**. It will return an **array of the same size of the previous arrays**. <ins>**_To manipulate arrays with mathematical expressions, they must be of the same size._**</ins> Lists can be any size to be manipulated."
   ]
  },
  {
   "cell_type": "markdown",
   "id": "neK18sOibDn_",
   "metadata": {
    "id": "neK18sOibDn_"
   },
   "source": [
    "## Summary"
   ]
  },
  {
   "cell_type": "markdown",
   "id": "6EaQWM3ebDn_",
   "metadata": {
    "id": "6EaQWM3ebDn_"
   },
   "source": [
    "* Three **[variables](#Variables)** reviewed here are:\n",
    "\n",
    "    * **integers**, which store **<ins>whole numbers</ins>**\n",
    "    \n",
    "    * **floats**, which store values with **<ins>decimals</ins>**\n",
    "    \n",
    "    * **strings**, which store **<ins>groups of characters</ins>**\n",
    "\n",
    "\n",
    "\n",
    "\n",
    "\n",
    "\n",
    "* Two **[data structures](#Data-Structures)** reviewed here are:\n",
    "\n",
    "    * **lists**, which store **<ins>various data types</ins>**\n",
    "    \n",
    "    * **arrays**, which store **<ins>one data type</ins>** and are defined using numPy"
   ]
  },
  {
   "cell_type": "markdown",
   "id": "s1Y7bobTbDn_",
   "metadata": {
    "id": "s1Y7bobTbDn_"
   },
   "source": [
    "## Exercises"
   ]
  },
  {
   "cell_type": "markdown",
   "id": "lITrOv5pbDn_",
   "metadata": {
    "id": "lITrOv5pbDn_"
   },
   "source": [
    "1. Define **_three variables_**: **```cost```** which stores a <ins>monthly payment</ins>, **```time```** which stores the <ins>total time in months</ins> that the payment needs to be made, and **```msrp```** which stores the <ins>manufacturer's suggested retail price</ins>. **Find the product** of both **```cost```** and **```time```** then **find the difference** between **```msrp```** and the **product**. Print out the product and difference."
   ]
  },
  {
   "cell_type": "code",
   "execution_count": null,
   "id": "2PFlKadkjLIc",
   "metadata": {
    "id": "2PFlKadkjLIc"
   },
   "outputs": [],
   "source": []
  },
  {
   "cell_type": "markdown",
   "id": "U0KVnnaPbDn_",
   "metadata": {
    "id": "U0KVnnaPbDn_"
   },
   "source": [
    "2. **Make two lists** named **```fruit```** and **```other```** which contain <ins>items from the grocery store</ins>. **Add both** lists together and call it **```final_list```**. Print **```final_list```**."
   ]
  },
  {
   "cell_type": "code",
   "execution_count": null,
   "id": "XOqNxlnpbDoA",
   "metadata": {
    "id": "XOqNxlnpbDoA"
   },
   "outputs": [],
   "source": []
  },
  {
   "cell_type": "markdown",
   "id": "X06Z_WvTbDoA",
   "metadata": {
    "id": "X06Z_WvTbDoA"
   },
   "source": [
    "3. **Import [NumPy](#Arrays) and create two arrays.** Name them **```a```** and **```b```**. **Find the product** of both and **divide it by 2**. Store this new array in a variable **```c```**. Print **```c```**."
   ]
  },
  {
   "cell_type": "code",
   "execution_count": null,
   "id": "GNMD8tiwbDoA",
   "metadata": {
    "id": "GNMD8tiwbDoA"
   },
   "outputs": [],
   "source": []
  },
  {
   "cell_type": "markdown",
   "id": "5cd65636-d0ad-4050-bc51-24c9807dc3f5",
   "metadata": {},
   "source": [
    "### Answers"
   ]
  },
  {
   "cell_type": "markdown",
   "id": "150aa4b1-4407-431f-8ea4-15986c093198",
   "metadata": {},
   "source": [
    "1. Define **_three variables_**: **```cost```** which stores a <ins>monthly payment</ins>, **```time```** which stores the <ins>total time in months</ins> that the payment needs to be made, and **```msrp```** which stores the <ins>manufacturer's suggested retail price</ins>. **Find the product** of both **```cost```** and **```time```** then **find the difference** between **```msrp```** and the **product**. Print out the product and difference."
   ]
  },
  {
   "cell_type": "code",
   "execution_count": 1,
   "id": "2c2c6885-5195-411a-902a-0e20907d9fe5",
   "metadata": {},
   "outputs": [
    {
     "name": "stdout",
     "output_type": "stream",
     "text": [
      "-4880\n"
     ]
    }
   ],
   "source": [
    "# answer\n",
    "\n",
    "cost = 415 # unit: USD\n",
    "time = 72 # unit: months\n",
    "msrp = 25000 # unit: USD\n",
    "\n",
    "product = cost*time\n",
    "difference = msrp - product\n",
    "print(difference)"
   ]
  },
  {
   "cell_type": "markdown",
   "id": "8438dedd-a9f2-4ada-ae3e-4740b56a9862",
   "metadata": {},
   "source": [
    "2. **Make two lists** named **```fruit```** and **```other```** which contain <ins>items from the grocery store</ins>. **Add both** lists together and call it **```final_list```**. Print **```final_list```**."
   ]
  },
  {
   "cell_type": "code",
   "execution_count": 2,
   "id": "a6e913bd-b57d-4d4c-bfea-0428eaf90dde",
   "metadata": {},
   "outputs": [
    {
     "name": "stdout",
     "output_type": "stream",
     "text": [
      "['apple', 'banana', 'orange', 'bread', 'milk', 'eggs']\n"
     ]
    }
   ],
   "source": [
    "# answer\n",
    "\n",
    "fruit = [\"apple\", \"banana\", \"orange\"]\n",
    "other = [\"bread\", \"milk\", \"eggs\"]\n",
    "\n",
    "final_list = fruit + other\n",
    "\n",
    "print(final_list)"
   ]
  },
  {
   "cell_type": "markdown",
   "id": "347a488a-c6f1-49aa-9066-bd904155ee5a",
   "metadata": {},
   "source": [
    "3. **Import [NumPy](#Arrays) and create two arrays.** Name them **```a```** and **```b```**. **Find the product** of both and **divide it by 2**. Store this new array in a variable **```c```**. Print **```c```**."
   ]
  },
  {
   "cell_type": "code",
   "execution_count": 3,
   "id": "565f4f1a-ae26-43dc-8d64-5a2d10a5bbd5",
   "metadata": {},
   "outputs": [
    {
     "name": "stdout",
     "output_type": "stream",
     "text": [
      "[ 2.5  6.  10.5 16. ]\n"
     ]
    }
   ],
   "source": [
    "# answer\n",
    "\n",
    "import numpy as np\n",
    "\n",
    "a = np.array([1, 2, 3, 4])\n",
    "b = np.array([5, 6, 7, 8])\n",
    "\n",
    "# then we can multiply them and print the result\n",
    "product = (a * b) / 2\n",
    "print(product)"
   ]
  }
 ],
 "metadata": {
  "colab": {
   "include_colab_link": true,
   "provenance": []
  },
  "kernelspec": {
   "display_name": "Python 3 (ipykernel)",
   "language": "python",
   "name": "python3"
  },
  "language_info": {
   "codemirror_mode": {
    "name": "ipython",
    "version": 3
   },
   "file_extension": ".py",
   "mimetype": "text/x-python",
   "name": "python",
   "nbconvert_exporter": "python",
   "pygments_lexer": "ipython3",
   "version": "3.8.15"
  }
 },
 "nbformat": 4,
 "nbformat_minor": 5
}
