{
 "cells": [
  {
   "cell_type": "markdown",
   "id": "5hRiILC2AgTf",
   "metadata": {
    "id": "5hRiILC2AgTf"
   },
   "source": [
    "# Introduction to Functions"
   ]
  },
  {
   "cell_type": "markdown",
   "id": "bPcwHZysAgTh",
   "metadata": {
    "id": "bPcwHZysAgTh"
   },
   "source": [
    "**Functions** are very helpful in code. You can <ins>**avoid typing the same formula over and over again, apply them to multiple datasets, and minimize errors**</ins>. Since there is a lot to go over, we are splitting this section into two separate notebooks: **[an introduction](Introduction2Functions.ipynb)** and **[creating your own functions](CreatingFunctions.ipynb)**."
   ]
  },
  {
   "cell_type": "markdown",
   "id": "Sw4xSmt_AgTh",
   "metadata": {
    "id": "Sw4xSmt_AgTh"
   },
   "source": [
    "<img src=\"https://inventyourshit.com/wp-content/uploads/2020/11/4lirk9.jpg\" width = '400'>"
   ]
  },
  {
   "cell_type": "markdown",
   "id": "5yGM9d1mAgTh",
   "metadata": {
    "id": "5yGM9d1mAgTh"
   },
   "source": [
    "By the end of this section, you will learn:\n",
    "* [**to call functions**](#How-to-call-functions)\n",
    "* [**built-in Python functions**](#Built-in-Python-functions)\n",
    "* [**NumPy functions**](#NumPy-functions)"
   ]
  },
  {
   "cell_type": "markdown",
   "id": "B8LUFB7YAgTh",
   "metadata": {
    "id": "B8LUFB7YAgTh"
   },
   "source": [
    "## How to call functions"
   ]
  },
  {
   "cell_type": "markdown",
   "id": "iBUzmrTLAgTi",
   "metadata": {
    "id": "iBUzmrTLAgTi"
   },
   "source": [
    "Before we dive into some of the functions within Python and NumPy, we're going to learn how to **call them**. To **call a function**, you can follow this basic format\n",
    "\n",
    "```python\n",
    "newvar = function(args, kwargs=kwargs)\n",
    "```\n",
    "\n",
    "where\n",
    "\n",
    "**```newvar```** is the **<ins>new variable</ins>** that will be assigned with the **<ins>results of the function</ins>**\n",
    "\n",
    "**```args```** is the **<ins>arguments (aka data entered)</ins>**\n",
    "\n",
    "**```kwargs```** is the **<ins>keyword arguments</ins>** (which are not necessary)\n",
    "\n",
    "An example is:"
   ]
  },
  {
   "cell_type": "code",
   "execution_count": null,
   "id": "72De6ZHjAgTi",
   "metadata": {
    "id": "72De6ZHjAgTi",
    "outputId": "d2348b2c-dd0d-43a6-c175-7c947250f182"
   },
   "outputs": [],
   "source": [
    "import numpy as np\n",
    "\n",
    "# use the array() function from numPy to create an array\n",
    "mydata = np.array([2, 4, 6, 8])\n",
    "\n",
    "# using the min() function from numPy to find the minimum value of the data list in 'mydata'\n",
    "min_mydata = np.min(mydata)\n",
    "print(min_mydata)"
   ]
  },
  {
   "cell_type": "markdown",
   "id": "pVpBnFWZAgTj",
   "metadata": {
    "id": "pVpBnFWZAgTj"
   },
   "source": [
    "## Built-in Python functions"
   ]
  },
  {
   "cell_type": "markdown",
   "id": "yqP6o8xoAgTj",
   "metadata": {
    "id": "yqP6o8xoAgTj"
   },
   "source": [
    "Within Python there are some built-in functions (meaning you <ins>**_do not need to import_**</ins> any library packages). Some examples include:\n",
    "\n",
    "|Function|Description|Arguments|\n",
    "|-|-|-:|\n",
    "|```help()```|start the help system|```help(function name)```|\n",
    "|```open()```|open a file|```open(filename.txt)```|\n",
    "|```print()```|return a value|```print(value desired)```|\n",
    "\n",
    "You can learn more about built-in Python functions [here](https://docs.python.org/3/library/functions.html)."
   ]
  },
  {
   "cell_type": "markdown",
   "id": "siWDN4ztAgTj",
   "metadata": {
    "id": "siWDN4ztAgTj"
   },
   "source": [
    "## NumPy functions"
   ]
  },
  {
   "cell_type": "markdown",
   "id": "AzfOvHgnAgTj",
   "metadata": {
    "id": "AzfOvHgnAgTj"
   },
   "source": [
    "[NumPy](https://numpy.org/doc/stable/user/absolute_beginners.html) (aka numerical Python) is an <ins>*open source library*</ins> that is <ins>**used to work with numerical data**</ins>, <ins>**perform a large selection of mathematical operations on arrays**</ins>, and more.\n",
    "\n",
    "\n",
    "If you have Python already downloaded, you can install **NumPy** with the following command in your terminal:\n",
    "\n",
    "**```conda install numpy```**\n",
    "\n",
    "or\n",
    "\n",
    "**```pip install numpy```**\n"
   ]
  },
  {
   "cell_type": "markdown",
   "id": "Z8C5IJREAgTk",
   "metadata": {
    "id": "Z8C5IJREAgTk"
   },
   "source": [
    "To use functions from **NumPy**, you must type the following:\n",
    "\n",
    "```python\n",
    "import numpy\n",
    "```\n",
    "\n",
    "It is suggested to <ins>**abbreviate NumPy**</ins>, such as:\n",
    "\n",
    "```python\n",
    "import numpy as np\n",
    "```\n",
    "\n",
    "There are lots of [functions](https://numpy.org/doc/stable/reference/) within **NumPy**, but here are some commonly used ones:\n",
    "\n",
    "|Function|Description|Arguments|\n",
    "|-|-|-|\n",
    "|```array()```|creates an array|```array([numbers])```|\n",
    "|```arange()```|creates evenly spaced values within a given interval|```arange([startvalue,stopvalue,spacing])```|\n",
    "|```linspace()```|creates evenly spaced numbers over specified interval|```linspace(startvalue,stopvalue,numberofvalues])```|"
   ]
  },
  {
   "cell_type": "code",
   "execution_count": null,
   "id": "dM06Kz7gAgTk",
   "metadata": {
    "id": "dM06Kz7gAgTk",
    "outputId": "a1387f58-3224-4945-a3d6-85136f531301"
   },
   "outputs": [],
   "source": [
    "# Finding the sine of 30 using NumPy\n",
    "# First we import NumPy\n",
    "import numpy as np\n",
    "\n",
    "# For trig functions in NumPy, the angle is in radians\n",
    "# We need numPy to use pi\n",
    "x = np.sin(np.pi/2)\n",
    "print(x)"
   ]
  },
  {
   "cell_type": "markdown",
   "id": "bbv9ONnvAgTk",
   "metadata": {
    "id": "bbv9ONnvAgTk"
   },
   "source": [
    "An example of using a **NumPy** function on arrays is:"
   ]
  },
  {
   "cell_type": "code",
   "execution_count": null,
   "id": "swTzWcmcAgTk",
   "metadata": {
    "id": "swTzWcmcAgTk",
    "outputId": "f62ab9c5-6186-4f7f-ab74-d4d449ca9bbb"
   },
   "outputs": [],
   "source": [
    "# Add the elements of an array using NumPy\n",
    "import numpy as np\n",
    "\n",
    "# My array\n",
    "a = np.array([2, 4, 6, 8])\n",
    "\n",
    "# Now add up all elements\n",
    "sum_a = np.sum(a)\n",
    "print(sum_a)"
   ]
  },
  {
   "cell_type": "markdown",
   "id": "Re6cEfeuAgTk",
   "metadata": {
    "id": "Re6cEfeuAgTk"
   },
   "source": [
    "We can also use **NumPy** functions to find the max of an array:"
   ]
  },
  {
   "cell_type": "code",
   "execution_count": null,
   "id": "yqJHGyt5AgTk",
   "metadata": {
    "id": "yqJHGyt5AgTk",
    "outputId": "1031fd78-a944-4e70-b8f0-430e9b89916f"
   },
   "outputs": [],
   "source": [
    "# Finding max of my array\n",
    "import numpy as np\n",
    "\n",
    "# My array\n",
    "a = np.array([2, 4, 6, 8])\n",
    "\n",
    "# Now add up all elements\n",
    "max_a = np.max(a)\n",
    "print(max_a)"
   ]
  },
  {
   "cell_type": "markdown",
   "id": "aw32yb1GAgTl",
   "metadata": {
    "id": "aw32yb1GAgTl"
   },
   "source": [
    "## Summary"
   ]
  },
  {
   "cell_type": "markdown",
   "id": "8lxD7FnJAgTl",
   "metadata": {
    "id": "8lxD7FnJAgTl"
   },
   "source": [
    "* To **[call a function](#How-to-call-functions)** (aka apply a function), **create a new variable** to store results and input arguments within parentheses of function\n",
    "\n",
    "\n",
    "\n",
    "* To look up the **[arguments of a function](#Built-in-Python-functions)**, you can use the built-in Python **```help()```** function\n",
    "\n",
    "\n",
    "\n",
    "* **[NumPy](#NumPy-functions)** is a **numerical Python library** which allows you to create arrays, use complicated math equations, etc."
   ]
  },
  {
   "cell_type": "markdown",
   "id": "OmAJjDJKAgTl",
   "metadata": {
    "id": "OmAJjDJKAgTl"
   },
   "source": [
    "## Exercises"
   ]
  },
  {
   "cell_type": "markdown",
   "id": "FaZEr9XsAgTl",
   "metadata": {
    "id": "FaZEr9XsAgTl"
   },
   "source": [
    "1. Using the **```help()``` function**, find what the following NumPy functions do:\n",
    "\n",
    "    ```std()```\n",
    "\n",
    "    ```shape()```\n",
    "\n",
    "    ```sort()```"
   ]
  },
  {
   "cell_type": "code",
   "execution_count": null,
   "id": "49KnyhAMAgTl",
   "metadata": {
    "id": "49KnyhAMAgTl",
    "scrolled": true
   },
   "outputs": [],
   "source": [
    "\n"
   ]
  },
  {
   "cell_type": "markdown",
   "id": "iC9rQD85AgTl",
   "metadata": {
    "id": "iC9rQD85AgTl"
   },
   "source": [
    "2. Use the **```degrees()``` function** from **NumPy** to convert **```pi/6```** to degrees. (<ins>*Hint: you can use the ```help()``` function to look up the input arguments*</ins>)"
   ]
  },
  {
   "cell_type": "code",
   "execution_count": null,
   "id": "5SWxexYgAgTl",
   "metadata": {
    "id": "5SWxexYgAgTl"
   },
   "outputs": [],
   "source": []
  },
  {
   "cell_type": "markdown",
   "id": "f6-ye-A_AgTl",
   "metadata": {
    "id": "f6-ye-A_AgTl"
   },
   "source": [
    "3. **Create two arrays** and **find the product** of them using the NumPy function **```multiply()```**."
   ]
  },
  {
   "cell_type": "code",
   "execution_count": null,
   "id": "m6xio_7MAgTl",
   "metadata": {
    "id": "m6xio_7MAgTl"
   },
   "outputs": [],
   "source": []
  },
  {
   "cell_type": "markdown",
   "id": "8538c9b7-c915-4877-86f7-76a50006de34",
   "metadata": {},
   "source": [
    "### Answers"
   ]
  },
  {
   "cell_type": "markdown",
   "id": "6cebdb2f-47f4-4dc3-bcab-6f3c6f3e8444",
   "metadata": {},
   "source": [
    "1. Using the **```help()``` function**, find what the following NumPy functions do:\n",
    "\n",
    "    ```std()```\n",
    "\n",
    "    ```shape()```\n",
    "\n",
    "    ```sort()```"
   ]
  },
  {
   "cell_type": "code",
   "execution_count": null,
   "id": "8c4293f5-79fb-4644-8c07-4ba50c2e178a",
   "metadata": {},
   "outputs": [],
   "source": [
    "# answer\n",
    "\n",
    "import numpy as np\n",
    "\n",
    "# Using help() to get information about the functions\n",
    "help(np.std)\n",
    "help(np.shape)\n",
    "help(np.sort)"
   ]
  },
  {
   "cell_type": "markdown",
   "id": "fae51f5d-32f2-48bf-9b40-aea955622cf1",
   "metadata": {},
   "source": [
    "2. Use the **```degrees()``` function** from **NumPy** to convert **```pi/6```** to degrees. (<ins>*Hint: you can use the ```help()``` function to look up the input arguments*</ins>)"
   ]
  },
  {
   "cell_type": "code",
   "execution_count": null,
   "id": "5a7693f8-ba5e-4fca-b366-119306ac1704",
   "metadata": {},
   "outputs": [],
   "source": [
    "# answers\n",
    "\n",
    "import numpy as np\n",
    "\n",
    "angle_radians = np.pi / 6  # π/6 radians\n",
    "\n",
    "angle_degrees = np.degrees(angle_radians)\n",
    "print(\"Angle in degrees:\", angle_degrees)"
   ]
  },
  {
   "cell_type": "markdown",
   "id": "35e3b186-c216-4255-8f0f-3f39ca9e89f1",
   "metadata": {},
   "source": [
    "3. **Create two arrays** and **find the product** of them using the NumPy function **```multiply()```**."
   ]
  },
  {
   "cell_type": "code",
   "execution_count": null,
   "id": "fa6e14fe-8a1a-47cc-8fcb-98513156af9a",
   "metadata": {},
   "outputs": [],
   "source": [
    "# answer\n",
    "\n",
    "import numpy as np\n",
    "\n",
    "# Creating two NumPy arrays\n",
    "array1 = np.array([1, 2, 3])\n",
    "array2 = np.array([4, 5, 6])\n",
    "\n",
    "# Finding the product of the arrays element-wise\n",
    "product = np.multiply(array1, array2)\n",
    "\n",
    "print(\"Array 1:\", array1)\n",
    "print(\"Array 2:\", array2)\n",
    "print(\"Element-wise product:\", product)"
   ]
  }
 ],
 "metadata": {
  "colab": {
   "include_colab_link": true,
   "provenance": []
  },
  "kernelspec": {
   "display_name": "Python 3 (ipykernel)",
   "language": "python",
   "name": "python3"
  },
  "language_info": {
   "codemirror_mode": {
    "name": "ipython",
    "version": 3
   },
   "file_extension": ".py",
   "mimetype": "text/x-python",
   "name": "python",
   "nbconvert_exporter": "python",
   "pygments_lexer": "ipython3",
   "version": "3.8.15"
  }
 },
 "nbformat": 4,
 "nbformat_minor": 5
}
