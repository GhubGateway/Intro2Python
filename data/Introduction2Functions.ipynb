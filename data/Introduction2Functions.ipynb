{
 "cells": [
  {
   "cell_type": "markdown",
   "id": "d78de5a8",
   "metadata": {},
   "source": [
    "# Introduction to Functions"
   ]
  },
  {
   "cell_type": "markdown",
   "id": "5a3efa6b",
   "metadata": {},
   "source": [
    "**Functions** are very helpful in code. You can <ins>**avoid typing the same formula over and over again, apply them to multiple datasets, and minimize errors**</ins>. Since there is a lot of go over, we are splitting this section into two separate notebooks: **[an introduction](Introduction2Functions.ipynb)** and **[creating your own functions](CreatingFunctions.ipynb)**."
   ]
  },
  {
   "cell_type": "markdown",
   "id": "3b1322cd",
   "metadata": {},
   "source": [
    "<img src=\"https://benjdd.com/assets/memes/teach-functions.jpg\" >"
   ]
  },
  {
   "cell_type": "markdown",
   "id": "0a0a73ba",
   "metadata": {},
   "source": [
    "By the end of this section, you will learn:\n",
    "* [**to call functions**](#How-to-call-functions)\n",
    "* [**built-in Python functions**](#Built-in-Python-functions)\n",
    "* [**NumPy functions**](#NumPy-functions)"
   ]
  },
  {
   "cell_type": "markdown",
   "id": "5717a9e6",
   "metadata": {},
   "source": [
    "## How to call functions"
   ]
  },
  {
   "cell_type": "markdown",
   "id": "01ceff61",
   "metadata": {},
   "source": [
    "Before we dive into some of the functions within Python and NumPy, we're going to learn how to **call them**. To **call a function**, you can follow this basic format:\n",
    "\n",
    "```python\n",
    "newvar = function(args, kwarsg=kwargs)\n",
    "```\n",
    "\n",
    "where\n",
    "\n",
    "**```newvar```** is the **<ins>new variable</ins>** that will be assigned with the **<ins>results of the function</ins>**\n",
    "\n",
    "**```args```** is the **<ins>arguments (aka data entered)</ins>**\n",
    "\n",
    "**```kwargs```** is the **<ins>keyword arguments</ins>** (which are not necessary)\n",
    "\n",
    "An example is:"
   ]
  },
  {
   "cell_type": "code",
   "execution_count": 1,
   "id": "c987655a",
   "metadata": {},
   "outputs": [
    {
     "name": "stdout",
     "output_type": "stream",
     "text": [
      "2\n"
     ]
    }
   ],
   "source": [
    "import numpy as np\n",
    "\n",
    "# use the array() function from numPy to create an array\n",
    "mydata = np.array([2, 4, 6, 8])\n",
    "\n",
    "# using the min() function from numPy to find the min of my data\n",
    "min = np.min(mydata)\n",
    "print(min)"
   ]
  },
  {
   "cell_type": "markdown",
   "id": "9fcd3532",
   "metadata": {},
   "source": [
    "## Built-in Python functions"
   ]
  },
  {
   "cell_type": "markdown",
   "id": "a8dbf5a6",
   "metadata": {},
   "source": [
    "Within Python there are some built-in functions (meaning you <ins>**_do not need to import_**</ins> any library packages). Some examples include:\n",
    "\n",
    "|Function|Description|Arguments|\n",
    "|-|-|-:|\n",
    "|```help()```|start the help system|```help(function name)```|\n",
    "|```open()```|open a file|```open(filename.txt)```|\n",
    "|```print()```|return a value|```print(value desired)```|\n",
    "\n",
    "You can learn more about built-in Python functions [here](https://docs.python.org/3/library/functions.html)."
   ]
  },
  {
   "cell_type": "markdown",
   "id": "eef9d930",
   "metadata": {},
   "source": [
    "## NumPy functions"
   ]
  },
  {
   "cell_type": "markdown",
   "id": "877e01d9",
   "metadata": {},
   "source": [
    "[NumPy](https://numpy.org/doc/stable/user/absolute_beginners.html) (aka numerical Python) is an <ins>*open source library*</ins> that is <ins>**used to work with numerical data**</ins>, <ins>**perform a large selection of mathematical operations on arrays**</ins>, and more. \n",
    "\n",
    "\n",
    "If you have Python already downloaded, you can install **NumPy** with the following command in your terminal:\n",
    "\n",
    "**```conda install numpy```**\n",
    "\n",
    "or\n",
    "\n",
    "**```pip install numpy```**\n"
   ]
  },
  {
   "cell_type": "markdown",
   "id": "cb096fa5",
   "metadata": {},
   "source": [
    "To use functions from **NumPy**, you must type the following:\n",
    "\n",
    "```python\n",
    "import numpy\n",
    "```\n",
    "\n",
    "It is suggested to <ins>**abbreviate NumPy**</ins>, such as:\n",
    "\n",
    "```python\n",
    "import numpy as np\n",
    "```\n",
    "\n",
    "There are lots of [functions](https://numpy.org/doc/stable/reference/) within **NumPy**, but here are some commonly used ones:\n",
    "\n",
    "|Function|Description|Arguments|\n",
    "|-|-|-|\n",
    "|```array()```|creates an array|```array([numbers])```|\n",
    "|```arange()```|creates evenly spaced values within a given interval|```arange([startvalue,stopvalue,spacing])```|\n",
    "|```linspace()```|creates evenly spaced numbers over specified interval|```linspace(startvalue,stopvalue,numberofvalues])```|"
   ]
  },
  {
   "cell_type": "code",
   "execution_count": 2,
   "id": "4bc52731",
   "metadata": {},
   "outputs": [
    {
     "name": "stdout",
     "output_type": "stream",
     "text": [
      "1.0\n"
     ]
    }
   ],
   "source": [
    "# Finding the sine of 30 using NumPy\n",
    "# First we import NumPy\n",
    "import numpy as np\n",
    "\n",
    "# For trig functions in NumPy, the angle is in radians\n",
    "# We need numPy to use pi\n",
    "x = np.sin(np.pi/2)\n",
    "print(x)"
   ]
  },
  {
   "cell_type": "markdown",
   "id": "2c89941a",
   "metadata": {},
   "source": [
    "An example of using a **NumPy** function on arrays is:"
   ]
  },
  {
   "cell_type": "code",
   "execution_count": 18,
   "id": "aa897b52",
   "metadata": {},
   "outputs": [
    {
     "name": "stdout",
     "output_type": "stream",
     "text": [
      "20\n"
     ]
    }
   ],
   "source": [
    "# Add the elements of an array using NumPy\n",
    "import numpy as np\n",
    "\n",
    "# My array\n",
    "a = np.array([2, 4, 6, 8])\n",
    "\n",
    "# Now add up all elements\n",
    "sum = np.sum(a)\n",
    "print(sum)"
   ]
  },
  {
   "cell_type": "markdown",
   "id": "cc82f5bb",
   "metadata": {},
   "source": [
    "We can also use **NumPy** functions to find the max of an array:"
   ]
  },
  {
   "cell_type": "code",
   "execution_count": 19,
   "id": "b89133f6",
   "metadata": {},
   "outputs": [
    {
     "name": "stdout",
     "output_type": "stream",
     "text": [
      "8\n"
     ]
    }
   ],
   "source": [
    "# Finding max of my array\n",
    "import numpy as np\n",
    "\n",
    "# My array\n",
    "a = np.array([2, 4, 6, 8])\n",
    "\n",
    "# Now add up all elements\n",
    "max = np.max(a)\n",
    "print(max)"
   ]
  },
  {
   "cell_type": "markdown",
   "id": "136f0e24",
   "metadata": {},
   "source": [
    "## Summary"
   ]
  },
  {
   "cell_type": "markdown",
   "id": "b682f865",
   "metadata": {},
   "source": [
    "* To **[call a function](#How-to-call-functions)** (aka apply a function), **create a new variable** to store results and input arguments within parentheses of function\n",
    "\n",
    "\n",
    "\n",
    "* To look up the **[arguments of a function](#Built-in-Python-functions)**, you can use the built-in Python **```help()```** function\n",
    "\n",
    "\n",
    "\n",
    "* **[NumPy](#NumPy-functions)** is a **numerical Python library** which allows you to create arrays, use complicated math equations, etc."
   ]
  },
  {
   "cell_type": "markdown",
   "id": "d487c382",
   "metadata": {},
   "source": [
    "## Exercise"
   ]
  },
  {
   "cell_type": "markdown",
   "id": "5c0b66ff",
   "metadata": {},
   "source": [
    "1. Using the **```help()``` function**, find what the following NumPy functions do:\n",
    "\n",
    "    ```std()```\n",
    "\n",
    "    ```shape()```\n",
    "\n",
    "    ```sort()```"
   ]
  },
  {
   "cell_type": "code",
   "execution_count": null,
   "id": "864d6fcf",
   "metadata": {
    "scrolled": true
   },
   "outputs": [],
   "source": [
    "# Use this for 1"
   ]
  },
  {
   "cell_type": "markdown",
   "id": "c24a378a",
   "metadata": {},
   "source": [
    "2. Use the **```degrees()``` function** from **NumPy** to convert **```pi/6```** to degrees. (<ins>*Hint: you can use the ```help()``` function to look up the input arguments*</ins>)"
   ]
  },
  {
   "cell_type": "code",
   "execution_count": null,
   "id": "abca2e45",
   "metadata": {},
   "outputs": [],
   "source": [
    "# insert code here"
   ]
  },
  {
   "cell_type": "markdown",
   "id": "c72d6b5c",
   "metadata": {},
   "source": [
    "3. **Create two arrays** and **find the product** of them using the NumPy function **```multiply()```**."
   ]
  },
  {
   "cell_type": "code",
   "execution_count": null,
   "id": "7e3a9f7d",
   "metadata": {},
   "outputs": [],
   "source": [
    "# insert code here"
   ]
  }
 ],
 "metadata": {
  "kernelspec": {
   "display_name": "Python 3 (ipykernel)",
   "language": "python",
   "name": "python3"
  },
  "language_info": {
   "codemirror_mode": {
    "name": "ipython",
    "version": 3
   },
   "file_extension": ".py",
   "mimetype": "text/x-python",
   "name": "python",
   "nbconvert_exporter": "python",
   "pygments_lexer": "ipython3",
   "version": "3.9.13"
  }
 },
 "nbformat": 4,
 "nbformat_minor": 5
}
