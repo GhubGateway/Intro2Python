{
 "cells": [
  {
   "cell_type": "markdown",
   "id": "23db8233",
   "metadata": {},
   "source": [
    "# Introduction to Functions!"
   ]
  },
  {
   "cell_type": "markdown",
   "id": "d857d491",
   "metadata": {},
   "source": [
    "**Functions** are very helpful in code. You can avoid typing the same formula over and over again, apply them to multiple datasets, and they help minimize errors! Since there is a lot of go over, we are splitting this section into two separate notebooks."
   ]
  },
  {
   "cell_type": "markdown",
   "id": "21c3fa04",
   "metadata": {},
   "source": [
    "<img src=\"https://inventyourshit.com/wp-content/uploads/2020/11/4lirk9.jpg\" >"
   ]
  },
  {
   "cell_type": "markdown",
   "id": "30592515",
   "metadata": {},
   "source": [
    "By the end of this section, you will:\n",
    "* **how to call functions**\n",
    "* **know some of the built-in functions**\n",
    "* **know some of the numPy functions**"
   ]
  },
  {
   "cell_type": "markdown",
   "id": "20ec99f4",
   "metadata": {},
   "source": [
    "## How to call functions"
   ]
  },
  {
   "cell_type": "markdown",
   "id": "6dea12c5",
   "metadata": {},
   "source": [
    "Before we dive into some of the function within python and numPy, we're going to learn how to call them. Functions follow this basic format:\n",
    "\n",
    "```python\n",
    "newvar = function(args, kwarsg=kwargs)\n",
    "```\n",
    "\n",
    "where\n",
    "\n",
    "```newvar``` is the new variable that will be assigned with the results of the function\n",
    "\n",
    "```args``` is the arguments (aka data inputed)\n",
    "\n",
    "```kwargs``` is th keyword arguments (which are not necessary but the labelis required)"
   ]
  },
  {
   "cell_type": "markdown",
   "id": "ae9bde70",
   "metadata": {},
   "source": [
    "An example of calling a function is:"
   ]
  },
  {
   "cell_type": "code",
   "execution_count": 9,
   "id": "7a1da682",
   "metadata": {},
   "outputs": [
    {
     "name": "stdout",
     "output_type": "stream",
     "text": [
      "2\n"
     ]
    }
   ],
   "source": [
    "import numpy as np\n",
    "\n",
    "mydata = np.array([2, 4, 6, 8])\n",
    "min = np.min(mydata)\n",
    "print(min)"
   ]
  },
  {
   "cell_type": "code",
   "execution_count": null,
   "id": "8cc4d24e",
   "metadata": {},
   "outputs": [],
   "source": []
  }
 ],
 "metadata": {
  "kernelspec": {
   "display_name": "Python 3 (ipykernel)",
   "language": "python",
   "name": "python3"
  },
  "language_info": {
   "codemirror_mode": {
    "name": "ipython",
    "version": 3
   },
   "file_extension": ".py",
   "mimetype": "text/x-python",
   "name": "python",
   "nbconvert_exporter": "python",
   "pygments_lexer": "ipython3",
   "version": "3.9.13"
  }
 },
 "nbformat": 4,
 "nbformat_minor": 5
}
