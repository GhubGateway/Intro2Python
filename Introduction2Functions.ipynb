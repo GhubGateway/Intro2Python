{
 "cells": [
  {
   "cell_type": "markdown",
   "id": "d78de5a8",
   "metadata": {},
   "source": [
    "# Introduction to Functions!"
   ]
  },
  {
   "cell_type": "markdown",
   "id": "5a3efa6b",
   "metadata": {},
   "source": [
    "**Functions** are very helpful in code. You can avoid typing the same formula over and over again, apply them to multiple datasets, and they help minimize errors! Since there is a lot of go over, we are splitting this section into two separate notebooks."
   ]
  },
  {
   "cell_type": "markdown",
   "id": "3b1322cd",
   "metadata": {},
   "source": [
    "<img src=\"https://inventyourshit.com/wp-content/uploads/2020/11/4lirk9.jpg\" >"
   ]
  },
  {
   "cell_type": "markdown",
   "id": "0a0a73ba",
   "metadata": {},
   "source": [
    "By the end of this section, you will:\n",
    "* [how to call functions](#How-to-call-functions)\n",
    "* [know some of the built-in Python functions](#Built-in-Python-Functions)\n",
    "* [know some of the NumPy functions](#NumPy-Functions)"
   ]
  },
  {
   "cell_type": "markdown",
   "id": "5717a9e6",
   "metadata": {},
   "source": [
    "## How to call functions"
   ]
  },
  {
   "cell_type": "markdown",
   "id": "01ceff61",
   "metadata": {},
   "source": [
    "Before we dive into some of the functions within Python and NumPy, we're going to learn how to call them. Functions follow this basic format:\n",
    "\n",
    "```python\n",
    "newvar = function(args, kwarsg=kwargs)\n",
    "```\n",
    "\n",
    "where\n",
    "\n",
    "```newvar``` is the new variable that will be assigned with the results of the function\n",
    "\n",
    "```args``` is the arguments (aka data inputed)\n",
    "\n",
    "```kwargs``` is th keyword arguments (which are not necessary but the labelis required)"
   ]
  },
  {
   "cell_type": "markdown",
   "id": "6d3bbe17",
   "metadata": {},
   "source": [
    "An example of calling a function is:"
   ]
  },
  {
   "cell_type": "code",
   "execution_count": 9,
   "id": "c987655a",
   "metadata": {},
   "outputs": [
    {
     "name": "stdout",
     "output_type": "stream",
     "text": [
      "2\n"
     ]
    }
   ],
   "source": [
    "import numpy as np\n",
    "\n",
    "mydata = np.array([2, 4, 6, 8])\n",
    "min = np.min(mydata)\n",
    "print(min)"
   ]
  },
  {
   "cell_type": "markdown",
   "id": "9fcd3532",
   "metadata": {},
   "source": [
    "## Built-in Python Functions"
   ]
  },
  {
   "cell_type": "markdown",
   "id": "a8dbf5a6",
   "metadata": {},
   "source": [
    "Within Python there are some built-in functions (meaning you **do not** need to import any library packages). Some examples include:\n",
    "\n",
    "```help()``` which allows you to start the help system\n",
    "\n",
    "```open()``` which allows you to open a file\n",
    "\n",
    "```print()``` which allows you to print the argument\n",
    "\n",
    "You can learn more built-in Python functions [here](https://docs.python.org/3/library/functions.html)."
   ]
  },
  {
   "cell_type": "markdown",
   "id": "eef9d930",
   "metadata": {},
   "source": [
    "## NumPy Functions"
   ]
  },
  {
   "cell_type": "markdown",
   "id": "877e01d9",
   "metadata": {},
   "source": [
    "[NumPy](https://numpy.org/doc/stable/user/absolute_beginners.html) (aka Numerical Python) is an open source library that's used for working with numerical data, performing a large selection of mathematical operations on arrays, and more! If you have Python already downloaded, you can install NumPy by typing the following into your terminal:\n",
    "\n",
    "```conda install numpy```\n",
    "\n",
    "or\n",
    "\n",
    "```pip install numpy```\n"
   ]
  },
  {
   "cell_type": "markdown",
   "id": "cb096fa5",
   "metadata": {},
   "source": [
    "To use functions from **NumPy**, you must type the following:\n",
    "\n",
    "```python\n",
    "import numpy\n",
    "```\n",
    "\n",
    "It is suggested to abbreviate **NumPy**, such as:\n",
    "\n",
    "```python\n",
    "import numpy as np\n",
    "```\n",
    "\n",
    "There are lots of [mathematical functions](https://numpy.org/doc/stable/reference/routines.math.html) within **NumPy**, but we will go over some common ones."
   ]
  },
  {
   "cell_type": "code",
   "execution_count": 17,
   "id": "4bc52731",
   "metadata": {},
   "outputs": [
    {
     "name": "stdout",
     "output_type": "stream",
     "text": [
      "1.0\n"
     ]
    }
   ],
   "source": [
    "# Finding the sine of 30 using NumPy\n",
    "# First we import NumPy\n",
    "import numpy as np\n",
    "\n",
    "# For trig functions in NumPy, the angle is in radians\n",
    "x = np.sin(np.pi/2)\n",
    "print(x)"
   ]
  },
  {
   "cell_type": "markdown",
   "id": "2c89941a",
   "metadata": {},
   "source": [
    "Notice how we had to use **NumPy** to also have pi as an input. An example of using a **NumPy** function on arrays is:"
   ]
  },
  {
   "cell_type": "code",
   "execution_count": 18,
   "id": "aa897b52",
   "metadata": {},
   "outputs": [
    {
     "name": "stdout",
     "output_type": "stream",
     "text": [
      "20\n"
     ]
    }
   ],
   "source": [
    "# Add the elements of an array using NumPy\n",
    "import numpy as np\n",
    "\n",
    "# My array\n",
    "a = np.array([2, 4, 6, 8])\n",
    "\n",
    "# Now add up all elements\n",
    "sum = np.sum(a)\n",
    "print(sum)"
   ]
  },
  {
   "cell_type": "markdown",
   "id": "cc82f5bb",
   "metadata": {},
   "source": [
    "We can also use **NumPy** functions to find the max of an array:"
   ]
  },
  {
   "cell_type": "code",
   "execution_count": 19,
   "id": "b89133f6",
   "metadata": {},
   "outputs": [
    {
     "name": "stdout",
     "output_type": "stream",
     "text": [
      "8\n"
     ]
    }
   ],
   "source": [
    "# Finding max of my array\n",
    "import numpy as np\n",
    "\n",
    "# My array\n",
    "a = np.array([2, 4, 6, 8])\n",
    "\n",
    "# Now add up all elements\n",
    "max = np.max(a)\n",
    "print(max)"
   ]
  },
  {
   "cell_type": "markdown",
   "id": "d487c382",
   "metadata": {},
   "source": [
    "## Exercise"
   ]
  },
  {
   "cell_type": "markdown",
   "id": "5c0b66ff",
   "metadata": {},
   "source": [
    "1. Using the ```help()``` function, find what the following NumPy functions do:\n",
    "\n",
    "    ```std()```\n",
    "\n",
    "    ```shape()```\n",
    "\n",
    "    ```sort()```"
   ]
  },
  {
   "cell_type": "code",
   "execution_count": null,
   "id": "864d6fcf",
   "metadata": {
    "scrolled": true
   },
   "outputs": [],
   "source": [
    "# Use this for 1"
   ]
  },
  {
   "cell_type": "markdown",
   "id": "c24a378a",
   "metadata": {},
   "source": [
    "2. Use the ```degrees()``` function from NumPy to convert ```pi/6``` to degrees. (**Hint: you can use the** ```help()``` **function to look up the input arguments**.)"
   ]
  },
  {
   "cell_type": "code",
   "execution_count": null,
   "id": "abca2e45",
   "metadata": {},
   "outputs": [],
   "source": [
    "# Use this for 2"
   ]
  },
  {
   "cell_type": "markdown",
   "id": "c72d6b5c",
   "metadata": {},
   "source": [
    "3. Create two arrays and find the product of them using the NumPy function ```multiply()```."
   ]
  },
  {
   "cell_type": "code",
   "execution_count": null,
   "id": "7e3a9f7d",
   "metadata": {},
   "outputs": [],
   "source": [
    "# Use this for 3"
   ]
  }
 ],
 "metadata": {
  "kernelspec": {
   "display_name": "Python 3 (ipykernel)",
   "language": "python",
   "name": "python3"
  },
  "language_info": {
   "codemirror_mode": {
    "name": "ipython",
    "version": 3
   },
   "file_extension": ".py",
   "mimetype": "text/x-python",
   "name": "python",
   "nbconvert_exporter": "python",
   "pygments_lexer": "ipython3",
   "version": "3.9.13"
  }
 },
 "nbformat": 4,
 "nbformat_minor": 5
}
