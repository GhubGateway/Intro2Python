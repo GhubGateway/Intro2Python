{
 "cells": [
  {
   "cell_type": "markdown",
   "id": "9b5de318",
   "metadata": {},
   "source": [
    "# Data Types"
   ]
  },
  {
   "cell_type": "markdown",
   "id": "2cc9c610",
   "metadata": {},
   "source": [
    "When building code, we will need structures to hold our data. These structures are the building blocks of code: **variables** and **data structures**."
   ]
  },
  {
   "cell_type": "markdown",
   "id": "269cbd28",
   "metadata": {},
   "source": [
    "<img src=\"https://i.redd.it/poa9b8l36gm41.jpg\">"
   ]
  },
  {
   "cell_type": "markdown",
   "id": "4412845a",
   "metadata": {},
   "source": [
    "By the end of this section, you will:\n",
    "* [know the different variable types](#Variables)\n",
    "* [be introduced to two data structures](#Data-Structures)"
   ]
  },
  {
   "cell_type": "markdown",
   "id": "245142c6",
   "metadata": {},
   "source": [
    "## Variables"
   ]
  },
  {
   "cell_type": "markdown",
   "id": "a2a64d79",
   "metadata": {},
   "source": [
    "**Variables** are where we store data in code. It also helps keep our code <ins>organized</ins> and helps <ins>reduce mistakes</ins> that could happen along the way. There are **different types of variables**, such as:\n",
    "* [integers](#Integers)\n",
    "* [floats](#Floats)\n",
    "* [strings](#Strings)"
   ]
  },
  {
   "cell_type": "markdown",
   "id": "e96edd6e",
   "metadata": {},
   "source": [
    "### Integers"
   ]
  },
  {
   "cell_type": "markdown",
   "id": "740c299b",
   "metadata": {},
   "source": [
    "**Integers** are exactly what they sounds like: they store *only* <ins>integral values</ins> (i.e., whole numbers). An example is ```1``` or ```100```.\n",
    "\n",
    "Here is a demo of adding two integers:"
   ]
  },
  {
   "cell_type": "code",
   "execution_count": 1,
   "id": "e009e946",
   "metadata": {
    "scrolled": false
   },
   "outputs": [
    {
     "name": "stdout",
     "output_type": "stream",
     "text": [
      "6\n"
     ]
    }
   ],
   "source": [
    "a = 2\n",
    "b = 4\n",
    "c = a + b\n",
    "print(c)"
   ]
  },
  {
   "cell_type": "markdown",
   "id": "79d040df",
   "metadata": {},
   "source": [
    "### Floats"
   ]
  },
  {
   "cell_type": "markdown",
   "id": "ee9c85ee",
   "metadata": {},
   "source": [
    "Though similiar to integers, **floats** are slightly different: they store values that have potential <ins>decimal points</ins>. An example is ```1.0``` or ```100.00```.\n",
    "\n",
    "Here is a demo of adding two floats:"
   ]
  },
  {
   "cell_type": "code",
   "execution_count": 2,
   "id": "90bb1121",
   "metadata": {},
   "outputs": [
    {
     "name": "stdout",
     "output_type": "stream",
     "text": [
      "6.0\n"
     ]
    }
   ],
   "source": [
    "a = 2.0\n",
    "b = 4.0\n",
    "c = a + b\n",
    "print(c)"
   ]
  },
  {
   "cell_type": "markdown",
   "id": "0cebc2b5",
   "metadata": {},
   "source": [
    "### Strings"
   ]
  },
  {
   "cell_type": "markdown",
   "id": "c7adcc23",
   "metadata": {},
   "source": [
    "**Strings** are groups of characters that is defined by quotation marks ```''``` ```\"\"```. Although they can be manipulated using math functions (addition, multiplication), **strings** are not treated as numbers. An example is:"
   ]
  },
  {
   "cell_type": "code",
   "execution_count": 11,
   "id": "234b0e7b",
   "metadata": {},
   "outputs": [
    {
     "name": "stdout",
     "output_type": "stream",
     "text": [
      "Liza, Hayley, Katie\n"
     ]
    }
   ],
   "source": [
    "names = 'Liza, Hayley, Katie'\n",
    "print(names)"
   ]
  },
  {
   "cell_type": "markdown",
   "id": "81cde816",
   "metadata": {},
   "source": [
    "## Data Structures"
   ]
  },
  {
   "cell_type": "markdown",
   "id": "0d267b40",
   "metadata": {},
   "source": [
    "### Lists"
   ]
  },
  {
   "cell_type": "markdown",
   "id": "3d8ba605",
   "metadata": {},
   "source": [
    "**Lists** are defined by **square brackets** ```[]```, are **one-dimensional**, and can store **various data types** (e.g., numbers, words)."
   ]
  },
  {
   "cell_type": "code",
   "execution_count": 7,
   "id": "e56ed23e",
   "metadata": {},
   "outputs": [
    {
     "name": "stdout",
     "output_type": "stream",
     "text": [
      "['hello', 123, 'bye', 456]\n"
     ]
    }
   ],
   "source": [
    "mylist = ['hello', 123, 'bye', 456 ]\n",
    "print(mylist)"
   ]
  },
  {
   "cell_type": "markdown",
   "id": "5c5baeda",
   "metadata": {},
   "source": [
    "### Arrays"
   ]
  },
  {
   "cell_type": "markdown",
   "id": "336704f5",
   "metadata": {},
   "source": [
    "**Arrays** are also defined by **square brackets** ```[]``` and are **one-dimensional**, but they can **only store one data type**.\n",
    "\n",
    "**Arrays** are defined by through [NumPy](Introduction2Functions.ipynb), which is a numerical library widely used in Python. To make an array, you must first <ins>import NumPy</ins> and then <ins>use the ```array()``` function</ins>."
   ]
  },
  {
   "cell_type": "code",
   "execution_count": 3,
   "id": "b7e4d207",
   "metadata": {},
   "outputs": [
    {
     "name": "stdout",
     "output_type": "stream",
     "text": [
      "[1 2 3 4 5]\n"
     ]
    }
   ],
   "source": [
    "import numpy as np # you can import NumPy as a shorter name (ex: np)\n",
    "\n",
    "numbers = np.array([1, 2, 3, 4, 5])\n",
    "print(numbers)"
   ]
  },
  {
   "cell_type": "markdown",
   "id": "38518ec3",
   "metadata": {},
   "source": [
    "### Manipulating lists and arrays"
   ]
  },
  {
   "cell_type": "markdown",
   "id": "6e77d23e",
   "metadata": {},
   "source": [
    "Both lists and arrays can be manipulated by **mathematical operators** (though lists can *only* be manipulated by addition and multiplication). See the examples below:"
   ]
  },
  {
   "cell_type": "code",
   "execution_count": 18,
   "id": "3c99a9a2",
   "metadata": {},
   "outputs": [
    {
     "name": "stdout",
     "output_type": "stream",
     "text": [
      "['hello', 123, 'bye', 456, 'ciao', 789, 'ciao', 10]\n"
     ]
    }
   ],
   "source": [
    "# here we create two lists\n",
    "mylist = ['hello', 123, 'bye', 456 ]\n",
    "yourlist = ['ciao', 789, 'ciao', 10 ]\n",
    "\n",
    "# now we add both lists and print the result\n",
    "ourlist = mylist + yourlist\n",
    "print(ourlist)"
   ]
  },
  {
   "cell_type": "code",
   "execution_count": 10,
   "id": "4672052e",
   "metadata": {
    "scrolled": true
   },
   "outputs": [
    {
     "name": "stdout",
     "output_type": "stream",
     "text": [
      "[ 26 100  99 392]\n"
     ]
    }
   ],
   "source": [
    "# first we have to import numPy\n",
    "import numpy as np\n",
    "\n",
    "# now we create two arrays\n",
    "price = np.array([13, 20, 33, 56])\n",
    "amount = np.array([2, 5, 3, 7])\n",
    "\n",
    "# then we can multiply them and print the result\n",
    "total = price * amount\n",
    "print(total)"
   ]
  },
  {
   "cell_type": "markdown",
   "id": "c533f6f3",
   "metadata": {},
   "source": [
    "Notice that the it does not return **_one_** total. It will return an **array of the same size of the previous arrays**. To manipulate arrays with mathematical expressions, they **must be of the same size**. Lists can be any size to be manipulated."
   ]
  },
  {
   "cell_type": "markdown",
   "id": "2c9c0852",
   "metadata": {},
   "source": [
    "## Summary"
   ]
  },
  {
   "cell_type": "markdown",
   "id": "df348cf0",
   "metadata": {},
   "source": [
    "* Three **[variables](#Variables)** reviewed here are:\n",
    "\n",
    "    * **integers**, which store **<ins>whole numbers</ins>**\n",
    "    \n",
    "    * **floats**, which store values with **<ins>decimals</ins>**\n",
    "    \n",
    "    * **strings**, which store **<ins>groups of characters</ins>**\n",
    "\n",
    "\n",
    "\n",
    "\n",
    "\n",
    "\n",
    "* Two **[data structures](#Data-Structures)** reviewed here are:\n",
    "\n",
    "    * **lists**, which store **<ins>various data types</ins>**\n",
    "    \n",
    "    * **arrays**, which store **<ins>one data type</ins>** and are defined using numPy"
   ]
  },
  {
   "cell_type": "markdown",
   "id": "7a0a63d4",
   "metadata": {},
   "source": [
    "## Exercises"
   ]
  },
  {
   "cell_type": "markdown",
   "id": "14f8dd26",
   "metadata": {},
   "source": [
    "1. Create two float variables that stores the price per pound for apples and stores the amound of pounds you are buying. Print the total price for your apples."
   ]
  },
  {
   "cell_type": "code",
   "execution_count": null,
   "id": "b9c917bd",
   "metadata": {},
   "outputs": [],
   "source": [
    "# insert code here"
   ]
  },
  {
   "cell_type": "markdown",
   "id": "c2d0fa79",
   "metadata": {},
   "source": [
    "2. You are given three variables: ```cost``` which stores a monthly payment, ```time``` which stores the total time in months that the payment needs to be made, and ```msrp``` which stores the manufacturer's suggested retail price. Find the product of both ```cost``` and ```time``` then find the difference between msrp and the product. Print out the product and difference."
   ]
  },
  {
   "cell_type": "code",
   "execution_count": null,
   "id": "f607a9e5",
   "metadata": {},
   "outputs": [],
   "source": [
    "# Given variables\n",
    "monthly_payment = 415 # unit: USD\n",
    "time = 72 # unit: months\n",
    "msrp = 25000 # unit: USD\n"
   ]
  },
  {
   "cell_type": "markdown",
   "id": "33bc5b56",
   "metadata": {},
   "source": [
    "3. Make two strings named ```fruit``` and ```other``` which contain items you would get at the grocery stores. Add both strings together in a variable called ```final_list``` and print it."
   ]
  },
  {
   "cell_type": "code",
   "execution_count": null,
   "id": "f5049712",
   "metadata": {},
   "outputs": [],
   "source": [
    "# insert code here"
   ]
  },
  {
   "cell_type": "markdown",
   "id": "037b9cb6",
   "metadata": {},
   "source": [
    "4. Import NumPy and create two arrays of your choice dimensions. Name them ```a``` and ```b```. Find the product of both and divide it by 2. Store this new array in a variable ```c```. Print out ```c```."
   ]
  },
  {
   "cell_type": "code",
   "execution_count": null,
   "id": "8220ca26",
   "metadata": {},
   "outputs": [],
   "source": [
    "# insert code here"
   ]
  }
 ],
 "metadata": {
  "kernelspec": {
   "display_name": "Python 3 (ipykernel)",
   "language": "python",
   "name": "python3"
  },
  "language_info": {
   "codemirror_mode": {
    "name": "ipython",
    "version": 3
   },
   "file_extension": ".py",
   "mimetype": "text/x-python",
   "name": "python",
   "nbconvert_exporter": "python",
   "pygments_lexer": "ipython3",
   "version": "3.9.13"
  }
 },
 "nbformat": 4,
 "nbformat_minor": 5
}
