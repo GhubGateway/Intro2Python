{
 "cells": [
  {
   "cell_type": "markdown",
   "id": "8b389000",
   "metadata": {},
   "source": [
    "# Maps"
   ]
  },
  {
   "cell_type": "markdown",
   "id": "f49c5516",
   "metadata": {},
   "source": [
    "some intro...."
   ]
  },
  {
   "cell_type": "markdown",
   "id": "c0a96b58",
   "metadata": {},
   "source": [
    "<img src=\"https://scitools.org.uk/cartopy/docs/latest/_static/cartopy.png\" >"
   ]
  },
  {
   "cell_type": "markdown",
   "id": "363e7e6d",
   "metadata": {},
   "source": [
    "By the end of this section, you will:\n",
    "* [learn what Cartopy is](#Cartopy)\n",
    "* make basic maps\n",
    "* start learning to make more complicated maps"
   ]
  },
  {
   "cell_type": "markdown",
   "id": "8a3c2e06",
   "metadata": {},
   "source": [
    "## Cartopy"
   ]
  },
  {
   "cell_type": "markdown",
   "id": "b9b1ffe5",
   "metadata": {},
   "source": [
    "**Cartopy** is a Python library from [SciTools](https://scitools.org.uk/cartopy/docs/latest/) that can process geospatial data, produces maps, and conducts analyses on geospatial data. If you have Python installed, you can type the following into your terminal:\n",
    "\n",
    "**```conda install -c conda-forge cartopy```**\n",
    "\n",
    "or\n",
    "\n",
    "**```pip install cartopy```**"
   ]
  },
  {
   "cell_type": "markdown",
   "id": "8a642ca3",
   "metadata": {},
   "source": [
    "Since we are using geospatial data, we need to not only ```import cartopy``` but also ```import cartopy.crs```, which allows us to use the coordinate reference systems (CRS) class within Cartopy. "
   ]
  },
  {
   "cell_type": "code",
   "execution_count": null,
   "id": "a4fbc288",
   "metadata": {},
   "outputs": [],
   "source": [
    "# import using abbreviations\n",
    "import cartopy\n",
    "import cartopy.crs as ccrs"
   ]
  },
  {
   "cell_type": "markdown",
   "id": "ce9c498a",
   "metadata": {},
   "source": [
    "## Making basic maps"
   ]
  },
  {
   "cell_type": "markdown",
   "id": "f9ef8be2",
   "metadata": {},
   "source": [
    "We can use [matplotlib](Figures.ipynb) to make basic maps. "
   ]
  },
  {
   "cell_type": "code",
   "execution_count": null,
   "id": "bf43f990",
   "metadata": {},
   "outputs": [],
   "source": []
  }
 ],
 "metadata": {
  "kernelspec": {
   "display_name": "Python 3 (ipykernel)",
   "language": "python",
   "name": "python3"
  },
  "language_info": {
   "codemirror_mode": {
    "name": "ipython",
    "version": 3
   },
   "file_extension": ".py",
   "mimetype": "text/x-python",
   "name": "python",
   "nbconvert_exporter": "python",
   "pygments_lexer": "ipython3",
   "version": "3.9.13"
  }
 },
 "nbformat": 4,
 "nbformat_minor": 5
}
