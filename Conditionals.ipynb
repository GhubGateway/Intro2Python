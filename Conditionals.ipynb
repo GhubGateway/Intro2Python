{
 "cells": [
  {
   "cell_type": "markdown",
   "id": "5699c79b",
   "metadata": {},
   "source": [
    "# Conditionals"
   ]
  },
  {
   "cell_type": "markdown",
   "id": "eeb5f60e",
   "metadata": {},
   "source": [
    "**Conditionals** can play an important role in code. It allows the program to execute decisions based off the conditions we give it. Here, we will learn about the different conditional statements and its role in coding."
   ]
  },
  {
   "cell_type": "markdown",
   "id": "418bef56",
   "metadata": {},
   "source": [
    "<img src= \"https://img.freepik.com/free-vector/flat-illustration-people-asking-questions_23-2148919347.jpg?w=2000\" >"
   ]
  },
  {
   "cell_type": "markdown",
   "id": "b9a1a554",
   "metadata": {},
   "source": [
    "By the end of this section, you will:\n",
    "   * have an understanding of conditionals and its role in coding\n",
    "   * be able to craft thoughtful conditionals"
   ]
  },
  {
   "cell_type": "markdown",
   "id": "b1798bb3",
   "metadata": {},
   "source": [
    "## Booleans"
   ]
  },
  {
   "cell_type": "markdown",
   "id": "f6aee7e0",
   "metadata": {},
   "source": [
    "**Booleans** are a data structure which are typically the result of conditionals, but can exist on their own. **Booleans** are<p style=\"font-family:monospace\">true 1</p>or<p style=\"font-family:monospace\">false 0</p>"
   ]
  },
  {
   "cell_type": "markdown",
   "id": "e7d6bc84",
   "metadata": {},
   "source": [
    "## Logical Conditionals"
   ]
  },
  {
   "cell_type": "markdown",
   "id": "063927c5",
   "metadata": {},
   "source": [
    "Typically called logicals (because their results are fairly logical!), **logical conditionals** stem from mathematics. They are the following:\n",
    "\n",
    "    < less than\n",
    "    > greater than\n",
    "    == equal to\n",
    "    != not equal to\n",
    "    >= greater than or equal to\n",
    "    <= less than or equal to\n",
    " We can test this out and see their outputs:"
   ]
  },
  {
   "cell_type": "code",
   "execution_count": null,
   "id": "bc3d5302",
   "metadata": {
    "scrolled": true
   },
   "outputs": [],
   "source": [
    "1 > 2"
   ]
  },
  {
   "cell_type": "code",
   "execution_count": null,
   "id": "8b840af6",
   "metadata": {},
   "outputs": [],
   "source": [
    "1 < 2"
   ]
  },
  {
   "cell_type": "code",
   "execution_count": null,
   "id": "c3e744f1",
   "metadata": {
    "scrolled": true
   },
   "outputs": [],
   "source": [
    "1 == 2"
   ]
  },
  {
   "cell_type": "code",
   "execution_count": null,
   "id": "ca562070",
   "metadata": {},
   "outputs": [],
   "source": [
    "1 != 2"
   ]
  },
  {
   "cell_type": "code",
   "execution_count": null,
   "id": "ca348d84",
   "metadata": {},
   "outputs": [],
   "source": [
    "1 >= 2"
   ]
  },
  {
   "cell_type": "code",
   "execution_count": null,
   "id": "6d3c22d3",
   "metadata": {},
   "outputs": [],
   "source": [
    "1 <= 2"
   ]
  },
  {
   "cell_type": "markdown",
   "id": "1402edc4",
   "metadata": {},
   "source": [
    "## if Statement"
   ]
  },
  {
   "cell_type": "markdown",
   "id": "3a258f0c",
   "metadata": {},
   "source": [
    "When using an **if statement**, the statement must be valid for the code within to run. It follows this basic format:\n",
    "```python\n",
    "if conditional:\n",
    "    \"\"\"do this code\"\"\"\n",
    "```\n",
    "If the conditional is True, then the program will do the code. An example is:"
   ]
  },
  {
   "cell_type": "code",
   "execution_count": 9,
   "id": "32a5f901",
   "metadata": {},
   "outputs": [],
   "source": [
    "var0 = 2\n",
    "var1 = 1\n",
    "\n",
    "if var0 < var1:\n",
    "    print('hey')"
   ]
  },
  {
   "cell_type": "markdown",
   "id": "9493f8eb",
   "metadata": {},
   "source": [
    "Notice there is no output since the conditional is false."
   ]
  },
  {
   "cell_type": "markdown",
   "id": "9ef85118",
   "metadata": {},
   "source": [
    "## if-else Statement"
   ]
  },
  {
   "cell_type": "code",
   "execution_count": null,
   "id": "c1e7c691",
   "metadata": {},
   "outputs": [],
   "source": []
  }
 ],
 "metadata": {
  "kernelspec": {
   "display_name": "Python 3 (ipykernel)",
   "language": "python",
   "name": "python3"
  },
  "language_info": {
   "codemirror_mode": {
    "name": "ipython",
    "version": 3
   },
   "file_extension": ".py",
   "mimetype": "text/x-python",
   "name": "python",
   "nbconvert_exporter": "python",
   "pygments_lexer": "ipython3",
   "version": "3.9.13"
  }
 },
 "nbformat": 4,
 "nbformat_minor": 5
}
