{
 "cells": [
  {
   "cell_type": "markdown",
   "id": "3e4e7e35",
   "metadata": {},
   "source": [
    "# Multidimensional arrays"
   ]
  },
  {
   "cell_type": "markdown",
   "id": "91edf99b",
   "metadata": {},
   "source": [
    "Generally in the sciences, you'll need to store multiple points of data. These can be stored within matrices, also known as **_multidimensional arrays_**."
   ]
  },
  {
   "cell_type": "markdown",
   "id": "87b6e937",
   "metadata": {},
   "source": [
    "<img src=\"https://media.licdn.com/dms/image/D4D12AQHrFFdFMJEm7w/article-cover_image-shrink_720_1280/0/1680164729380?e=2147483647&v=beta&t=3gw6Ky5Yohq7J3MfJZFiykja62Txm6lN3GngS8alwF4\" >"
   ]
  },
  {
   "cell_type": "markdown",
   "id": "cd854857",
   "metadata": {},
   "source": [
    "By the end of this section, you will know:\n",
    "* [what multidimensional arrays are](#Multidimensional-Arrays)\n",
    "* [how to index multidimensional array](#Indexing-multidimensional-arrays)"
   ]
  },
  {
   "cell_type": "markdown",
   "id": "ddb0c2ac",
   "metadata": {},
   "source": [
    "## Multidimensional Arrays"
   ]
  },
  {
   "cell_type": "markdown",
   "id": "1394dba0",
   "metadata": {},
   "source": [
    "An array with multiple dimensions (i.e., many one dimesional arrays) are defined as **multidimensional arrays**. We create arrays by using the ```array()``` function from [NumPy](Introduction2Functions.ipynb). Multidimensional arrays follow this basic format:\n",
    "\n",
    "```python\n",
    "import numpy as np\n",
    "somearray = np.array([[1st array], [2nd array]...])\n",
    "```\n",
    "\n",
    "\n",
    "\n",
    "So far, we have learned about one dimensional (1D) arrays. Now, we will practice creating two dimensional (2D) and three dimensional (3D) arrays. To help you, here is a visualization:"
   ]
  },
  {
   "cell_type": "markdown",
   "id": "ae5169ad",
   "metadata": {},
   "source": [
    "<img src =\"https://miro.medium.com/v2/resize:fit:1400/1*X0Dg7QfSYtWhSAu-afi8-g.png\" >"
   ]
  },
  {
   "cell_type": "markdown",
   "id": "6f3292ae",
   "metadata": {},
   "source": [
    "In a 1D array, we have only *one row*. This will differ for 2D and 3D arrays."
   ]
  },
  {
   "cell_type": "markdown",
   "id": "349a0596",
   "metadata": {},
   "source": [
    "### 2D arrays"
   ]
  },
  {
   "cell_type": "markdown",
   "id": "ef440a91",
   "metadata": {},
   "source": [
    "2D arrays are considered as an array of arrays. You can visualize it as a table of rows and columns:\n",
    "<img src=\"https://iq.opengenus.org/content/images/2020/12/Array1.png\" >\n",
    "\n",
    "Here is a demo of creating a 2D array:"
   ]
  },
  {
   "cell_type": "code",
   "execution_count": 4,
   "id": "60d7bcfd",
   "metadata": {},
   "outputs": [
    {
     "name": "stdout",
     "output_type": "stream",
     "text": [
      "[[1 2 3]\n",
      " [4 5 6]]\n"
     ]
    }
   ],
   "source": [
    "# import numpy\n",
    "import numpy as np\n",
    "\n",
    "# create 2D array\n",
    "twoD = np.array([[1, 2, 3], [4, 5, 6]])\n",
    "print(twoD)"
   ]
  },
  {
   "cell_type": "markdown",
   "id": "aff86cbf",
   "metadata": {},
   "source": [
    "### 3D arrays"
   ]
  },
  {
   "cell_type": "markdown",
   "id": "e844ad40",
   "metadata": {},
   "source": [
    "3D arrays are considered an array composed of 2D arrays. Its components include rows, columns, and *arrays*. You can visualize it as a cube, or more broken down as \"array pages\":\n",
    "\n",
    "<img src =\"https://media.geeksforgeeks.org/wp-content/uploads/3D-array.jpg\" >\n",
    "\n",
    "Here is a demo of creating a 3D array:"
   ]
  },
  {
   "cell_type": "code",
   "execution_count": 12,
   "id": "6ab70efd",
   "metadata": {},
   "outputs": [
    {
     "name": "stdout",
     "output_type": "stream",
     "text": [
      "[[[ 1  2  3]\n",
      "  [ 4  5  6]]\n",
      "\n",
      " [[ 7  8  9]\n",
      "  [10 11 12]]]\n"
     ]
    }
   ],
   "source": [
    "# import numpy\n",
    "import numpy as np\n",
    "\n",
    "# create two 2D arrays\n",
    "twoD0 = np.array([[1, 2, 3], [4, 5, 6]])\n",
    "twoD1 = np.array([[7, 8, 9], [10, 11, 12]])\n",
    "\n",
    "# put both arrays together\n",
    "threeD = np.array([twoD0, twoD1])\n",
    "print(threeD)"
   ]
  },
  {
   "cell_type": "markdown",
   "id": "7b5f48dd",
   "metadata": {},
   "source": [
    "## Indexing multidimensional arrays"
   ]
  },
  {
   "cell_type": "markdown",
   "id": "b77fe4c4",
   "metadata": {},
   "source": [
    "### Indexing 2D arrays"
   ]
  },
  {
   "cell_type": "markdown",
   "id": "385c6c97",
   "metadata": {},
   "source": [
    "We can index a row by following this format:\n",
    "\n",
    "```\n",
    "array[row #] = [row]\n",
    "```"
   ]
  },
  {
   "cell_type": "code",
   "execution_count": 6,
   "id": "a12bd2f9",
   "metadata": {},
   "outputs": [
    {
     "name": "stdout",
     "output_type": "stream",
     "text": [
      "[1 2 3]\n"
     ]
    }
   ],
   "source": [
    "# import numpy\n",
    "import numpy as np\n",
    "\n",
    "# create 2D array\n",
    "twoD = np.array([[1, 2, 3], [4, 5, 6]])\n",
    "\n",
    "# print first row in our 2D array\n",
    "print(twoD[0])"
   ]
  },
  {
   "cell_type": "markdown",
   "id": "0ac6a041",
   "metadata": {},
   "source": [
    "We can index a column by using the ```:```:\n",
    "\n",
    "```\n",
    "array[:, column #] = [column]\n",
    "```"
   ]
  },
  {
   "cell_type": "code",
   "execution_count": 9,
   "id": "a6857044",
   "metadata": {
    "scrolled": true
   },
   "outputs": [
    {
     "name": "stdout",
     "output_type": "stream",
     "text": [
      "[2 5]\n"
     ]
    }
   ],
   "source": [
    "# import numpy\n",
    "import numpy as np\n",
    "\n",
    "# create 2D array\n",
    "twoD = np.array([[1, 2, 3], [4, 5, 6]])\n",
    "\n",
    "# print second column in our 2D array\n",
    "print(twoD[:,1])"
   ]
  },
  {
   "cell_type": "markdown",
   "id": "c2f71b06",
   "metadata": {},
   "source": [
    "We can also index one specific value from a desired row and column:\n",
    "\n",
    "```\n",
    "array[row #][column #] = value\n",
    "```"
   ]
  },
  {
   "cell_type": "code",
   "execution_count": 8,
   "id": "6918e8b1",
   "metadata": {},
   "outputs": [
    {
     "name": "stdout",
     "output_type": "stream",
     "text": [
      "3\n"
     ]
    }
   ],
   "source": [
    "# import numpy\n",
    "import numpy as np\n",
    "\n",
    "# create 2D array\n",
    "twoD = np.array([[1, 2, 3], [4, 5, 6]])\n",
    "\n",
    "# print the value in the first row, third column of our 2D array\n",
    "print(twoD[0][2])"
   ]
  },
  {
   "cell_type": "markdown",
   "id": "47d8b6ad",
   "metadata": {},
   "source": [
    "### Indexing 3D arrays"
   ]
  },
  {
   "cell_type": "markdown",
   "id": "c6238068",
   "metadata": {},
   "source": [
    "We can index 3D arrays by following this format:\n",
    "\n",
    "```\n",
    "array[array #, row #, column] = desired output\n",
    "```"
   ]
  },
  {
   "cell_type": "markdown",
   "id": "ce273f36",
   "metadata": {},
   "source": [
    "We can index a specific array within the 3D array:\n",
    "\n",
    "```\n",
    "array[array #, :, :] = array\n",
    "```"
   ]
  },
  {
   "cell_type": "code",
   "execution_count": 13,
   "id": "4ad8e3ca",
   "metadata": {},
   "outputs": [
    {
     "name": "stdout",
     "output_type": "stream",
     "text": [
      "[[ 7  8  9]\n",
      " [10 11 12]]\n"
     ]
    }
   ],
   "source": [
    "# import numpy\n",
    "import numpy as np\n",
    "\n",
    "# create two 2D arrays\n",
    "twoD0 = np.array([[1, 2, 3], [4, 5, 6]])\n",
    "twoD1 = np.array([[7, 8, 9], [10, 11, 12]])\n",
    "\n",
    "# put both arrays together\n",
    "threeD = np.array([twoD0, twoD1])\n",
    "\n",
    "# print second array within our 3D array\n",
    "print(threeD[1, :, :])"
   ]
  },
  {
   "cell_type": "markdown",
   "id": "e8ec7d4e",
   "metadata": {},
   "source": [
    "We can also index a specific row of an array within the 3D array:\n",
    "\n",
    "```\n",
    "array[array #, row #, :] = row of array\n",
    "```"
   ]
  },
  {
   "cell_type": "code",
   "execution_count": 16,
   "id": "e24c5e90",
   "metadata": {},
   "outputs": [
    {
     "name": "stdout",
     "output_type": "stream",
     "text": [
      "[1 2 3]\n"
     ]
    }
   ],
   "source": [
    "# import numpy\n",
    "import numpy as np\n",
    "\n",
    "# create two 2D arrays\n",
    "twoD0 = np.array([[1, 2, 3], [4, 5, 6]])\n",
    "twoD1 = np.array([[7, 8, 9], [10, 11, 12]])\n",
    "\n",
    "# put both arrays together\n",
    "threeD = np.array([twoD0, twoD1])\n",
    "\n",
    "# print first row of the first array within our 3D array\n",
    "print(threeD[0, 0, :])"
   ]
  },
  {
   "cell_type": "markdown",
   "id": "1f527f09",
   "metadata": {},
   "source": [
    "We can also index a specific column of an array within the 3D array:\n",
    "\n",
    "```\n",
    "array[array #, :, column #] = column of array\n",
    "```"
   ]
  },
  {
   "cell_type": "code",
   "execution_count": 2,
   "id": "27bf27f6",
   "metadata": {},
   "outputs": [
    {
     "name": "stdout",
     "output_type": "stream",
     "text": [
      "[ 7 10]\n"
     ]
    }
   ],
   "source": [
    "# import numpy\n",
    "import numpy as np\n",
    "\n",
    "# create two 2D arrays\n",
    "twoD0 = np.array([[1, 2, 3], [4, 5, 6]])\n",
    "twoD1 = np.array([[7, 8, 9], [10, 11, 12]])\n",
    "\n",
    "# put both arrays together\n",
    "threeD = np.array([twoD0, twoD1])\n",
    "\n",
    "# print first column of the second array within our 3D array\n",
    "print(threeD[1, :, 0])"
   ]
  },
  {
   "cell_type": "markdown",
   "id": "87074f80",
   "metadata": {},
   "source": [
    "## Exercises"
   ]
  },
  {
   "cell_type": "markdown",
   "id": "7bfef029",
   "metadata": {},
   "source": [
    "1. Try to index the 3D array defined below to find the 7 and 8."
   ]
  },
  {
   "cell_type": "code",
   "execution_count": null,
   "id": "cfd765c9",
   "metadata": {},
   "outputs": [],
   "source": [
    "# import numpy\n",
    "import numpy as np\n",
    "\n",
    "# create two 2D arrays\n",
    "twoD0 = np.array([[1, 2, 1], [8, 6, 6]])\n",
    "twoD1 = np.array([[1, 1, 7], [1, 0, 0]])\n",
    "\n",
    "# insert index code below"
   ]
  },
  {
   "cell_type": "markdown",
   "id": "17002a16",
   "metadata": {},
   "source": [
    "2. Use the NumPy function ```shape()``` on the previous 3D array from the first exercise. What does the output represent? Use this function on the 2D array twoD0 from the first exercise. What does this output represent?"
   ]
  },
  {
   "cell_type": "code",
   "execution_count": null,
   "id": "ac6de356",
   "metadata": {},
   "outputs": [],
   "source": [
    "# insert code here"
   ]
  },
  {
   "cell_type": "markdown",
   "id": "771e63de",
   "metadata": {},
   "source": [
    "3. Think about how one may create a 4D array. How many arrays do you believe you would need to create this? Try creating one below."
   ]
  },
  {
   "cell_type": "code",
   "execution_count": null,
   "id": "82480e84",
   "metadata": {},
   "outputs": [],
   "source": [
    "# insert code here"
   ]
  }
 ],
 "metadata": {
  "kernelspec": {
   "display_name": "Python 3 (ipykernel)",
   "language": "python",
   "name": "python3"
  },
  "language_info": {
   "codemirror_mode": {
    "name": "ipython",
    "version": 3
   },
   "file_extension": ".py",
   "mimetype": "text/x-python",
   "name": "python",
   "nbconvert_exporter": "python",
   "pygments_lexer": "ipython3",
   "version": "3.9.13"
  }
 },
 "nbformat": 4,
 "nbformat_minor": 5
}
