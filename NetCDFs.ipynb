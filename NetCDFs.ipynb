{
 "cells": [
  {
   "cell_type": "markdown",
   "id": "80b622c3",
   "metadata": {},
   "source": [
    "# NetCDFs"
   ]
  },
  {
   "cell_type": "markdown",
   "id": "c881b0a9",
   "metadata": {},
   "source": [
    "Although text files are useful, sometimes we have multiple datasets for various points either in time or space. When this occurs, we can store this these multiple items within **netCDFs**."
   ]
  },
  {
   "cell_type": "markdown",
   "id": "f3dde75e",
   "metadata": {},
   "source": [
    "<img src =\"https://2.bp.blogspot.com/-8H2FCuCGhWY/VoPgf3RpoNI/AAAAAAAAH44/EPHtpGb_UBc/s1600/metadata.jpg\">"
   ]
  },
  {
   "cell_type": "markdown",
   "id": "2766cf9d",
   "metadata": {},
   "source": [
    "By the end of this section, you will learn:\n",
    "\n",
    "* [what a netCDF is and why it is useful](#What-is-netCDF?)\n",
    "* [how to install netCDF4](#Installing-netCDF4)\n",
    "* [how to open a netCDF file](#How-to-open-a-netCDF-file)"
   ]
  },
  {
   "cell_type": "markdown",
   "id": "a8c7c886",
   "metadata": {},
   "source": [
    "## What is netCDF?"
   ]
  },
  {
   "cell_type": "markdown",
   "id": "a80d81fb",
   "metadata": {},
   "source": [
    "**NetCDF (network Common Data Form)** stores multidimensional data, such as spatial information, temporal information, and scientific information. It is not only a file format but a set of software libraries. [**Unidata**](https://www.unidata.ucar.edu/software/netcdf/) has more information, but in summary, netCDF data is highly useful and widely used amongst the community."
   ]
  },
  {
   "cell_type": "markdown",
   "id": "a9656e29",
   "metadata": {},
   "source": [
    "## Installing ```netCDF4```"
   ]
  },
  {
   "cell_type": "markdown",
   "id": "c721d182",
   "metadata": {},
   "source": [
    "In your terminal, type:\n",
    "\n",
    "```conda install netCDF4```\n",
    "\n",
    "or\n",
    "\n",
    "```pip install netCDF4```\n",
    "\n",
    "\n",
    "\n",
    "**_Warning: it may take a while to install_**"
   ]
  },
  {
   "cell_type": "markdown",
   "id": "bd62efb6",
   "metadata": {},
   "source": [
    "After installing ```netCDF4```, you can import it into Python by typing:\n",
    "\n",
    "```python\n",
    "import netCDF4 as nc\n",
    "```"
   ]
  },
  {
   "cell_type": "markdown",
   "id": "7f33bb20",
   "metadata": {},
   "source": [
    "## How to open a netCDF file"
   ]
  },
  {
   "cell_type": "markdown",
   "id": "ceba2f73",
   "metadata": {},
   "source": [
    "To open a netCDF file, we can use the ```Dataset()``` function:"
   ]
  },
  {
   "cell_type": "code",
   "execution_count": 11,
   "id": "3135d6e6",
   "metadata": {},
   "outputs": [],
   "source": [
    "import netCDF4 as nc\n",
    "dsst = nc.Dataset('sst_monthly.nc')"
   ]
  },
  {
   "cell_type": "markdown",
   "id": "2fc2a2d9",
   "metadata": {},
   "source": [
    "Before, we would use ```print()``` to output our result. However, with netCDFs, we can just type the name:"
   ]
  },
  {
   "cell_type": "code",
   "execution_count": 13,
   "id": "7e40e027",
   "metadata": {},
   "outputs": [
    {
     "data": {
      "text/plain": [
       "<class 'netCDF4._netCDF4.Dataset'>\n",
       "root group (NETCDF4 data model, file format HDF5):\n",
       "    dimensions(sizes): day(50), lat(361), lon(720)\n",
       "    variables(dimensions): float32 day(day), <class 'str'> day_str(day), float32 lat(lat), float32 lon(lon), float32 sst(day, lat, lon)\n",
       "    groups: "
      ]
     },
     "execution_count": 13,
     "metadata": {},
     "output_type": "execute_result"
    }
   ],
   "source": [
    "dsst"
   ]
  },
  {
   "cell_type": "markdown",
   "id": "9ec5edfa",
   "metadata": {},
   "source": [
    "The output is not our typical text file ouput, but it is showing us the list of variables in the file as well as the dimensions of those variables. We can look at variables within the file like this:"
   ]
  },
  {
   "cell_type": "code",
   "execution_count": 10,
   "id": "7d1fe638",
   "metadata": {},
   "outputs": [
    {
     "name": "stdout",
     "output_type": "stream",
     "text": [
      "[ 90.   89.5  89.   88.5  88.   87.5  87.   86.5  86.   85.5  85.   84.5\n",
      "  84.   83.5  83.   82.5  82.   81.5  81.   80.5  80.   79.5  79.   78.5\n",
      "  78.   77.5  77.   76.5  76.   75.5  75.   74.5  74.   73.5  73.   72.5\n",
      "  72.   71.5  71.   70.5  70.   69.5  69.   68.5  68.   67.5  67.   66.5\n",
      "  66.   65.5  65.   64.5  64.   63.5  63.   62.5  62.   61.5  61.   60.5\n",
      "  60.   59.5  59.   58.5  58.   57.5  57.   56.5  56.   55.5  55.   54.5\n",
      "  54.   53.5  53.   52.5  52.   51.5  51.   50.5  50.   49.5  49.   48.5\n",
      "  48.   47.5  47.   46.5  46.   45.5  45.   44.5  44.   43.5  43.   42.5\n",
      "  42.   41.5  41.   40.5  40.   39.5  39.   38.5  38.   37.5  37.   36.5\n",
      "  36.   35.5  35.   34.5  34.   33.5  33.   32.5  32.   31.5  31.   30.5\n",
      "  30.   29.5  29.   28.5  28.   27.5  27.   26.5  26.   25.5  25.   24.5\n",
      "  24.   23.5  23.   22.5  22.   21.5  21.   20.5  20.   19.5  19.   18.5\n",
      "  18.   17.5  17.   16.5  16.   15.5  15.   14.5  14.   13.5  13.   12.5\n",
      "  12.   11.5  11.   10.5  10.    9.5   9.    8.5   8.    7.5   7.    6.5\n",
      "   6.    5.5   5.    4.5   4.    3.5   3.    2.5   2.    1.5   1.    0.5\n",
      "   0.   -0.5  -1.   -1.5  -2.   -2.5  -3.   -3.5  -4.   -4.5  -5.   -5.5\n",
      "  -6.   -6.5  -7.   -7.5  -8.   -8.5  -9.   -9.5 -10.  -10.5 -11.  -11.5\n",
      " -12.  -12.5 -13.  -13.5 -14.  -14.5 -15.  -15.5 -16.  -16.5 -17.  -17.5\n",
      " -18.  -18.5 -19.  -19.5 -20.  -20.5 -21.  -21.5 -22.  -22.5 -23.  -23.5\n",
      " -24.  -24.5 -25.  -25.5 -26.  -26.5 -27.  -27.5 -28.  -28.5 -29.  -29.5\n",
      " -30.  -30.5 -31.  -31.5 -32.  -32.5 -33.  -33.5 -34.  -34.5 -35.  -35.5\n",
      " -36.  -36.5 -37.  -37.5 -38.  -38.5 -39.  -39.5 -40.  -40.5 -41.  -41.5\n",
      " -42.  -42.5 -43.  -43.5 -44.  -44.5 -45.  -45.5 -46.  -46.5 -47.  -47.5\n",
      " -48.  -48.5 -49.  -49.5 -50.  -50.5 -51.  -51.5 -52.  -52.5 -53.  -53.5\n",
      " -54.  -54.5 -55.  -55.5 -56.  -56.5 -57.  -57.5 -58.  -58.5 -59.  -59.5\n",
      " -60.  -60.5 -61.  -61.5 -62.  -62.5 -63.  -63.5 -64.  -64.5 -65.  -65.5\n",
      " -66.  -66.5 -67.  -67.5 -68.  -68.5 -69.  -69.5 -70.  -70.5 -71.  -71.5\n",
      " -72.  -72.5 -73.  -73.5 -74.  -74.5 -75.  -75.5 -76.  -76.5 -77.  -77.5\n",
      " -78.  -78.5 -79.  -79.5 -80.  -80.5 -81.  -81.5 -82.  -82.5 -83.  -83.5\n",
      " -84.  -84.5 -85.  -85.5 -86.  -86.5 -87.  -87.5 -88.  -88.5 -89.  -89.5\n",
      " -90. ]\n"
     ]
    }
   ],
   "source": [
    "import numpy as np\n",
    "\n",
    "# index the specific variable we want to look at\n",
    "dsst['lat']\n",
    "\n",
    "# put the items within the variable into a useable array\n",
    "sstlat = np.array(dsst['lat'])\n",
    "print(sstlat)"
   ]
  },
  {
   "cell_type": "markdown",
   "id": "94b94d92",
   "metadata": {},
   "source": [
    "## Exercises"
   ]
  },
  {
   "cell_type": "markdown",
   "id": "4ce2ef1e",
   "metadata": {},
   "source": [
    "1. Make an array of the variable \"sst\" and find its shape."
   ]
  },
  {
   "cell_type": "code",
   "execution_count": null,
   "id": "7ddf691e",
   "metadata": {},
   "outputs": [],
   "source": [
    "# insert code here"
   ]
  },
  {
   "cell_type": "markdown",
   "id": "14963c30",
   "metadata": {},
   "source": [
    "2."
   ]
  },
  {
   "cell_type": "code",
   "execution_count": null,
   "id": "cc342b9e",
   "metadata": {},
   "outputs": [],
   "source": []
  }
 ],
 "metadata": {
  "kernelspec": {
   "display_name": "Python 3 (ipykernel)",
   "language": "python",
   "name": "python3"
  },
  "language_info": {
   "codemirror_mode": {
    "name": "ipython",
    "version": 3
   },
   "file_extension": ".py",
   "mimetype": "text/x-python",
   "name": "python",
   "nbconvert_exporter": "python",
   "pygments_lexer": "ipython3",
   "version": "3.9.13"
  }
 },
 "nbformat": 4,
 "nbformat_minor": 5
}
