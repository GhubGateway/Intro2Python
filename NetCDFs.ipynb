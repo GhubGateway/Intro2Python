{
 "cells": [
  {
   "cell_type": "markdown",
   "id": "80b622c3",
   "metadata": {},
   "source": [
    "# NetCDFs"
   ]
  },
  {
   "cell_type": "markdown",
   "id": "c881b0a9",
   "metadata": {},
   "source": [
    "an intro..."
   ]
  },
  {
   "cell_type": "markdown",
   "id": "f3dde75e",
   "metadata": {},
   "source": [
    "<img src =\"https://2.bp.blogspot.com/-8H2FCuCGhWY/VoPgf3RpoNI/AAAAAAAAH44/EPHtpGb_UBc/s1600/metadata.jpg\">"
   ]
  },
  {
   "cell_type": "markdown",
   "id": "2766cf9d",
   "metadata": {},
   "source": [
    "By the end of this section, you will learn:\n",
    "\n",
    "* [what is netCDF and why it is useful](#What-is-netCDF?)\n",
    "* [how to install netCDF4](#Installing-netCDF4)"
   ]
  },
  {
   "cell_type": "markdown",
   "id": "a8c7c886",
   "metadata": {},
   "source": [
    "## What is netCDF?"
   ]
  },
  {
   "cell_type": "markdown",
   "id": "a80d81fb",
   "metadata": {},
   "source": [
    "**NetCDF (network Common Data Form)** stores multidimensional data, such as spatial information, temporal information, and scientific information. It is not only a file format but a set of software libraries. [**Unidata**](https://www.unidata.ucar.edu/software/netcdf/) has more information, but in summary, netCDF data is highly useful and widely used amongst the community."
   ]
  },
  {
   "cell_type": "markdown",
   "id": "a9656e29",
   "metadata": {},
   "source": [
    "## Installing ```netCDF4```"
   ]
  },
  {
   "cell_type": "markdown",
   "id": "c721d182",
   "metadata": {},
   "source": [
    "In your terminal, type:\n",
    "\n",
    "```conda install netCDF4```\n",
    "\n",
    "or\n",
    "\n",
    "```pip install netCDF4```\n",
    "\n",
    "\n",
    "\n",
    "**_Warning: it may take a while to install_**"
   ]
  },
  {
   "cell_type": "markdown",
   "id": "bd62efb6",
   "metadata": {},
   "source": [
    "After installing ```netCDF4```, you can import it into Python by typing:\n",
    "\n",
    "```python\n",
    "import netCDF4 as nc\n",
    "```"
   ]
  },
  {
   "cell_type": "markdown",
   "id": "7f33bb20",
   "metadata": {},
   "source": [
    "## How to open a netCDF file"
   ]
  },
  {
   "cell_type": "markdown",
   "id": "ceba2f73",
   "metadata": {},
   "source": []
  }
 ],
 "metadata": {
  "kernelspec": {
   "display_name": "Python 3 (ipykernel)",
   "language": "python",
   "name": "python3"
  },
  "language_info": {
   "codemirror_mode": {
    "name": "ipython",
    "version": 3
   },
   "file_extension": ".py",
   "mimetype": "text/x-python",
   "name": "python",
   "nbconvert_exporter": "python",
   "pygments_lexer": "ipython3",
   "version": "3.9.13"
  }
 },
 "nbformat": 4,
 "nbformat_minor": 5
}
