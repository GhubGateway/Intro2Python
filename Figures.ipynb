{
 "cells": [
  {
   "cell_type": "markdown",
   "id": "fc893583",
   "metadata": {},
   "source": [
    "# Figures!"
   ]
  },
  {
   "cell_type": "markdown",
   "id": "f09ca6f5",
   "metadata": {},
   "source": [
    "One of most important things in any field, besides data-collecting, is the ability to effectively communicate your data. Sometimes this includes visually, such as **figures**! Here, we will use ```matplotlib``` and ```pylot``` to create figures."
   ]
  },
  {
   "cell_type": "markdown",
   "id": "552fbc00",
   "metadata": {},
   "source": [
    "<img src=\"https://img.ifunny.co/images/fcd298bb355a4b5c09bb8960aad5d13ce875f4830dc9b978f88887db2b0a9613_1.jpg\" >"
   ]
  },
  {
   "cell_type": "markdown",
   "id": "d57cae65",
   "metadata": {},
   "source": [
    "By the end of this section, you will:\n",
    "* [learn to download ```matplotlib``` and import ```pyplot```](#matplotlib-and-pyplot)\n",
    "* [learn about some ```pyplot``` functions](#The-different-functions-in-pyplot)\n",
    "* [learn to create your own figures](#Creating-your-own-figures)"
   ]
  },
  {
   "cell_type": "markdown",
   "id": "4a623acc",
   "metadata": {},
   "source": [
    "## ```matplotlib``` and ```pyplot```"
   ]
  },
  {
   "cell_type": "markdown",
   "id": "a11101a4",
   "metadata": {},
   "source": [
    "[Matplotlib](https://matplotlib.org/) is an open-source, data visualization library that allows you to make quality plots, interactive figures, and more. If you have Python already installed, you can install ```matplotlib``` with the following command in your terminal:\n",
    "\n",
    "```conda install matplotlib```\n",
    "\n",
    "or\n",
    "\n",
    "```pip install matplotlib```"
   ]
  },
  {
   "cell_type": "markdown",
   "id": "5f81da24",
   "metadata": {},
   "source": [
    "After installing ```matplotlib```, we can then import ```pyplot```. ```pyplot``` is a package within ```matplotlib``` that contains most of the plotting utilities. We can import it by typing this:\n",
    "\n",
    "```python\n",
    "import matplotlib.pyplot as plt\n",
    "```\n",
    "\n",
    "\n",
    "Reminder that we can import libraries as abbreviations to avoid typing the whole entire name over and over again."
   ]
  },
  {
   "cell_type": "markdown",
   "id": "4de2ba62",
   "metadata": {},
   "source": [
    "## The different functions in ```pyplot```"
   ]
  },
  {
   "cell_type": "markdown",
   "id": "85a2ea48",
   "metadata": {},
   "source": [
    "There are many functions within ```pyplot```. We will only be using a few, but should you get curious you can use [this link](https://matplotlib.org/3.1.1/api/pyplot_summary.html) to view more. We will use these functions to begin with:\n",
    "\n",
    "|Function|Description|\n",
    "|-|-:|\n",
    "|```figure()```|create a new figure|\n",
    "|```ion()```|turn on interactive mode|\n",
    "|```show()```|display a figure|\n",
    "|```plot()```|make a x-y line and/or marker plot|\n",
    "|```xlabel()```|add a label to x-axis|\n",
    "|```ylabel()```|add a label to y-axis|\n",
    "|```title()```|add a title to plot|"
   ]
  },
  {
   "cell_type": "markdown",
   "id": "e2942797",
   "metadata": {},
   "source": [
    "If you wanted to create a different figure, such as a scatter plot or bar graph, you can use these functions:\n",
    "\n",
    "|Function|Description|\n",
    "|-|-:|\n",
    "|```bar()```|create a bar graph|\n",
    "|```barh()```|create a horizontal |\n",
    "|```boxplot()```|create box and whisker plot|\n",
    "|```hist()```|create a histogram|\n",
    "|```pie()```|create a pie chart|"
   ]
  },
  {
   "cell_type": "markdown",
   "id": "569eb272",
   "metadata": {},
   "source": [
    "Some aesthetic functions that may be useful are:\n",
    "\n",
    "|Function|Description|\n",
    "|-|-:|\n",
    "|```figlegend()```|add a legend to your figure|\n",
    "|```figtext()```|add text to figure|\n",
    "|```grid()```|add grid lines|\n",
    "|```legend()```|place legend onto axes|\n",
    "|```minorticks_on()```|adds minor ticks on axes|\n",
    "|```xscale()```|set x-axis scale|\n",
    "|```yscale()```|set y-axis scale|\n",
    "\n",
    "Reminder that you can use the ```help``` function to look up the input arguments of each function."
   ]
  },
  {
   "cell_type": "markdown",
   "id": "46f97426",
   "metadata": {},
   "source": [
    "## Creating your own figure"
   ]
  },
  {
   "cell_type": "code",
   "execution_count": null,
   "id": "2f8157d6",
   "metadata": {},
   "outputs": [],
   "source": []
  }
 ],
 "metadata": {
  "kernelspec": {
   "display_name": "Python 3 (ipykernel)",
   "language": "python",
   "name": "python3"
  },
  "language_info": {
   "codemirror_mode": {
    "name": "ipython",
    "version": 3
   },
   "file_extension": ".py",
   "mimetype": "text/x-python",
   "name": "python",
   "nbconvert_exporter": "python",
   "pygments_lexer": "ipython3",
   "version": "3.9.13"
  }
 },
 "nbformat": 4,
 "nbformat_minor": 5
}
