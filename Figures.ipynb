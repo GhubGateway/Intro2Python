{
 "cells": [
  {
   "cell_type": "markdown",
   "id": "fc893583",
   "metadata": {},
   "source": [
    "# Figures!"
   ]
  },
  {
   "cell_type": "markdown",
   "id": "0af21061",
   "metadata": {},
   "source": [
    "One of most important things in any field, besides data-collecting, is the ability to effectively communicate your data. Sometimes this includes visually, such as **figures**! Here, we will use ```matplotlib``` and ```pylot``` to create figures."
   ]
  },
  {
   "cell_type": "markdown",
   "id": "1c90756b",
   "metadata": {},
   "source": [
    "<img src=\"https://img.ifunny.co/images/fcd298bb355a4b5c09bb8960aad5d13ce875f4830dc9b978f88887db2b0a9613_1.jpg\" >"
   ]
  },
  {
   "cell_type": "markdown",
   "id": "cb43c9f3",
   "metadata": {},
   "source": [
    "By the end of this section, you will learn:\n",
    "* [to download matplotlib and import pyplot](#matplotlib-and-pyplot)\n",
    "* [about some pyplot functions](#The-different-functions-in-pyplot)\n",
    "* [to create](#Creating-a-x-y-line-plot)\n",
    "* [learn to create different plots](#Creating-a-different-type-of-plot)"
   ]
  },
  {
   "cell_type": "markdown",
   "id": "e2a77c4a",
   "metadata": {},
   "source": [
    "## ```matplotlib``` and ```pyplot```"
   ]
  },
  {
   "cell_type": "markdown",
   "id": "338b4a90",
   "metadata": {},
   "source": [
    "[Matplotlib](https://matplotlib.org/) is an open-source, data visualization library that allows you to make quality plots, interactive figures, and more. If you have Python already installed, you can install ```matplotlib``` with the following command in your terminal:\n",
    "\n",
    "```conda install matplotlib```\n",
    "\n",
    "or\n",
    "\n",
    "```pip install matplotlib```"
   ]
  },
  {
   "cell_type": "markdown",
   "id": "55784779",
   "metadata": {},
   "source": [
    "After installing ```matplotlib```, we can then import ```pyplot```. ```pyplot``` is a package within ```matplotlib``` that contains most of the plotting utilities. We can import it by typing this:\n",
    "\n",
    "```python\n",
    "import matplotlib.pyplot as plt\n",
    "```\n",
    "\n",
    "\n",
    "Reminder that we can import libraries as abbreviations to avoid typing the whole entire name over and over again."
   ]
  },
  {
   "cell_type": "markdown",
   "id": "312d5f22",
   "metadata": {},
   "source": [
    "## The different functions in ```pyplot```"
   ]
  },
  {
   "cell_type": "markdown",
   "id": "d2909c76",
   "metadata": {},
   "source": [
    "There are many functions within ```pyplot```. We will only be using a few, but should you get curious you can use [this link](https://matplotlib.org/3.1.1/api/pyplot_summary.html) to view more. We will use these functions to begin with:\n",
    "\n",
    "|Function|Description|\n",
    "|-|-:|\n",
    "|```figure()```|create a new figure|\n",
    "|```ion()```|turn on interactive mode|\n",
    "|```show()```|display a figure|\n",
    "|```plot()```|make a x-y line and/or marker plot|\n",
    "|```xlabel()```|add a label to x-axis|\n",
    "|```ylabel()```|add a label to y-axis|\n",
    "|```title()```|add a title to plot|"
   ]
  },
  {
   "cell_type": "markdown",
   "id": "87659670",
   "metadata": {},
   "source": [
    "If you wanted to create a different figure, such as a scatter plot or bar graph, you can use these functions:\n",
    "\n",
    "|Function|Description|\n",
    "|-|-:|\n",
    "|```scatter```|scatter plot|\n",
    "|```bar()```|bar graph|\n",
    "|```barh()```|horizontal bar graph|\n",
    "|```boxplot()```|box and whisker plot|\n",
    "|```hist()```|histogram|\n",
    "|```pie()```|pie chart|"
   ]
  },
  {
   "cell_type": "markdown",
   "id": "202f8dea",
   "metadata": {},
   "source": [
    "Some aesthetic functions that may be useful are:\n",
    "\n",
    "|Function|Description|\n",
    "|-|-:|\n",
    "|```figlegend()```|add a legend to your figure|\n",
    "|```figtext()```|add text to figure|\n",
    "|```grid()```|add grid lines|\n",
    "|```legend()```|place legend onto axes|\n",
    "|```minorticks_on()```|adds minor ticks on axes|\n",
    "|```xscale()```|set x-axis scale|\n",
    "|```yscale()```|set y-axis scale|\n",
    "\n",
    "Reminder that you can use the ```help``` function to look up the input arguments of each function."
   ]
  },
  {
   "cell_type": "markdown",
   "id": "b5ed27e3",
   "metadata": {},
   "source": [
    "## Creating a x-y line plot"
   ]
  },
  {
   "cell_type": "markdown",
   "id": "b0d34ec9",
   "metadata": {},
   "source": [
    "Now that we've reviewed some important functions, we can create our own figure. We can follow the below *recipe* to create a x-y plot:"
   ]
  },
  {
   "cell_type": "code",
   "execution_count": 12,
   "id": "6fbe4882",
   "metadata": {},
   "outputs": [
    {
     "data": {
      "image/png": "[encoded data removed]",
      "text/plain": [
       "<Figure size 640x480 with 1 Axes>"
      ]
     },
     "metadata": {},
     "output_type": "display_data"
    }
   ],
   "source": [
    "# creating a figure\n",
    "# first import necessary libraries\n",
    "import numpy as np\n",
    "import matplotlib.pyplot as plt\n",
    "\n",
    "# now create some x and y points\n",
    "x = np.arange(1,11,1)\n",
    "y = np.arange(2,21,2)\n",
    "\n",
    "# now let's create a new figure and name it 1\n",
    "plt.figure(1)\n",
    "\n",
    "# let's now plot our x and y points as a line with markers\n",
    "plt.plot(x,y, 'o-') # o- means a line with markers\n",
    "\n",
    "# let's add a title and labels\n",
    "plt.title('My Figure')\n",
    "plt.xlabel('x-axis')\n",
    "plt.ylabel('y-axis')\n",
    "\n",
    "# finally let's show our plot\n",
    "plt.show()"
   ]
  },
  {
   "cell_type": "markdown",
   "id": "586f43cc",
   "metadata": {},
   "source": [
    "## Creating a different type of plot"
   ]
  },
  {
   "cell_type": "markdown",
   "id": "158eeae0",
   "metadata": {},
   "source": [
    "We can alter our *recipe* to create different plots. Again, if you do not know what the input arguments are, you can use the ```help()``` function. In your code, you would need change the function being utilized. So you would change from ```plot()``` to a different function (ex: ```bar()``` or ```scatter()```). \n",
    "\n",
    "Here is an example:"
   ]
  },
  {
   "cell_type": "code",
   "execution_count": 15,
   "id": "c4bf931b",
   "metadata": {},
   "outputs": [
    {
     "data": {
      "image/png": "[encoded data removed]",
      "text/plain": [
       "<Figure size 640x480 with 1 Axes>"
      ]
     },
     "metadata": {},
     "output_type": "display_data"
    }
   ],
   "source": [
    "# creating a figure\n",
    "# first import necessary libraries\n",
    "import numpy as np\n",
    "import matplotlib.pyplot as plt\n",
    "\n",
    "# now create some x and y points\n",
    "x = np.arange(1,11,1)\n",
    "y = np.arange(2,21,2)\n",
    "\n",
    "# now let's create a new figure and name it 1\n",
    "plt.figure(1)\n",
    "\n",
    "# let's now plot our x and y points as a line with markers\n",
    "plt.bar(x,y) # CHANGED FROM PLOT TO BAR\n",
    "\n",
    "# let's add a title and labels\n",
    "plt.title('My Figure')\n",
    "plt.xlabel('x-axis')\n",
    "plt.ylabel('y-axis')\n",
    "\n",
    "# finally let's show our plot\n",
    "plt.show()"
   ]
  },
  {
   "cell_type": "markdown",
   "id": "78869427",
   "metadata": {},
   "source": [
    "## Formatting and Styles"
   ]
  },
  {
   "cell_type": "markdown",
   "id": "d9db3095",
   "metadata": {},
   "source": [
    "Notice that the third argument within the ```plot()``` function is a **string**. If you wanted to change the color or format of the x-y line, you could alter the third argument within the ```plot()``` function:\n",
    "\n",
    "|Input|Marker|\n",
    "|-|-:|\n",
    "|'.'|point marker|\n",
    "|','|pixel marker|\n",
    "|'o'|circle marker|\n",
    "|'^'|triangle pointed up marker|\n",
    "|'```*```'|star marker|\n",
    "|'x'|x marker|\n",
    "\n",
    "|Input|Line Style|\n",
    "|-|-:|\n",
    "|'-'|solid line|\n",
    "|'--'|dashed line|\n",
    "|'-.'|dash dot line|\n",
    "|':'|dotted line|\n",
    "\n",
    "|Input|Color|\n",
    "|-|-:|\n",
    "|'b'|blue|\n",
    "|'g'|green|\n",
    "|'r'|red|\n",
    "|'c'|cyan|\n",
    "|'m'|magenta|\n",
    "|'y'|yelow|\n",
    "|'k'|black|\n",
    "|'w'|white|"
   ]
  },
  {
   "cell_type": "markdown",
   "id": "14baceb5",
   "metadata": {},
   "source": [
    "## Exercises"
   ]
  },
  {
   "cell_type": "code",
   "execution_count": null,
   "id": "a438287b",
   "metadata": {},
   "outputs": [],
   "source": []
  }
 ],
 "metadata": {
  "kernelspec": {
   "display_name": "Python 3 (ipykernel)",
   "language": "python",
   "name": "python3"
  },
  "language_info": {
   "codemirror_mode": {
    "name": "ipython",
    "version": 3
   },
   "file_extension": ".py",
   "mimetype": "text/x-python",
   "name": "python",
   "nbconvert_exporter": "python",
   "pygments_lexer": "ipython3",
   "version": "3.9.13"
  }
 },
 "nbformat": 4,
 "nbformat_minor": 5
}
