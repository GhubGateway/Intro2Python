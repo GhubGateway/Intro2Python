{
 "cells": [
  {
   "cell_type": "markdown",
   "id": "cf9712d2",
   "metadata": {},
   "source": [
    "# Creating Functions"
   ]
  },
  {
   "cell_type": "markdown",
   "id": "db0e760c",
   "metadata": {},
   "source": [
    "Now that we got our [introduction to functions](Introduction2Functions.ipynb), we can learn about creating our own functions. **(I don't know what else to say)**"
   ]
  },
  {
   "cell_type": "markdown",
   "id": "7c6d3cfc",
   "metadata": {},
   "source": [
    "<img src=\"https://inventyourshit.com/wp-content/uploads/2020/11/4lirk9.jpg\" >"
   ]
  },
  {
   "cell_type": "markdown",
   "id": "d79e8897",
   "metadata": {},
   "source": [
    "By the end of this section, you will:\n",
    "* **know the basic format of creating your own function**\n",
    "* **be able to create your own functions**"
   ]
  },
  {
   "cell_type": "markdown",
   "id": "13b68e14",
   "metadata": {},
   "source": [
    "## Basic Format"
   ]
  },
  {
   "cell_type": "markdown",
   "id": "4962febc",
   "metadata": {},
   "source": [
    "There is a basic format to follow when creating your function:\n",
    "\n",
    "```python\n",
    "def myfunction(args,kwargs=defaultvalue) :\n",
    "    output = (do something w/ args)\n",
    "    return output\n",
    "```\n",
    "\n",
    "Remember you will need to call your function in order to use it:\n",
    "\n",
    "```python\n",
    "newvar = myfunction(args)\n",
    "```\n",
    "\n",
    "\n",
    "You will also need to define ```kwargs``` within your function or else it will return an error:"
   ]
  },
  {
   "cell_type": "code",
   "execution_count": null,
   "id": "fa4e88f2",
   "metadata": {},
   "outputs": [],
   "source": [
    "# import the numpy package! We will use the prefix np\n",
    "import numpy as np\n",
    "\n",
    "# define a function that takes two arguments:\n",
    "# arg1 and arg2\n",
    "# and one keyword argument:\n",
    "# kwarg=1\n",
    "def myfunction(arg1,arg2):\n",
    "\n",
    "    # Divide arg1 by arg2, and scale the result by kwarg\n",
    "    output = (arg1/arg2)*kwarg\n",
    "\n",
    "    # print the answer, and round the result to two decimal places\n",
    "    print(\"answer is: \"+str(np.round(output,2)))\n",
    "\n",
    "    # Return our final value!!\n",
    "    return output\n",
    "\n",
    "# Call the function, and assign the output to variable \"newvar\"\n",
    "newvar = myfunction(1e7,1e6)"
   ]
  },
  {
   "cell_type": "markdown",
   "id": "4d8b4795",
   "metadata": {},
   "source": [
    "Here is an example of the corrected function:"
   ]
  },
  {
   "cell_type": "code",
   "execution_count": null,
   "id": "7822165d",
   "metadata": {},
   "outputs": [],
   "source": [
    "# import the numpy package! We will use the prefix np\n",
    "import numpy as np\n",
    "\n",
    "# define a function that takes two arguments:\n",
    "# arg1 and arg2\n",
    "# and one keyword argument:\n",
    "# kwarg=1\n",
    "def myfunction(arg1,arg2,kwarg=1):\n",
    "\n",
    "    # Divide arg1 by arg2, and scale the result by kwarg\n",
    "    output = (arg1/arg2)*kwarg\n",
    "\n",
    "    # print the answer, and round the result to two decimal places\n",
    "    print(\"answer is: \"+str(np.round(output,2)))\n",
    "\n",
    "    # Return our final value!!\n",
    "    return output\n",
    "\n",
    "# Call the function, and assign the output to variable \"newvar\"\n",
    "newvar = myfunction(1e7,1e6)"
   ]
  },
  {
   "cell_type": "code",
   "execution_count": null,
   "id": "d6d91c29",
   "metadata": {},
   "outputs": [],
   "source": []
  }
 ],
 "metadata": {
  "kernelspec": {
   "display_name": "Python 3 (ipykernel)",
   "language": "python",
   "name": "python3"
  },
  "language_info": {
   "codemirror_mode": {
    "name": "ipython",
    "version": 3
   },
   "file_extension": ".py",
   "mimetype": "text/x-python",
   "name": "python",
   "nbconvert_exporter": "python",
   "pygments_lexer": "ipython3",
   "version": "3.9.13"
  }
 },
 "nbformat": 4,
 "nbformat_minor": 5
}
