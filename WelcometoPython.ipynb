{
 "cells": [
  {
   "cell_type": "markdown",
   "id": "afb8c74f",
   "metadata": {},
   "source": [
    "# Welcome to Python!"
   ]
  },
  {
   "cell_type": "markdown",
   "id": "4bdd2405",
   "metadata": {},
   "source": [
    "Python is a widely used language within the science community and outside of it. During this module, you will learn how to use python in many ways, such as creating plots, reading text files, and displaying data."
   ]
  },
  {
   "cell_type": "markdown",
   "id": "85631dfc",
   "metadata": {},
   "source": [
    "<img src=\"https://miro.medium.com/v2/resize:fit:1400/format:webp/1*Ud_bNdeWPf4iN1EcydaDFA.png\">"
   ]
  },
  {
   "cell_type": "markdown",
   "id": "d365d0ef",
   "metadata": {},
   "source": [
    "In this beginning section, we will learn:\n",
    "* [how to read code](#Reading-Code)\n",
    "* [Python syntax](#Python-Syntax)\n",
    "* [how to write your own code](#Writing-your-own-code)"
   ]
  },
  {
   "cell_type": "markdown",
   "id": "01d02827",
   "metadata": {},
   "source": [
    "## Reading Code"
   ]
  },
  {
   "cell_type": "markdown",
   "id": "9c6d6b38",
   "metadata": {},
   "source": [
    "When you first look at code, it can be overwhelming. We are going to break it down into bite-size pieces to better understand it.\n",
    "\n",
    "Let's break down this block of code:"
   ]
  },
  {
   "cell_type": "code",
   "execution_count": null,
   "id": "1d968ba5",
   "metadata": {},
   "outputs": [],
   "source": [
    "import numpy as np\n",
    "import matplotlib.pyplot as plt\n",
    "\n",
    "# Price of cars over time\n",
    "time = np.arange(1950, 2020, 10)\n",
    "price = np.array([10000, 15000, 18500, 26800, 33500, 42700, 30500])\n",
    "\n",
    "# Graph it\n",
    "plt.figure(1)\n",
    "plt.plot(time, price,'r-')\n",
    "plt.title('Average price of cars from 1950 to 2020')\n",
    "plt.xlabel('Time')\n",
    "plt.ylabel('Price')"
   ]
  },
  {
   "cell_type": "markdown",
   "id": "bba44a67",
   "metadata": {},
   "source": [
    "The **first part** is:\n",
    "\n",
    "```python\n",
    "import numpy as np\n",
    "import matplotlib.pyplot as plt\n",
    "```\n",
    "\n",
    "Numpy and Matplotlib are both library packages that are used in Python (numpy is a numerical package and Matplotlib is a data visualization package). We won't go into detail about what each has to offer but for now you should know that each has to be imported to be utilized."
   ]
  },
  {
   "cell_type": "markdown",
   "id": "4ffd958b",
   "metadata": {},
   "source": [
    "The **second part** is:\n",
    "```python\n",
    "# Price of cars over time\n",
    "time = np.arange(1950, 2020, 10)\n",
    "price = np.array([10000, 15000, 18500, 26800, 33500, 42700, 30500])\n",
    "```\n",
    "\n",
    "The user is making the comment \"Price of cars over time\" and creating two variables: time and price. Comments can be made by using #. The NumPy function ```arange()``` is used to create a time range from 1950 to 2020 with a 10 year interval. The NumPy function ```array()``` is used to create an array of price values."
   ]
  },
  {
   "cell_type": "markdown",
   "id": "4d972d48",
   "metadata": {},
   "source": [
    "We'll split the **last part** in half. Let's deal with the **first three lines** :\n",
    "\n",
    "```python\n",
    "# Graph it\n",
    "plt.figure(1)\n",
    "plt.plot(time, price,'r-')\n",
    "```\n",
    "\n",
    "A comment is first made \"Graph it\" using the #. The next line is using the Matplotlib package to create a new figure where the user will plot the information. The figure is designated as 1, hence the 1 within the (). The third line is now plotting the information (previous variables made) using pylab. The first input is the x-axis, the second is the y-axis, and the third is the color of the line: red. \n",
    "\n",
    "\n",
    "The **last three lines** are as follows:\n",
    "\n",
    "```python\n",
    "plt.title('Average price of cars from 1950 to 2020')\n",
    "plt.xlabel('Time')\n",
    "plt.ylabel('Price')\n",
    "```\n",
    "\n",
    "The first line is adding a title to the graph using quotations. The second line is adding a label to the x-axis using quotations. The third line is adding a label to the y-axis using quotations."
   ]
  },
  {
   "cell_type": "markdown",
   "id": "b7b03e77",
   "metadata": {},
   "source": [
    "## Python Syntax"
   ]
  },
  {
   "cell_type": "markdown",
   "id": "a45b5cf6",
   "metadata": {},
   "source": [
    "Syntax is *extremely* important in writing code. It could make or break your code (**_literally_**)."
   ]
  },
  {
   "cell_type": "markdown",
   "id": "79bc855a",
   "metadata": {},
   "source": [
    "### Comments"
   ]
  },
  {
   "cell_type": "markdown",
   "id": "4e65fd80",
   "metadata": {},
   "source": [
    "**Comments** explain what a variable is, what a function is doing, and it is morally wrong not to do so. When writing your own code, it's a good rule of thumb to have **_at least one comment per three lines of code_**."
   ]
  },
  {
   "cell_type": "markdown",
   "id": "59cf160c",
   "metadata": {},
   "source": [
    "To make a comment, you use a ```#``` . Here is an example:"
   ]
  },
  {
   "cell_type": "code",
   "execution_count": 19,
   "id": "bf2b061e",
   "metadata": {},
   "outputs": [],
   "source": [
    "# This is a comment stating comments are cool!"
   ]
  },
  {
   "cell_type": "markdown",
   "id": "690e770f",
   "metadata": {},
   "source": [
    "### Indentations"
   ]
  },
  {
   "cell_type": "markdown",
   "id": "39b04c6b",
   "metadata": {},
   "source": [
    "There are certain times when an **identation** is needed (ex: ```if``` statements). An example is:"
   ]
  },
  {
   "cell_type": "code",
   "execution_count": null,
   "id": "c20a8929",
   "metadata": {},
   "outputs": [],
   "source": [
    "if 1 > 0.5:\n",
    "    print('yay!')"
   ]
  },
  {
   "cell_type": "markdown",
   "id": "94b18d12",
   "metadata": {},
   "source": [
    "If there was no indentation we could get an error. Run the following example:"
   ]
  },
  {
   "cell_type": "code",
   "execution_count": null,
   "id": "171f91bc",
   "metadata": {},
   "outputs": [],
   "source": [
    "if 1 > 0.5:\n",
    "print('yay!')"
   ]
  },
  {
   "cell_type": "markdown",
   "id": "94034c1a",
   "metadata": {},
   "source": [
    "### ```print()``` function"
   ]
  },
  {
   "cell_type": "markdown",
   "id": "7c926dcb",
   "metadata": {},
   "source": [
    "You can make a variable, however you it will not be outputted unless you use the ```print()``` function. Let's run the code below:"
   ]
  },
  {
   "cell_type": "code",
   "execution_count": 22,
   "id": "88684ea8",
   "metadata": {},
   "outputs": [],
   "source": [
    "x = 3"
   ]
  },
  {
   "cell_type": "markdown",
   "id": "fb703238",
   "metadata": {},
   "source": [
    "Now let's add ```print(x)```:"
   ]
  },
  {
   "cell_type": "code",
   "execution_count": 23,
   "id": "d5197078",
   "metadata": {},
   "outputs": [
    {
     "name": "stdout",
     "output_type": "stream",
     "text": [
      "3\n"
     ]
    }
   ],
   "source": [
    "x = 3\n",
    "print(x)"
   ]
  },
  {
   "cell_type": "markdown",
   "id": "4aea0c76",
   "metadata": {},
   "source": [
    "## Writing your own code"
   ]
  },
  {
   "cell_type": "markdown",
   "id": "770fd2c4",
   "metadata": {},
   "source": [
    "When writing code, not only do we have to keep syntax in mind, but we also need to name our variables appropriately."
   ]
  },
  {
   "cell_type": "markdown",
   "id": "63ca4e40",
   "metadata": {},
   "source": [
    "### Naming Variables"
   ]
  },
  {
   "cell_type": "markdown",
   "id": "7acbb800",
   "metadata": {},
   "source": [
    "We have the power to name our variables. This provides us the opportunity to stay organized in our code. There are some rules, however, to naming variables:\n",
    "* it must start with a letter or underscore (no numbers!)\n",
    "* can only contain letters, numbers, and underscores\n",
    "* they are case-sensitive"
   ]
  },
  {
   "cell_type": "markdown",
   "id": "259d3c45",
   "metadata": {},
   "source": [
    "Here are examples of **_bad_** variable names:\n",
    "\n",
    "```relativehumidity_for_1999```\n",
    "\n",
    "```relhum```\n",
    "\n",
    "```data1```"
   ]
  },
  {
   "cell_type": "markdown",
   "id": "f5ae9063",
   "metadata": {},
   "source": [
    "There are different ways to change these names to make them **_better_** :\n",
    "1. We can shorten it\n",
    "\n",
    "```relhum1999```\n",
    "\n",
    "2. We can make it more specific\n",
    "\n",
    "```relhum_buff```"
   ]
  },
  {
   "cell_type": "markdown",
   "id": "293f677d",
   "metadata": {},
   "source": [
    "### Comment Example"
   ]
  },
  {
   "cell_type": "markdown",
   "id": "18aae305",
   "metadata": {},
   "source": [
    "As previously mentioned, you should have **_at least one comment per three lines of code_**. Here is a good example of commenting:"
   ]
  },
  {
   "cell_type": "code",
   "execution_count": null,
   "id": "cf6acb92",
   "metadata": {},
   "outputs": [],
   "source": [
    "# Define two variables, each a float with a different value\n",
    "variable1 = 2742.\n",
    "variable2 = 312.\n",
    "\n",
    "# multiply the variables by each other\n",
    "product = variable1*variable2\n",
    "\n",
    "# These are three different ways of printing the variables multiplied by each\n",
    "# other!# Define two variables, each a float with a different value\n",
    "variable1 = 2742.\n",
    "variable2 = 312.\n",
    "\n",
    "# multiply the variables by each other\n",
    "product = variable1*variable2\n",
    "\n",
    "# These are three different ways of printing the variables multiplied by each\n",
    "# other!\n",
    "print(variable1*variable2)\n",
    "print(product)\n",
    "print('Product of variables = ' + str(product))\n",
    "\n",
    "# last print statement\n",
    "print('hello world')\n",
    "print(variable1*variable2)\n",
    "print(product)\n",
    "print('Product of variables = ' + str(product))\n",
    "\n",
    "# last print statement\n",
    "print('hello world')"
   ]
  },
  {
   "cell_type": "markdown",
   "id": "e5b2493e",
   "metadata": {},
   "source": [
    "\n",
    "\n",
    "**For now, these two things are important to keep in mind. We will go over more things as you progress through this module.**"
   ]
  }
 ],
 "metadata": {
  "kernelspec": {
   "display_name": "Python 3 (ipykernel)",
   "language": "python",
   "name": "python3"
  },
  "language_info": {
   "codemirror_mode": {
    "name": "ipython",
    "version": 3
   },
   "file_extension": ".py",
   "mimetype": "text/x-python",
   "name": "python",
   "nbconvert_exporter": "python",
   "pygments_lexer": "ipython3",
   "version": "3.9.13"
  }
 },
 "nbformat": 4,
 "nbformat_minor": 5
}
