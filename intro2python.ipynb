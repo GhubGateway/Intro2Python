{
 "cells": [
  {
   "cell_type": "markdown",
   "metadata": {},
   "source": [
    "# Welcome to Python!"
   ]
  },
  {
   "cell_type": "markdown",
   "metadata": {},
   "source": [
    "**Python** is a **widely used language** within the science community and outside of it. During this course module, you will get an introduction to the basics of Python and complete exercises along the way."
   ]
  },
  {
   "cell_type": "markdown",
   "metadata": {},
   "source": [
    "<img src=\"https://miro.medium.com/v2/resize:fit:1400/format:webp/1*Ud_bNdeWPf4iN1EcydaDFA.png\" width=\"400\">"
   ]
  },
  {
   "cell_type": "markdown",
   "metadata": {},
   "source": [
    "## Module Overview"
   ]
  },
  {
   "cell_type": "markdown",
   "metadata": {},
   "source": [
    "1. [**Data types**](data/DataTypes.ipynb)\n",
    "\n",
    "2. [**Reading and writing code**](data/UnderstandingCode.ipynb)\n",
    "\n",
    "3. [**Loops**](data/Loops.ipynb)\n",
    "\n",
    "4. [**Conditionals**](data/Conditionals.ipynb)\n",
    "\n",
    "5. [**Introduction to functions**](data/Introduction2Functions.ipynb)\n",
    "\n",
    "6. [**Creating functions**](data/CreatingFunctions.ipynb)\n",
    "\n",
    "7. [**Creating figures**](data/Figures.ipynb)\n",
    "\n",
    "8. [**Reading and using text files**](data/TextFiles.ipynb)\n",
    "\n",
    "9. [**Creating multidimensional arrays**](data/MultiDarrays.ipynb)\n",
    "\n",
    "10. [**Opening and using netCDF files**](data/NetCDFs.ipynb)\n",
    "\n",
    "11. [**Creating maps using cartopy**](data/Maps.ipynb)"
   ]
  },
  {
   "cell_type": "markdown",
   "metadata": {},
   "source": [
    "## What is Python?"
   ]
  },
  {
   "cell_type": "markdown",
   "metadata": {},
   "source": [
    "[**Python**](https://www.python.org/) is a computer programming language that has <ins>many</ins> uses, such as:\n",
    "\n",
    "* **software and web development**\n",
    "* **machine learning**\n",
    "* **data analysis**\n",
    "\n",
    "Because of its wide variability, Python has become one of the most popular programming languages used among developers, scientists, and more."
   ]
  },
  {
   "cell_type": "markdown",
   "metadata": {},
   "source": [
    "## Downloading Python"
   ]
  },
  {
   "cell_type": "markdown",
   "metadata": {},
   "source": [
    "There are different ways to download Python, but one of the most popular platforms is [**Anaconda**](https://www.anaconda.com/). **Anaconda** is open source, user-friendly, and trusted. <ins>**It houses many open source data science libraries like jupyter, SciPy, NumPy, and more**</ins>.\n",
    "\n",
    "**Anaconda** can be dowloaded to your local machine using [**this link**](https://www.anaconda.com/download). You will have to download the appropriate package depending on your operating system (e.g. Windows, macOS, Linux). <ins>**Anaconda installation documentation**</ins> can be found [**here**](https://docs.anaconda.com/free/anaconda/install/index.html).\n",
    "\n",
    "However, in these notebooks you don't need to download anything! You can also use the tools provided on Ghub to start the Jupyter notebook server in the \"notebooks\" directory of your home directory. See [**Jupyter Notebooks**](https://theghub.org/resources?alias=jupyter6deb10) or [**Jupyter Lab**](https://theghub.org/resources/4913) to open these tools."
   ]
  },
  {
   "cell_type": "code",
   "execution_count": null,
   "metadata": {},
   "outputs": [],
   "source": []
  }
 ],
 "metadata": {
  "kernelspec": {
   "display_name": "Python 3 (ipykernel)",
   "language": "python",
   "name": "python3"
  },
  "language_info": {
   "codemirror_mode": {
    "name": "ipython",
    "version": 3
   },
   "file_extension": ".py",
   "mimetype": "text/x-python",
   "name": "python",
   "nbconvert_exporter": "python",
   "pygments_lexer": "ipython3",
   "version": "3.8.10"
  }
 },
 "nbformat": 4,
 "nbformat_minor": 5
}
