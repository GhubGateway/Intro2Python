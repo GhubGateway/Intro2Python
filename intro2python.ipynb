{
 "cells": [
  {
   "cell_type": "markdown",
   "metadata": {},
   "source": [
    "# Welcome to the Intro2Python Repository!"
   ]
  },
  {
   "cell_type": "markdown",
   "metadata": {},
   "source": [
    "Welcome to the Intro2Python Repository! This resource is designed to help you grasp the basics of the python programming language and apply geological data analysis. Whether you're a student, a professional, or someone interested in seeing how python can be used to make tasks easier, this repository provides a comprehensive introduction to Python tailored to your needs.\n",
    "\n",
    "**Before you begin:** there are many IDEs (Integrated Development Environments) available to develop python code (tools, workflows, analyses, interfaces, etc) including [Spyder](https://www.spyder-ide.org/), [PyCharm](https://www.jetbrains.com/pycharm/), and the IDE we use at Ghub, [Jupyter](https://jupyter.org/). If you have a preferred IDE that you use on your own personal computer, you can simply clone this repository using the command below (see \"Getting Started\"). \n",
    "\n",
    "However, ***if you would like to use Ghub's built-in development environment linked to your personal Ghub account*** (which is what we recommend for folks just starting out), first log in to your Ghub account and then launch either the [Jupyter Notebooks](https://theghub.org/resources?alias=jupyter6deb10) tool in Ghub or the [Jupyter Lab](https://theghub.org/resources/4913) tool, both of which will direct you to your personalized virtual environment on Ghub (note: both tools accomplish the same thing, the main difference is simply the user interface layout, so go with whichever one you like the best).\n",
    "\n",
    "Following the instructions in the initial slides (Presentation 0), clone the Intro2Python Repository (see command in the \"Getting Started\" section below) into your own environment. The Intro2Python tool hosted on Ghub is not editable (i.e., you can make changes while it's open but those changes won't be saved), so we recommend bringing a copy of the tool into your own environment so you can save your edits to the code as you go through the exercises."
   ]
  },
  {
   "cell_type": "markdown",
   "metadata": {},
   "source": [
    "# Why Python?"
   ]
  },
  {
   "cell_type": "markdown",
   "metadata": {},
   "source": [
    "Python is a versatile and user-friendly programming language widely used in scientific research. For geologists, Python offers powerful tools for:\n",
    "\n",
    "__**Data Analysis**__: Efficiently manage, analyze, and visualize geological data.\n",
    "\n",
    "__**Automation**__: Streamline repetitive tasks and workflows to save time and reduce errors.\n",
    "\n",
    "__**Modeling and Simulation**__: Implement geological models and simulations with ease.\n",
    "\n",
    "__**Geospatial Analysis**__: Handle spatial data and perform GIS analysis with specialized libraries."
   ]
  },
  {
   "cell_type": "markdown",
   "metadata": {},
   "source": [
    "# Who Can Benefit?"
   ]
  },
  {
   "cell_type": "markdown",
   "metadata": {},
   "source": [
    "This course is designed for a wide range of individuals:\n",
    "\n",
    "__**Students**__: Gain a strong foundation in Python programming and data analysis techniques relevant to geology.\n",
    "\n",
    "__**Professional Geologists**__: Enhance your skill set with powerful tools for data management and analysis.\n",
    "\n",
    "__**Researchers**__: Apply Python to streamline your research processes and explore new analytical methods.\n",
    "\n",
    "__**Enthusiasts**__: Discover how programming can be used to solve geological problems and gain insights from data."
   ]
  },
  {
   "cell_type": "markdown",
   "metadata": {},
   "source": [
    "# What You'll Learn"
   ]
  },
  {
   "cell_type": "markdown",
   "metadata": {},
   "source": [
    "In this repository, you'll find tutorials and examples covering essential Python functionalities that are crucial for beginners, along with specialized skills tailored specifically to data analysis in geology.\n",
    "\n",
    "[Data Types](data/DataTypes.ipynb) - This notebook introduces the fundamental data types in Python, including integers, floats, strings, and booleans. \n",
    "\n",
    "[Understanding Code](data/UnderstandingCode.ipynb) - This notebook is designed to help you develop the skills needed to read and understand Python code.\n",
    "\n",
    "[Loops](data/Loops.ipynb) - This notebook explores the use of loops in Python, including for and while loops. \n",
    "\n",
    "[Conditionals](data/Conditionals.ipynb)  - This notebook covers the use of conditional statements in Python, including if, elif, and else. \n",
    "\n",
    "[Introduction to functions](data/Introduction2Functions.ipynb) - This notebook provides an introduction to functions in Python. \n",
    "\n",
    "[Creating Functions](data/CreatingFunctions.ipynb) - This notebook dives into creating your own functions in Python. \n",
    "\n",
    "[CSVs](data/CSVs.ipynb) - This notebook covers handling CSV text files in Python. \n",
    "\n",
    "[Pandas](data/Pandas.ipynb) - This notebook introduces the Pandas library, a powerful tool for data manipulation and analysis in Python.\n",
    "\n",
    "[Figures](data/Figures.ipynb) - This notebook covers the creation and customization of figures using the Matplotlib library in Python.\n",
    "\n",
    "[Multi-dimension Arrays](data/MultiDarrays.ipynb) - This notebook introduces multi-dimensional arrays using the NumPy library in Python. \n",
    "\n",
    "[NetCDFs](data/NetCDFs.ipynb) - This notebook covers working with NetCDF files, which are commonly used for storing multi-dimensional scientific data. \n",
    "\n",
    "[Cartopy](data/Cartopy.ipynb) - This notebook covers creating and visualizing maps using Python libraries.\n",
    "\n",
    "[Geopandas and RioXarray](data/geopandas.ipynb) - This notebook introduces the GeoPandas library - which extends Pandas to handle spatial data - and the RioXarray library.\n",
    "\n",
    "[Scipy/SciKit](data/ScipySciKit.ipynb) - This notebook introduces the SciPy and SciKit-Learn libraries, essential tools for scientific computing and machine learning in Python. "
   ]
  },
  {
   "cell_type": "markdown",
   "metadata": {},
   "source": [
    "# Prerequisites"
   ]
  },
  {
   "cell_type": "markdown",
   "metadata": {},
   "source": [
    "To run the notebooks in your own environment (i.e., not using Ghub's automated environment), you'll need to have Python and Jupyter installed. You can install them using Anaconda, a distribution that includes Python and many common libraries in one package.\n",
    "\n",
    "Download and install Anaconda from [here](https://www.anaconda.com/download)."
   ]
  },
  {
   "cell_type": "markdown",
   "id": "88d2ed90",
   "metadata": {},
   "source": [
    "If you are running this notbook in Ghub, then you don't need to do anything! Simply log in to your account on Ghub and follow the \"Getting Started\" directions below and/or in the initial slides (Presentation 0)."
   ]
  },
  {
   "cell_type": "markdown",
   "metadata": {},
   "source": [
    "# Getting Started"
   ]
  },
  {
   "cell_type": "markdown",
   "metadata": {},
   "source": [
    "To begin, clone this repository and follow the step-by-step tutorials. Each section includes code examples, detailed explanations, and exercises to practice your skills.\n",
    "\n",
    "Note: for new users, to clone this repository you must open a new \"terminal\" window which, in Jupyter Notebooks can be found in the \"New\" dropdown menu. For Jupyter Lab, you can open a new Terminal window by directing to the \"File\" dropdown --> \"New\" dropdown --> \"Terminal\". Then simply copy + paste the command below into the terminal and hit enter.\n",
    "\n",
    "*be sure to copy everything except the hashtag at the beginning of the code, a hashtag is used to comment out python code similar to how a percent sign is used in Matlab to embed comments in the code*"
   ]
  },
  {
   "cell_type": "code",
   "execution_count": null,
   "metadata": {},
   "outputs": [],
   "source": [
    "#!git clone https://github.com/GhubGateway/Intro2Python.git\n"
   ]
  }
 ],
 "metadata": {
  "kernelspec": {
   "display_name": "Python 3 (ipykernel)",
   "language": "python",
   "name": "python3"
  },
  "language_info": {
   "codemirror_mode": {
    "name": "ipython",
    "version": 3
   },
   "file_extension": ".py",
   "mimetype": "text/x-python",
   "name": "python",
   "nbconvert_exporter": "python",
   "pygments_lexer": "ipython3",
   "version": "3.8.15"
  }
 },
 "nbformat": 4,
 "nbformat_minor": 5
}
