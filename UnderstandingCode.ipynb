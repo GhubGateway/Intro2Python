{
 "cells": [
  {
   "cell_type": "markdown",
   "id": "92ea2520",
   "metadata": {},
   "source": [
    "# Understanding Code"
   ]
  },
  {
   "cell_type": "markdown",
   "id": "966d6843",
   "metadata": {},
   "source": [
    "Before writing your own code, it is important to be able to read code and understand what it is doing. Now that we know [some of building blocks](VariablesandDataStructures.ipynb), we can learn the basics of understanding code."
   ]
  },
  {
   "cell_type": "markdown",
   "id": "843a52ed",
   "metadata": {},
   "source": [
    "<img src = \"https://programmerhumor.io/wp-content/uploads/2023/06/programmerhumor-io-programming-memes-425d731e384b408.png\" >"
   ]
  },
  {
   "cell_type": "markdown",
   "id": "f2923d75",
   "metadata": {},
   "source": [
    "By the end of this section, you will learn:\n",
    "* [basic Python syntax](#Python-syntax)\n",
    "* [how to read code](#Reading-code)\n",
    "* [some tips on writing your own code](#Tips-for-your-code)"
   ]
  },
  {
   "cell_type": "markdown",
   "id": "f7edd4b3",
   "metadata": {},
   "source": [
    "## Python syntax"
   ]
  },
  {
   "cell_type": "markdown",
   "id": "0a4ce6ba",
   "metadata": {},
   "source": [
    "Syntax is *extremely* important in writing code. It could make or break your code (**_literally_**)."
   ]
  },
  {
   "cell_type": "markdown",
   "id": "c20253ab",
   "metadata": {},
   "source": [
    "### Comments"
   ]
  },
  {
   "cell_type": "markdown",
   "id": "66c583e4",
   "metadata": {},
   "source": [
    "**Comments** explain what a variable is, what a function is doing, and it is morally wrong not to do so. When writing your own code, it's a good rule of thumb to have **_at least one comment per three lines of code_**."
   ]
  },
  {
   "cell_type": "markdown",
   "id": "af2a78f1",
   "metadata": {},
   "source": [
    "To make a comment, you use a ```#``` . Here is an example:"
   ]
  },
  {
   "cell_type": "code",
   "execution_count": null,
   "id": "86df108a",
   "metadata": {},
   "outputs": [],
   "source": [
    "# This is a comment stating comments are cool!"
   ]
  },
  {
   "cell_type": "markdown",
   "id": "815f6d70",
   "metadata": {},
   "source": [
    "### Indentations"
   ]
  },
  {
   "cell_type": "markdown",
   "id": "147c66ba",
   "metadata": {},
   "source": [
    "There are certain times when an **identation** is needed (ex: ```if``` statements). An example is:"
   ]
  },
  {
   "cell_type": "code",
   "execution_count": null,
   "id": "64d35539",
   "metadata": {},
   "outputs": [],
   "source": [
    "if 1 > 0.5:\n",
    "    print('yay!')"
   ]
  },
  {
   "cell_type": "markdown",
   "id": "1c0015ae",
   "metadata": {},
   "source": [
    "If there was no indentation we could get an error. Run the following example:"
   ]
  },
  {
   "cell_type": "code",
   "execution_count": null,
   "id": "c942b7f2",
   "metadata": {},
   "outputs": [],
   "source": [
    "if 1 > 0.5:\n",
    "print('yay!')"
   ]
  },
  {
   "cell_type": "markdown",
   "id": "3d33aaad",
   "metadata": {},
   "source": [
    "### ```print()```"
   ]
  },
  {
   "cell_type": "markdown",
   "id": "9c1fcd31",
   "metadata": {},
   "source": [
    "You can make a variable, however you it will not be outputted unless you use the ```print()``` function. Let's run the code below:"
   ]
  },
  {
   "cell_type": "code",
   "execution_count": null,
   "id": "24593353",
   "metadata": {},
   "outputs": [],
   "source": [
    "x = 3"
   ]
  },
  {
   "cell_type": "markdown",
   "id": "a85a02b5",
   "metadata": {},
   "source": [
    "Now let's add ```print(x)```:"
   ]
  },
  {
   "cell_type": "code",
   "execution_count": null,
   "id": "2d837de4",
   "metadata": {},
   "outputs": [],
   "source": [
    "x = 3\n",
    "print(x)"
   ]
  },
  {
   "cell_type": "markdown",
   "id": "7b967856",
   "metadata": {},
   "source": [
    "## Reading code"
   ]
  },
  {
   "cell_type": "markdown",
   "id": "93fecc60",
   "metadata": {},
   "source": [
    "When you first look at code, it can be overwhelming. We are going to break it down into bite-size pieces to better understand it.\n",
    "\n",
    "Let's break down this block of code:"
   ]
  },
  {
   "cell_type": "code",
   "execution_count": null,
   "id": "10eab87b",
   "metadata": {},
   "outputs": [],
   "source": [
    "import numpy as np\n",
    "import matplotlib.pyplot as plt\n",
    "\n",
    "# Price of cars over time\n",
    "time = np.arange(1950, 2020, 10)\n",
    "price = np.array([10000, 15000, 18500, 26800, 33500, 42700, 30500])\n",
    "\n",
    "# Graph it\n",
    "plt.figure(1)\n",
    "plt.plot(time, price,'r-')\n",
    "plt.title('Average price of cars from 1950 to 2020')\n",
    "plt.xlabel('Time')\n",
    "plt.ylabel('Price')"
   ]
  },
  {
   "cell_type": "markdown",
   "id": "182004e2",
   "metadata": {},
   "source": [
    "The **first part** is:\n",
    "\n",
    "```python\n",
    "import numpy as np\n",
    "import matplotlib.pyplot as plt\n",
    "```\n",
    "\n",
    "Numpy and Matplotlib are both library packages that are used in Python (numpy is a numerical package and Matplotlib is a data visualization package). We won't go into detail about what each has to offer but for now you should know that each has to be imported to be utilized."
   ]
  },
  {
   "cell_type": "markdown",
   "id": "0686425c",
   "metadata": {},
   "source": [
    "The **second part** is:\n",
    "```python\n",
    "# Price of cars over time\n",
    "time = np.arange(1950, 2020, 10)\n",
    "price = np.array([10000, 15000, 18500, 26800, 33500, 42700, 30500])\n",
    "```\n",
    "\n",
    "The user is making the comment \"Price of cars over time\" and creating two variables: time and price. Comments can be made by using #. The NumPy function ```arange()``` is used to create a time range from 1950 to 2020 with a 10 year interval. The NumPy function ```array()``` is used to create an array of price values."
   ]
  },
  {
   "cell_type": "markdown",
   "id": "1d65f91b",
   "metadata": {},
   "source": [
    "We'll split the **last part** in half. Let's deal with the **first three lines** :\n",
    "\n",
    "```python\n",
    "# Graph it\n",
    "plt.figure(1)\n",
    "plt.plot(time, price,'r-')\n",
    "```\n",
    "\n",
    "A comment is first made \"Graph it\" using the #. The next line is using the Matplotlib package to create a new figure where the user will plot the information. The figure is designated as 1, hence the 1 within the (). The third line is now plotting the information (previous variables made) using pylab. The first input is the x-axis, the second is the y-axis, and the third is the color of the line: red. \n",
    "\n",
    "\n",
    "The **last three lines** are as follows:\n",
    "\n",
    "```python\n",
    "plt.title('Average price of cars from 1950 to 2020')\n",
    "plt.xlabel('Time')\n",
    "plt.ylabel('Price')\n",
    "```\n",
    "\n",
    "The first line is adding a title to the graph using quotations. The second line is adding a label to the x-axis using quotations. The third line is adding a label to the y-axis using quotations."
   ]
  },
  {
   "cell_type": "markdown",
   "id": "ffc6b7ea",
   "metadata": {},
   "source": [
    "## Tips for your code"
   ]
  },
  {
   "cell_type": "markdown",
   "id": "37ce56ec",
   "metadata": {},
   "source": [
    "### Naming Variables"
   ]
  },
  {
   "cell_type": "markdown",
   "id": "a42c8a9a",
   "metadata": {},
   "source": [
    "We have the power to name our variables. This provides us the opportunity to stay organized in our code. There are some rules, however, to naming variables:\n",
    "* it must start with a letter or underscore (no numbers!)\n",
    "* can only contain letters, numbers, and underscores\n",
    "* they are case-sensitive"
   ]
  },
  {
   "cell_type": "markdown",
   "id": "61acd7c8",
   "metadata": {},
   "source": [
    "Here are examples of **_bad_** variable names:\n",
    "\n",
    "```relativehumidity_for_1999```\n",
    "\n",
    "```relhum```\n",
    "\n",
    "```data1```"
   ]
  },
  {
   "cell_type": "markdown",
   "id": "95990a5e",
   "metadata": {},
   "source": [
    "There are different ways to change these names to make them **_better_** :\n",
    "1. We can shorten it\n",
    "\n",
    "```relhum1999```\n",
    "\n",
    "2. We can make it more specific\n",
    "\n",
    "```relhum_buff```"
   ]
  },
  {
   "cell_type": "markdown",
   "id": "c7052265",
   "metadata": {},
   "source": [
    "### Commenting"
   ]
  },
  {
   "cell_type": "markdown",
   "id": "82304ea0",
   "metadata": {},
   "source": [
    "As previously mentioned, you should have **_at least one comment per three lines of code_**. Here is a good example of commenting:"
   ]
  },
  {
   "cell_type": "code",
   "execution_count": null,
   "id": "2d5a0fb6",
   "metadata": {},
   "outputs": [],
   "source": [
    "# Define two variables, each a float with a different value\n",
    "variable1 = 2742.\n",
    "variable2 = 312.\n",
    "\n",
    "# multiply the variables by each other\n",
    "product = variable1*variable2\n",
    "\n",
    "# These are three different ways of printing the variables multiplied by each\n",
    "# other!# Define two variables, each a float with a different value\n",
    "variable1 = 2742.\n",
    "variable2 = 312.\n",
    "\n",
    "# multiply the variables by each other\n",
    "product = variable1*variable2\n",
    "\n",
    "# These are three different ways of printing the variables multiplied by each\n",
    "# other!\n",
    "print(variable1*variable2)\n",
    "print(product)\n",
    "print('Product of variables = ' + str(product))\n",
    "\n",
    "# last print statement\n",
    "print('hello world')\n",
    "print(variable1*variable2)\n",
    "print(product)\n",
    "print('Product of variables = ' + str(product))\n",
    "\n",
    "# last print statement\n",
    "print('hello world')"
   ]
  },
  {
   "cell_type": "markdown",
   "id": "77bfa031",
   "metadata": {},
   "source": [
    "## Exercise"
   ]
  },
  {
   "cell_type": "markdown",
   "id": "4a5b3440",
   "metadata": {},
   "source": [
    "1. Read the following code and add comments where necessary. Give a breif explanation as to what the code is trying to accomplish."
   ]
  },
  {
   "cell_type": "code",
   "execution_count": null,
   "id": "7ebfac0f",
   "metadata": {},
   "outputs": [],
   "source": []
  }
 ],
 "metadata": {
  "kernelspec": {
   "display_name": "Python 3 (ipykernel)",
   "language": "python",
   "name": "python3"
  },
  "language_info": {
   "codemirror_mode": {
    "name": "ipython",
    "version": 3
   },
   "file_extension": ".py",
   "mimetype": "text/x-python",
   "name": "python",
   "nbconvert_exporter": "python",
   "pygments_lexer": "ipython3",
   "version": "3.9.13"
  }
 },
 "nbformat": 4,
 "nbformat_minor": 5
}
